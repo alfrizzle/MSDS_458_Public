{
 "cells": [
  {
   "cell_type": "raw",
   "metadata": {},
   "source": [
    "DATE: March 24, 2020"
   ]
  },
  {
   "cell_type": "markdown",
   "metadata": {},
   "source": [
    "## Assignment 1:\n",
    "\n",
    "In this assignment, we construct **dense neural networks** for classifying images from the `MNIST` dataset: http://yann.lecun.com/exdb/mnist/. The MNIST database consists of a set of 70,000 small (28x28 pixel) grayscale images of digits handwritten by high school students and employees of the US Census Bureau. Each image is labeled with the digit it represents. \n",
    "\n",
    ">In **EXPERIMENTS 1 to 3**, we consider `dense neural network` models with one hidden layer. We start with one node in this hidden layer and progressively increase the number of (hidden) nodes in the layer until we find the \"best\" model in Experiment 3.\n",
    "\n",
    " But our goal in these `three` experiments is *not only* to find the \"best\" `dense neural network` model with one hidden but *also* to explore what the node(s) in the hidden layer are \"detecting\" and what their outputs (i.e. `activation values`) contribute to the final classification of an image. These are examples of intrinsic `global explanations` and `local explanations` , respectively, as described in this recent survey article: \n",
    "\n",
    "https://cacm.acm.org/magazines/2020/1/241703-techniques-for-interpretable-machine-learning/fulltext\n",
    "\n",
    "To determine what the hidden node is \"detecting\" we use gradient descent to find a visual pattern that maximizes the activation value of the hidden node, i.e. the visual pattern that the hidden node is maximally responsive to. In this case, the exercise is probably not very insightful. But in `Assignment 2`  we will repeat this analysis with \"clusters of nodes\" (`convnet filters`) in `convolutional neural network` models. By the examining the patterns that each convnet filter is maximally responsive (but also by visualizing the convnet activations for particular test images) we should be able to determine what (some of) the filters in the `CCN` model are up to. The (activation values of the) hidden nodes (actually, groups of hidden nodes corresponding or *convnet filters*) can be visualized in various ways to show what \"features\" (edges, texture, etc.) of the input images they capture.\n",
    "\n",
    ">In **EXPERIMENT 4** we use PCA decomposition to reduce the number of dimensions of our training set of 28x28 dimensional MNIST images from 784 to 154 (with 95% of training images variance lying along these components). We also reduce the number of dimensions of 'best' model from `Experiment 3` to 154 inputs nodes and train it on the new lower dimensional data. \n",
    "\n",
    ">In **EXPERIMENT 5** we use a Random Forest classifier to get the relative importance of the 784 features (pixels) of the 28x28 dimensional images in training set of MNIST images and select the top 70 features (pixels). We train our 'best' `dense neural network` using these 70 features and compare its performance to the the `dense neural network` models from EXPERIMENTS 3 and 4.\n",
    "\n",
    "Here are more details for the first `three` experiments:\n",
    "\n",
    "* **EXPERIMENT 1**: Our `dense neural network` will consist of 784 input nodes, a hidden layer with `1 node` and 10 output nodes (corresponding to the 10 digits). We use `mnist.load_data()` to get the 70,000 images divided into a set of 60,000 training images and 10,000 test images. We hold back 5,000 of the 60,000 training images for validation. After training the model, we group the 60,000 `activation values` of the hidden node for the (original) set of training images by the 10 predicted classes and visualize these sets of values using a `boxplot`. We expect the overlap between the range of values in the \"boxes\" to be minimal. In addition, we find the pattern that maximally activates the hidden node as a \"warm up\" exercise for similar analysis we will perform on `CNN` models in `Assignment 2`.\n",
    "\n",
    "* **EXPERIMENT 2**: This time our `dense neural network` will have 784 input nodes, a hidden layer with `2 nodes` and 10 output nodes (corresponding to the 10 digits). For each of the 60,000 images, the output of the two hidden nodes are plotted using a `scatterplot`. We color code the points according to which of the 10 classes the the output of the two nodes predicts. Ideally, just like in `EXPERIMENT 1`, the color clusters should have very little overlap.\n",
    "\n",
    "**NOTE**: For EXPERIMENTS 1 & 2 we also perform the following additional tasks:\n",
    "> 1. We use Matplotlib to create 2 plots--displaying the training and validation loss (resp. accuracy) for each (training) epoch side by side.\n",
    "> 2. For each model we obtain the confusion matrix and use it to display sample images of true vs false positives and negatives.\n",
    "\n",
    "\n",
    "* **EXPERIMENT 3**: Students can experiment with more hidden nodes (in the hidden layer) to obtain the `best` model. This `final` model will be used in EXPERIMENTS 4 & 5.\n",
    "\n",
    "\n",
    "**References**:\n",
    "https://github.com/fchollet/deep-learning-with-python-notebooks (2.1 & 5.4)"
   ]
  },
  {
   "cell_type": "markdown",
   "metadata": {},
   "source": [
    "## Import packages needed (and set seed)\n",
    "\n",
    "Since Keras in part of TensorFlow 2.x, we import keras from tensorflow and use tenserflow.keras.xxx to import all other Keras packages. The seed argument produces a deterministic sequence of tensors across multiple calls."
   ]
  },
  {
   "cell_type": "code",
   "execution_count": 1,
   "metadata": {},
   "outputs": [
    {
     "data": {
      "text/plain": [
       "'2.2.4-tf'"
      ]
     },
     "execution_count": 1,
     "metadata": {},
     "output_type": "execute_result"
    }
   ],
   "source": [
    "import numpy as np\n",
    "import pandas as pd\n",
    "import tensorflow as tf\n",
    "from tensorflow import keras\n",
    "keras.__version__"
   ]
  },
  {
   "cell_type": "code",
   "execution_count": 2,
   "metadata": {},
   "outputs": [
    {
     "data": {
      "text/plain": [
       "'2.1.0'"
      ]
     },
     "execution_count": 2,
     "metadata": {},
     "output_type": "execute_result"
    }
   ],
   "source": [
    "tf.__version__"
   ]
  },
  {
   "cell_type": "code",
   "execution_count": 3,
   "metadata": {},
   "outputs": [],
   "source": [
    "import numpy as np\n",
    "keras.backend.clear_session()\n",
    "np.random.seed(42)\n",
    "tf.random.set_seed(42)"
   ]
  },
  {
   "cell_type": "markdown",
   "metadata": {},
   "source": [
    "## The MNIST dataset\n",
    "\n",
    "The MNIST dataset of handwritten digits has a training set of 60,000 examples, and a test set of 10,000 examples. It comes prepackaged as part of tf.Keras. Use the `mnist.load_data()` to the get these datasets (and the corresponding labels) as Numpy arrays."
   ]
  },
  {
   "cell_type": "code",
   "execution_count": 4,
   "metadata": {},
   "outputs": [],
   "source": [
    "from tensorflow.keras.datasets import mnist\n",
    "\n",
    "(train_images, train_labels), (test_images, test_labels) = mnist.load_data()"
   ]
  },
  {
   "cell_type": "markdown",
   "metadata": {},
   "source": [
    "# EXPERIMENT  3:\n",
    "\n",
    "We want to select the *best* `DNN` model subject to some the following restriction on `hyperparameters`:\n",
    "* The number of hidden layers will be one. \n",
    "\n",
    "We will use `sklearn.grid_search.GridSearchCV` to find the `best` number of neurons for the hidden layer.\n",
    "\n",
    "As before we will need 784 input nodes and 10 output nodes (corresponding to the 10 digits). We use `mnist.load_data()` to get the 70,000 images divided into a set of 60,000 training images and 10,000 test images. We hold back 5,000 of the 60,000 training images for validation. "
   ]
  },
  {
   "cell_type": "markdown",
   "metadata": {},
   "source": [
    "## Preparing the data\n",
    "\n",
    "Before training, we will preprocess our data by reshaping it into the shape that the network expects, and scaling it so that all values are in the \\[0, 1] interval.\n",
    "\n",
    "Our training images are stored in an array of shape (60000, 28, 28) of type uint8 with values in the [0, 255] interval. \n",
    "\n",
    "We transform it into a float32 array of shape (60000, 28 * 28) with values between 0 and 1."
   ]
  },
  {
   "cell_type": "code",
   "execution_count": 5,
   "metadata": {},
   "outputs": [],
   "source": [
    "train_images = train_images.reshape((60000, 28 * 28))\n",
    "train_images = train_images.astype('float32') / 255\n",
    "\n",
    "test_images = test_images.reshape((10000, 28 * 28))\n",
    "test_images = test_images.astype('float32') / 255"
   ]
  },
  {
   "cell_type": "markdown",
   "metadata": {},
   "source": [
    "## Validating our approach\n",
    "\n",
    "Since we will be using categorical_crossentropy as the loss function we need to use to_categorical to convert the class vector of lables to binary matrix representation. \n",
    "\n",
    "We set apart 5,000 samples of our training data to use as a validation set. Since we will be using `sparse_categorical_crossentropy` as the loss function we **do not** need to use `to_categorical` to convert the class vector of labels to binary matrix representation."
   ]
  },
  {
   "cell_type": "code",
   "execution_count": 6,
   "metadata": {},
   "outputs": [],
   "source": [
    "val_images, train_images = train_images[:5000], train_images[5000:] \n",
    "val_labels, train_labels = train_labels[:5000], train_labels[5000:]"
   ]
  },
  {
   "cell_type": "markdown",
   "metadata": {},
   "source": [
    "## Fine-Tuning the Hyperparameters\n",
    "\n",
    "We adapt the code from Chapter 10 of Hands-On Machine Learning with Scikit-Learn, Keras & TensorFlow by A. Geron:\n",
    "\n",
    "https://github.com/ageron/handson-ml2/blob/master/10_neural_nets_with_keras.ipynb"
   ]
  },
  {
   "cell_type": "markdown",
   "metadata": {},
   "source": [
    "See also https://learning.oreilly.com/library/view/hands-on-machine-learning/9781492032632/ch10.html. \n",
    "\n",
    "We define a `build_model` function to create a `DNN` model with a given number of hidden layers and a fixed given number of nodes per hidden layer. (What if we wanted the number of nodes to vary by layer?)"
   ]
  },
  {
   "cell_type": "code",
   "execution_count": 7,
   "metadata": {},
   "outputs": [],
   "source": [
    "from tensorflow.keras import models\n",
    "from tensorflow.keras import layers\n",
    "\n",
    "def build_model(n_hidden=1, n_neurons=2, learning_rate=0.001, input_shape=(28 * 28,)):\n",
    "    model = models.Sequential()\n",
    "    model.add(layers.InputLayer(input_shape=input_shape))\n",
    "    for layer in range(n_hidden):\n",
    "        model.add(keras.layers.Dense(n_neurons, activation=\"relu\"))\n",
    "    model.add(layers.Dense(10, activation='softmax'))\n",
    "    optimizer = keras.optimizers.RMSprop(lr=learning_rate)\n",
    "    model.compile(loss='sparse_categorical_crossentropy', optimizer=optimizer,  metrics=['accuracy'])\n",
    "    return model"
   ]
  },
  {
   "cell_type": "markdown",
   "metadata": {},
   "source": [
    "No that the `build_model` function creates a neural network with the same (*n_neurons*) number of nodes in each hidden layer. Here is the revised `build_model2` that takes a tuple `(n1,n2...)`, where the number of coordinates is the number of `hidden layers` with `n1` nodes in the first hidden layer, `n2` nodes in the second, etc."
   ]
  },
  {
   "cell_type": "code",
   "execution_count": 8,
   "metadata": {},
   "outputs": [],
   "source": [
    "def build_model2(n_neurons=(2,3), learning_rate=0.001, input_shape=(28 * 28,)):\n",
    "    model = models.Sequential()\n",
    "    model.add(layers.InputLayer(input_shape=input_shape))\n",
    "    for layer in range(len(n_neurons)):\n",
    "        model.add(keras.layers.Dense(n_neurons[layer], activation=\"relu\"))\n",
    "    model.add(layers.Dense(10, activation='softmax'))\n",
    "    optimizer = keras.optimizers.RMSprop(lr=learning_rate)\n",
    "    model.compile(loss='sparse_categorical_crossentropy', optimizer=optimizer,  metrics=['accuracy'])\n",
    "    return model"
   ]
  },
  {
   "cell_type": "markdown",
   "metadata": {},
   "source": [
    "New we a create a `KerasClassifier` object, the class is an implementation of the scikit-learn classifier API for Keras. It is actually a thin wrapper around the model that is built using our `build_model` function."
   ]
  },
  {
   "cell_type": "code",
   "execution_count": 9,
   "metadata": {},
   "outputs": [],
   "source": [
    "from tensorflow.keras.wrappers.scikit_learn import KerasClassifier\n",
    "keras_clf = KerasClassifier(build_model)"
   ]
  },
  {
   "cell_type": "markdown",
   "metadata": {},
   "source": [
    "We first consider the performance from using 1 to 100 hidden nodes, i.e. we use the following grid parameters.\n",
    "\n",
    "```python\n",
    "param_grid = {'n_neurons': range(1,100)}\n",
    "param_grid\n",
    "```\n",
    "and found that 20 hidden nodes provided the best model with a test accuracy of 95.99%. \n",
    "\n",
    "We also tried multiples of 100 from 100 up to 900. Running the test and found the 500 nodes gave the best result with an accuracy of 99.68%. We demonstrate this latter. "
   ]
  },
  {
   "cell_type": "code",
   "execution_count": 10,
   "metadata": {},
   "outputs": [
    {
     "data": {
      "text/plain": [
       "{'n_neurons': range(1, 10)}"
      ]
     },
     "execution_count": 10,
     "metadata": {},
     "output_type": "execute_result"
    }
   ],
   "source": [
    "param_grid = {'n_neurons': range(1,10)}\n",
    "param_grid"
   ]
  },
  {
   "cell_type": "code",
   "execution_count": 11,
   "metadata": {},
   "outputs": [
    {
     "name": "stdout",
     "output_type": "stream",
     "text": [
      "Fitting 3 folds for each of 9 candidates, totalling 27 fits\n",
      "[CV] n_neurons=1 .....................................................\n"
     ]
    },
    {
     "name": "stderr",
     "output_type": "stream",
     "text": [
      "[Parallel(n_jobs=1)]: Using backend SequentialBackend with 1 concurrent workers.\n"
     ]
    },
    {
     "name": "stdout",
     "output_type": "stream",
     "text": [
      "Train on 36666 samples, validate on 5000 samples\n",
      "Epoch 1/30\n",
      "36666/36666 [==============================] - 3s 82us/sample - loss: 2.0357 - accuracy: 0.2119 - val_loss: 1.9155 - val_accuracy: 0.2374\n",
      "Epoch 2/30\n",
      "36666/36666 [==============================] - 3s 79us/sample - loss: 1.8709 - accuracy: 0.2552 - val_loss: 1.8285 - val_accuracy: 0.2614\n",
      "Epoch 3/30\n",
      "36666/36666 [==============================] - 3s 73us/sample - loss: 1.8038 - accuracy: 0.2846 - val_loss: 1.7706 - val_accuracy: 0.2976\n",
      "Epoch 4/30\n",
      "36666/36666 [==============================] - 3s 75us/sample - loss: 1.7496 - accuracy: 0.3096 - val_loss: 1.7166 - val_accuracy: 0.3290\n",
      "Epoch 5/30\n",
      "36666/36666 [==============================] - 3s 73us/sample - loss: 1.7004 - accuracy: 0.3205 - val_loss: 1.6710 - val_accuracy: 0.3176\n",
      "Epoch 6/30\n",
      "36666/36666 [==============================] - 3s 73us/sample - loss: 1.6644 - accuracy: 0.3276 - val_loss: 1.6403 - val_accuracy: 0.3314\n",
      "Epoch 7/30\n",
      "36666/36666 [==============================] - 3s 73us/sample - loss: 1.6390 - accuracy: 0.3354 - val_loss: 1.6213 - val_accuracy: 0.3376\n",
      "Epoch 8/30\n",
      "36666/36666 [==============================] - 3s 73us/sample - loss: 1.6207 - accuracy: 0.3410 - val_loss: 1.6086 - val_accuracy: 0.3442\n",
      "Epoch 9/30\n",
      "36666/36666 [==============================] - 3s 72us/sample - loss: 1.6072 - accuracy: 0.3420 - val_loss: 1.5901 - val_accuracy: 0.3492\n",
      "Epoch 10/30\n",
      "36666/36666 [==============================] - 3s 74us/sample - loss: 1.5964 - accuracy: 0.3461 - val_loss: 1.5833 - val_accuracy: 0.3596\n",
      "Epoch 11/30\n",
      "36666/36666 [==============================] - 3s 74us/sample - loss: 1.5874 - accuracy: 0.3517 - val_loss: 1.5722 - val_accuracy: 0.3536\n",
      "Epoch 12/30\n",
      "36666/36666 [==============================] - 3s 75us/sample - loss: 1.5805 - accuracy: 0.3599 - val_loss: 1.5655 - val_accuracy: 0.3604\n",
      "Epoch 13/30\n",
      "36666/36666 [==============================] - 3s 75us/sample - loss: 1.5745 - accuracy: 0.3668 - val_loss: 1.5599 - val_accuracy: 0.3576\n",
      "Epoch 14/30\n",
      "36666/36666 [==============================] - 3s 75us/sample - loss: 1.5698 - accuracy: 0.3673 - val_loss: 1.5570 - val_accuracy: 0.3682\n",
      "Epoch 15/30\n",
      "36666/36666 [==============================] - 3s 75us/sample - loss: 1.5663 - accuracy: 0.3661 - val_loss: 1.5556 - val_accuracy: 0.3742\n",
      "Epoch 16/30\n",
      "36666/36666 [==============================] - 3s 76us/sample - loss: 1.5628 - accuracy: 0.3677 - val_loss: 1.5477 - val_accuracy: 0.3696\n",
      "Epoch 17/30\n",
      "36666/36666 [==============================] - 3s 75us/sample - loss: 1.5604 - accuracy: 0.3729 - val_loss: 1.5476 - val_accuracy: 0.3610\n",
      "Epoch 18/30\n",
      "36666/36666 [==============================] - 3s 76us/sample - loss: 1.5582 - accuracy: 0.3684 - val_loss: 1.5433 - val_accuracy: 0.3796\n",
      "Epoch 19/30\n",
      "36666/36666 [==============================] - 3s 76us/sample - loss: 1.5563 - accuracy: 0.3738 - val_loss: 1.5413 - val_accuracy: 0.3662\n",
      "Epoch 20/30\n",
      "36666/36666 [==============================] - 3s 74us/sample - loss: 1.5552 - accuracy: 0.3700 - val_loss: 1.5367 - val_accuracy: 0.3750\n",
      "Epoch 21/30\n",
      "36666/36666 [==============================] - 3s 75us/sample - loss: 1.5536 - accuracy: 0.3700 - val_loss: 1.5364 - val_accuracy: 0.3854\n",
      "Epoch 22/30\n",
      "36666/36666 [==============================] - 3s 76us/sample - loss: 1.5521 - accuracy: 0.3727 - val_loss: 1.5352 - val_accuracy: 0.3874\n",
      "Epoch 23/30\n",
      "36666/36666 [==============================] - 3s 76us/sample - loss: 1.5515 - accuracy: 0.3701 - val_loss: 1.5393 - val_accuracy: 0.3586\n",
      "Epoch 24/30\n",
      "36666/36666 [==============================] - 3s 75us/sample - loss: 1.5503 - accuracy: 0.3691 - val_loss: 1.5376 - val_accuracy: 0.3776\n",
      "18334/18334 [==============================] - 1s 48us/sample - loss: 1.5755 - accuracy: 0.3702\n",
      "[CV] ...................................... n_neurons=1, total= 1.1min\n",
      "[CV] n_neurons=1 .....................................................\n"
     ]
    },
    {
     "name": "stderr",
     "output_type": "stream",
     "text": [
      "[Parallel(n_jobs=1)]: Done   1 out of   1 | elapsed:  1.1min remaining:    0.0s\n"
     ]
    },
    {
     "name": "stdout",
     "output_type": "stream",
     "text": [
      "Train on 36667 samples, validate on 5000 samples\n",
      "Epoch 1/30\n",
      "36667/36667 [==============================] - 3s 85us/sample - loss: 2.0274 - accuracy: 0.2141 - val_loss: 1.9179 - val_accuracy: 0.2356\n",
      "Epoch 2/30\n",
      "36667/36667 [==============================] - 3s 72us/sample - loss: 1.8757 - accuracy: 0.2549 - val_loss: 1.8207 - val_accuracy: 0.2808\n",
      "Epoch 3/30\n",
      "36667/36667 [==============================] - 3s 74us/sample - loss: 1.8066 - accuracy: 0.2759 - val_loss: 1.7689 - val_accuracy: 0.2936\n",
      "Epoch 4/30\n",
      "36667/36667 [==============================] - 3s 72us/sample - loss: 1.7666 - accuracy: 0.2886 - val_loss: 1.7396 - val_accuracy: 0.3000\n",
      "Epoch 5/30\n",
      "36667/36667 [==============================] - 3s 72us/sample - loss: 1.7387 - accuracy: 0.2971 - val_loss: 1.7179 - val_accuracy: 0.3174\n",
      "Epoch 6/30\n",
      "36667/36667 [==============================] - 3s 73us/sample - loss: 1.7161 - accuracy: 0.3108 - val_loss: 1.6956 - val_accuracy: 0.3264\n",
      "Epoch 7/30\n",
      "36667/36667 [==============================] - 3s 73us/sample - loss: 1.6953 - accuracy: 0.3256 - val_loss: 1.6731 - val_accuracy: 0.3438\n",
      "Epoch 8/30\n",
      "36667/36667 [==============================] - 3s 74us/sample - loss: 1.6741 - accuracy: 0.3464 - val_loss: 1.6540 - val_accuracy: 0.3586\n",
      "Epoch 9/30\n",
      "36667/36667 [==============================] - 3s 74us/sample - loss: 1.6555 - accuracy: 0.3554 - val_loss: 1.6359 - val_accuracy: 0.3636\n",
      "Epoch 10/30\n",
      "36667/36667 [==============================] - 3s 73us/sample - loss: 1.6401 - accuracy: 0.3659 - val_loss: 1.6230 - val_accuracy: 0.3782\n",
      "Epoch 11/30\n",
      "36667/36667 [==============================] - 3s 75us/sample - loss: 1.6275 - accuracy: 0.3715 - val_loss: 1.6129 - val_accuracy: 0.3826\n",
      "Epoch 12/30\n",
      "36667/36667 [==============================] - 3s 75us/sample - loss: 1.6172 - accuracy: 0.3794 - val_loss: 1.6053 - val_accuracy: 0.3898\n",
      "Epoch 13/30\n",
      "36667/36667 [==============================] - 3s 74us/sample - loss: 1.6098 - accuracy: 0.3841 - val_loss: 1.6036 - val_accuracy: 0.3888\n",
      "Epoch 14/30\n",
      "36667/36667 [==============================] - 3s 74us/sample - loss: 1.6028 - accuracy: 0.3896 - val_loss: 1.5937 - val_accuracy: 0.4014\n",
      "Epoch 15/30\n",
      "36667/36667 [==============================] - 3s 73us/sample - loss: 1.5981 - accuracy: 0.3902 - val_loss: 1.5893 - val_accuracy: 0.3910\n",
      "Epoch 16/30\n",
      "36667/36667 [==============================] - 3s 73us/sample - loss: 1.5944 - accuracy: 0.3926 - val_loss: 1.5840 - val_accuracy: 0.3986\n",
      "Epoch 17/30\n",
      "36667/36667 [==============================] - 3s 73us/sample - loss: 1.5904 - accuracy: 0.3943 - val_loss: 1.5812 - val_accuracy: 0.4000\n",
      "Epoch 18/30\n",
      "36667/36667 [==============================] - 3s 73us/sample - loss: 1.5880 - accuracy: 0.3959 - val_loss: 1.5796 - val_accuracy: 0.4096\n",
      "Epoch 19/30\n",
      "36667/36667 [==============================] - 3s 73us/sample - loss: 1.5849 - accuracy: 0.3955 - val_loss: 1.5770 - val_accuracy: 0.4066\n",
      "Epoch 20/30\n",
      "36667/36667 [==============================] - 3s 73us/sample - loss: 1.5834 - accuracy: 0.3992 - val_loss: 1.5761 - val_accuracy: 0.4018\n",
      "Epoch 21/30\n",
      "36667/36667 [==============================] - 3s 72us/sample - loss: 1.5819 - accuracy: 0.3979 - val_loss: 1.5720 - val_accuracy: 0.4144\n",
      "Epoch 22/30\n",
      "36667/36667 [==============================] - 3s 74us/sample - loss: 1.5799 - accuracy: 0.3983 - val_loss: 1.5690 - val_accuracy: 0.4160\n",
      "Epoch 23/30\n",
      "36667/36667 [==============================] - 3s 74us/sample - loss: 1.5781 - accuracy: 0.4003 - val_loss: 1.5696 - val_accuracy: 0.4088\n",
      "Epoch 24/30\n",
      "36667/36667 [==============================] - 3s 72us/sample - loss: 1.5767 - accuracy: 0.4012 - val_loss: 1.5684 - val_accuracy: 0.4134\n",
      "Epoch 25/30\n",
      "36667/36667 [==============================] - 3s 73us/sample - loss: 1.5748 - accuracy: 0.4014 - val_loss: 1.5712 - val_accuracy: 0.4146\n",
      "Epoch 26/30\n",
      "36667/36667 [==============================] - 3s 74us/sample - loss: 1.5750 - accuracy: 0.4027 - val_loss: 1.5679 - val_accuracy: 0.4192\n",
      "Epoch 27/30\n",
      "36667/36667 [==============================] - 3s 74us/sample - loss: 1.5735 - accuracy: 0.4028 - val_loss: 1.5780 - val_accuracy: 0.4022\n",
      "Epoch 28/30\n",
      "36667/36667 [==============================] - 3s 73us/sample - loss: 1.5722 - accuracy: 0.4037 - val_loss: 1.5644 - val_accuracy: 0.4138\n",
      "Epoch 29/30\n",
      "36667/36667 [==============================] - 3s 73us/sample - loss: 1.5714 - accuracy: 0.4012 - val_loss: 1.5648 - val_accuracy: 0.4120\n",
      "Epoch 30/30\n",
      "36667/36667 [==============================] - 3s 72us/sample - loss: 1.5705 - accuracy: 0.4032 - val_loss: 1.5698 - val_accuracy: 0.4126\n",
      "18333/18333 [==============================] - 1s 44us/sample - loss: 1.5764 - accuracy: 0.3969\n",
      "[CV] ...................................... n_neurons=1, total= 1.4min\n",
      "[CV] n_neurons=1 .....................................................\n",
      "Train on 36667 samples, validate on 5000 samples\n",
      "Epoch 1/30\n",
      "36667/36667 [==============================] - 3s 82us/sample - loss: 2.0350 - accuracy: 0.2317 - val_loss: 1.9329 - val_accuracy: 0.2484\n",
      "Epoch 2/30\n",
      "36667/36667 [==============================] - 3s 72us/sample - loss: 1.8832 - accuracy: 0.2692 - val_loss: 1.8255 - val_accuracy: 0.2804\n",
      "Epoch 3/30\n",
      "36667/36667 [==============================] - 3s 72us/sample - loss: 1.8106 - accuracy: 0.2811 - val_loss: 1.7813 - val_accuracy: 0.2988\n",
      "Epoch 4/30\n",
      "36667/36667 [==============================] - 3s 72us/sample - loss: 1.7690 - accuracy: 0.3000 - val_loss: 1.7417 - val_accuracy: 0.3010\n",
      "Epoch 5/30\n",
      "36667/36667 [==============================] - 3s 74us/sample - loss: 1.7398 - accuracy: 0.3055 - val_loss: 1.7179 - val_accuracy: 0.3096\n",
      "Epoch 6/30\n",
      "36667/36667 [==============================] - 3s 73us/sample - loss: 1.7181 - accuracy: 0.3128 - val_loss: 1.7020 - val_accuracy: 0.3092\n",
      "Epoch 7/30\n",
      "36667/36667 [==============================] - 3s 73us/sample - loss: 1.6994 - accuracy: 0.3189 - val_loss: 1.6881 - val_accuracy: 0.3158\n",
      "Epoch 8/30\n",
      "36667/36667 [==============================] - 3s 72us/sample - loss: 1.6843 - accuracy: 0.3251 - val_loss: 1.6700 - val_accuracy: 0.3194\n",
      "Epoch 9/30\n",
      "36667/36667 [==============================] - 3s 73us/sample - loss: 1.6711 - accuracy: 0.3283 - val_loss: 1.6586 - val_accuracy: 0.3152\n",
      "Epoch 10/30\n",
      "36667/36667 [==============================] - 3s 73us/sample - loss: 1.6618 - accuracy: 0.3315 - val_loss: 1.6481 - val_accuracy: 0.3316\n",
      "Epoch 11/30\n",
      "36667/36667 [==============================] - 3s 72us/sample - loss: 1.6532 - accuracy: 0.3335 - val_loss: 1.6390 - val_accuracy: 0.3332\n",
      "Epoch 12/30\n",
      "36667/36667 [==============================] - 3s 72us/sample - loss: 1.6463 - accuracy: 0.3356 - val_loss: 1.6331 - val_accuracy: 0.3406\n",
      "Epoch 13/30\n",
      "36667/36667 [==============================] - 3s 72us/sample - loss: 1.6407 - accuracy: 0.3429 - val_loss: 1.6265 - val_accuracy: 0.3282\n",
      "Epoch 14/30\n",
      "36667/36667 [==============================] - 3s 72us/sample - loss: 1.6357 - accuracy: 0.3419 - val_loss: 1.6219 - val_accuracy: 0.3392\n",
      "Epoch 15/30\n",
      "36667/36667 [==============================] - 3s 73us/sample - loss: 1.6313 - accuracy: 0.3437 - val_loss: 1.6169 - val_accuracy: 0.3446\n",
      "Epoch 16/30\n",
      "36667/36667 [==============================] - 3s 72us/sample - loss: 1.6278 - accuracy: 0.3464 - val_loss: 1.6176 - val_accuracy: 0.3414\n",
      "Epoch 17/30\n",
      "36667/36667 [==============================] - 3s 73us/sample - loss: 1.6249 - accuracy: 0.3462 - val_loss: 1.6126 - val_accuracy: 0.3516\n",
      "Epoch 18/30\n",
      "36667/36667 [==============================] - 3s 72us/sample - loss: 1.6224 - accuracy: 0.3502 - val_loss: 1.6083 - val_accuracy: 0.3498\n",
      "Epoch 19/30\n",
      "36667/36667 [==============================] - 3s 74us/sample - loss: 1.6188 - accuracy: 0.3520 - val_loss: 1.6067 - val_accuracy: 0.3528\n",
      "Epoch 20/30\n",
      "36667/36667 [==============================] - 3s 71us/sample - loss: 1.6173 - accuracy: 0.3523 - val_loss: 1.6000 - val_accuracy: 0.3430\n",
      "Epoch 21/30\n",
      "36667/36667 [==============================] - 3s 71us/sample - loss: 1.6153 - accuracy: 0.3517 - val_loss: 1.6052 - val_accuracy: 0.3444\n",
      "Epoch 22/30\n",
      "36667/36667 [==============================] - 3s 73us/sample - loss: 1.6132 - accuracy: 0.3536 - val_loss: 1.5990 - val_accuracy: 0.3570\n",
      "Epoch 23/30\n"
     ]
    },
    {
     "name": "stdout",
     "output_type": "stream",
     "text": [
      "36667/36667 [==============================] - 3s 71us/sample - loss: 1.6117 - accuracy: 0.3541 - val_loss: 1.6025 - val_accuracy: 0.3560\n",
      "Epoch 24/30\n",
      "36667/36667 [==============================] - 3s 72us/sample - loss: 1.6099 - accuracy: 0.3559 - val_loss: 1.5978 - val_accuracy: 0.3528\n",
      "Epoch 25/30\n",
      "36667/36667 [==============================] - 3s 71us/sample - loss: 1.6083 - accuracy: 0.3560 - val_loss: 1.5939 - val_accuracy: 0.3432\n",
      "Epoch 26/30\n",
      "36667/36667 [==============================] - 3s 71us/sample - loss: 1.6070 - accuracy: 0.3575 - val_loss: 1.5959 - val_accuracy: 0.3456\n",
      "Epoch 27/30\n",
      "36667/36667 [==============================] - 3s 72us/sample - loss: 1.6053 - accuracy: 0.3561 - val_loss: 1.5931 - val_accuracy: 0.3538\n",
      "Epoch 28/30\n",
      "36667/36667 [==============================] - 3s 71us/sample - loss: 1.6048 - accuracy: 0.3566 - val_loss: 1.5948 - val_accuracy: 0.3660\n",
      "Epoch 29/30\n",
      "36667/36667 [==============================] - 3s 72us/sample - loss: 1.6033 - accuracy: 0.3593 - val_loss: 1.5868 - val_accuracy: 0.3630\n",
      "Epoch 30/30\n",
      "36667/36667 [==============================] - 3s 72us/sample - loss: 1.6028 - accuracy: 0.3574 - val_loss: 1.5899 - val_accuracy: 0.3666\n",
      "18333/18333 [==============================] - 1s 43us/sample - loss: 1.6180 - accuracy: 0.3559\n",
      "[CV] ...................................... n_neurons=1, total= 1.3min\n",
      "[CV] n_neurons=2 .....................................................\n",
      "Train on 36666 samples, validate on 5000 samples\n",
      "Epoch 1/30\n",
      "36666/36666 [==============================] - 3s 87us/sample - loss: 1.7595 - accuracy: 0.3182 - val_loss: 1.5168 - val_accuracy: 0.3850\n",
      "Epoch 2/30\n",
      "36666/36666 [==============================] - 3s 77us/sample - loss: 1.4440 - accuracy: 0.4306 - val_loss: 1.3792 - val_accuracy: 0.4606\n",
      "Epoch 3/30\n",
      "36666/36666 [==============================] - 3s 78us/sample - loss: 1.3217 - accuracy: 0.5003 - val_loss: 1.2786 - val_accuracy: 0.5272\n",
      "Epoch 4/30\n",
      "36666/36666 [==============================] - 3s 76us/sample - loss: 1.2227 - accuracy: 0.5549 - val_loss: 1.1970 - val_accuracy: 0.5758\n",
      "Epoch 5/30\n",
      "36666/36666 [==============================] - 3s 75us/sample - loss: 1.1523 - accuracy: 0.5985 - val_loss: 1.1467 - val_accuracy: 0.6120\n",
      "Epoch 6/30\n",
      "36666/36666 [==============================] - 3s 77us/sample - loss: 1.1081 - accuracy: 0.6253 - val_loss: 1.1126 - val_accuracy: 0.6350\n",
      "Epoch 7/30\n",
      "36666/36666 [==============================] - 3s 77us/sample - loss: 1.0831 - accuracy: 0.6394 - val_loss: 1.1005 - val_accuracy: 0.6346\n",
      "Epoch 8/30\n",
      "36666/36666 [==============================] - 3s 77us/sample - loss: 1.0669 - accuracy: 0.6476 - val_loss: 1.0878 - val_accuracy: 0.6378\n",
      "Epoch 9/30\n",
      "36666/36666 [==============================] - 3s 76us/sample - loss: 1.0567 - accuracy: 0.6502 - val_loss: 1.0841 - val_accuracy: 0.6636\n",
      "Epoch 10/30\n",
      "36666/36666 [==============================] - 3s 76us/sample - loss: 1.0500 - accuracy: 0.6566 - val_loss: 1.0742 - val_accuracy: 0.6606\n",
      "Epoch 11/30\n",
      "36666/36666 [==============================] - 3s 76us/sample - loss: 1.0447 - accuracy: 0.6579 - val_loss: 1.0698 - val_accuracy: 0.6674\n",
      "Epoch 12/30\n",
      "36666/36666 [==============================] - 3s 79us/sample - loss: 1.0403 - accuracy: 0.6627 - val_loss: 1.0666 - val_accuracy: 0.6662\n",
      "Epoch 13/30\n",
      "36666/36666 [==============================] - 3s 78us/sample - loss: 1.0364 - accuracy: 0.6646 - val_loss: 1.0634 - val_accuracy: 0.6692\n",
      "Epoch 14/30\n",
      "36666/36666 [==============================] - 3s 77us/sample - loss: 1.0343 - accuracy: 0.6663 - val_loss: 1.0626 - val_accuracy: 0.6696\n",
      "Epoch 15/30\n",
      "36666/36666 [==============================] - 3s 78us/sample - loss: 1.0331 - accuracy: 0.6675 - val_loss: 1.0602 - val_accuracy: 0.6708\n",
      "Epoch 16/30\n",
      "36666/36666 [==============================] - 3s 76us/sample - loss: 1.0309 - accuracy: 0.6698 - val_loss: 1.0600 - val_accuracy: 0.6756\n",
      "Epoch 17/30\n",
      "36666/36666 [==============================] - 3s 76us/sample - loss: 1.0289 - accuracy: 0.6706 - val_loss: 1.0699 - val_accuracy: 0.6748\n",
      "Epoch 18/30\n",
      "36666/36666 [==============================] - 3s 77us/sample - loss: 1.0284 - accuracy: 0.6719 - val_loss: 1.0662 - val_accuracy: 0.6690\n",
      "18334/18334 [==============================] - 1s 44us/sample - loss: 1.0904 - accuracy: 0.6440\n",
      "[CV] ...................................... n_neurons=2, total=  52.2s\n",
      "[CV] n_neurons=2 .....................................................\n",
      "Train on 36667 samples, validate on 5000 samples\n",
      "Epoch 1/30\n",
      "36667/36667 [==============================] - 3s 87us/sample - loss: 1.6743 - accuracy: 0.3810 - val_loss: 1.4497 - val_accuracy: 0.4358\n",
      "Epoch 2/30\n",
      "36667/36667 [==============================] - 3s 76us/sample - loss: 1.3500 - accuracy: 0.4717 - val_loss: 1.2761 - val_accuracy: 0.5104\n",
      "Epoch 3/30\n",
      "36667/36667 [==============================] - 3s 77us/sample - loss: 1.2288 - accuracy: 0.5332 - val_loss: 1.1903 - val_accuracy: 0.5582\n",
      "Epoch 4/30\n",
      "36667/36667 [==============================] - 3s 77us/sample - loss: 1.1698 - accuracy: 0.5637 - val_loss: 1.1509 - val_accuracy: 0.5822\n",
      "Epoch 5/30\n",
      "36667/36667 [==============================] - 3s 77us/sample - loss: 1.1353 - accuracy: 0.5866 - val_loss: 1.1280 - val_accuracy: 0.5932\n",
      "Epoch 6/30\n",
      "36667/36667 [==============================] - 3s 75us/sample - loss: 1.1087 - accuracy: 0.6096 - val_loss: 1.0981 - val_accuracy: 0.6288\n",
      "Epoch 7/30\n",
      "36667/36667 [==============================] - 3s 77us/sample - loss: 1.0823 - accuracy: 0.6324 - val_loss: 1.0790 - val_accuracy: 0.6512\n",
      "Epoch 8/30\n",
      "36667/36667 [==============================] - 3s 76us/sample - loss: 1.0565 - accuracy: 0.6514 - val_loss: 1.0553 - val_accuracy: 0.6668\n",
      "Epoch 9/30\n",
      "36667/36667 [==============================] - 3s 77us/sample - loss: 1.0363 - accuracy: 0.6623 - val_loss: 1.0416 - val_accuracy: 0.6708\n",
      "Epoch 10/30\n",
      "36667/36667 [==============================] - 3s 77us/sample - loss: 1.0201 - accuracy: 0.6691 - val_loss: 1.0253 - val_accuracy: 0.6856\n",
      "Epoch 11/30\n",
      "36667/36667 [==============================] - 3s 75us/sample - loss: 1.0087 - accuracy: 0.6752 - val_loss: 1.0180 - val_accuracy: 0.6868\n",
      "Epoch 12/30\n",
      "36667/36667 [==============================] - 3s 78us/sample - loss: 0.9996 - accuracy: 0.6796 - val_loss: 1.0115 - val_accuracy: 0.6888\n",
      "Epoch 13/30\n",
      "36667/36667 [==============================] - 3s 76us/sample - loss: 0.9919 - accuracy: 0.6833 - val_loss: 1.0046 - val_accuracy: 0.6912\n",
      "Epoch 14/30\n",
      "36667/36667 [==============================] - 3s 75us/sample - loss: 0.9863 - accuracy: 0.6841 - val_loss: 1.0033 - val_accuracy: 0.6952\n",
      "Epoch 15/30\n",
      "36667/36667 [==============================] - 3s 75us/sample - loss: 0.9807 - accuracy: 0.6840 - val_loss: 1.0034 - val_accuracy: 0.6958\n",
      "Epoch 16/30\n",
      "36667/36667 [==============================] - 3s 78us/sample - loss: 0.9766 - accuracy: 0.6874 - val_loss: 0.9975 - val_accuracy: 0.6980\n",
      "Epoch 17/30\n",
      "36667/36667 [==============================] - 3s 76us/sample - loss: 0.9732 - accuracy: 0.6873 - val_loss: 1.0004 - val_accuracy: 0.6944\n",
      "Epoch 18/30\n",
      "36667/36667 [==============================] - 3s 76us/sample - loss: 0.9711 - accuracy: 0.6879 - val_loss: 0.9968 - val_accuracy: 0.6924\n",
      "Epoch 19/30\n",
      "36667/36667 [==============================] - 3s 77us/sample - loss: 0.9686 - accuracy: 0.6920 - val_loss: 0.9944 - val_accuracy: 0.6936\n",
      "Epoch 20/30\n",
      "36667/36667 [==============================] - 3s 75us/sample - loss: 0.9664 - accuracy: 0.6918 - val_loss: 0.9906 - val_accuracy: 0.7004\n",
      "Epoch 21/30\n",
      "36667/36667 [==============================] - 3s 77us/sample - loss: 0.9644 - accuracy: 0.6909 - val_loss: 1.0007 - val_accuracy: 0.6832\n",
      "Epoch 22/30\n",
      "36667/36667 [==============================] - 3s 76us/sample - loss: 0.9624 - accuracy: 0.6918 - val_loss: 1.0058 - val_accuracy: 0.6832\n",
      "18333/18333 [==============================] - 1s 43us/sample - loss: 1.0043 - accuracy: 0.6710\n",
      "[CV] ...................................... n_neurons=2, total= 1.1min\n",
      "[CV] n_neurons=2 .....................................................\n",
      "Train on 36667 samples, validate on 5000 samples\n",
      "Epoch 1/30\n",
      "36667/36667 [==============================] - 3s 85us/sample - loss: 1.7228 - accuracy: 0.3744 - val_loss: 1.5191 - val_accuracy: 0.4710\n",
      "Epoch 2/30\n"
     ]
    },
    {
     "name": "stdout",
     "output_type": "stream",
     "text": [
      "36667/36667 [==============================] - 3s 77us/sample - loss: 1.4448 - accuracy: 0.4900 - val_loss: 1.3546 - val_accuracy: 0.5262\n",
      "Epoch 3/30\n",
      "36667/36667 [==============================] - 3s 78us/sample - loss: 1.3292 - accuracy: 0.5229 - val_loss: 1.2680 - val_accuracy: 0.5388\n",
      "Epoch 4/30\n",
      "36667/36667 [==============================] - 3s 76us/sample - loss: 1.2616 - accuracy: 0.5435 - val_loss: 1.2204 - val_accuracy: 0.5472\n",
      "Epoch 5/30\n",
      "36667/36667 [==============================] - 3s 78us/sample - loss: 1.2246 - accuracy: 0.5511 - val_loss: 1.2015 - val_accuracy: 0.5512\n",
      "Epoch 6/30\n",
      "36667/36667 [==============================] - 3s 77us/sample - loss: 1.2027 - accuracy: 0.5592 - val_loss: 1.1791 - val_accuracy: 0.5644\n",
      "Epoch 7/30\n",
      "36667/36667 [==============================] - 3s 78us/sample - loss: 1.1864 - accuracy: 0.5709 - val_loss: 1.1739 - val_accuracy: 0.5706\n",
      "Epoch 8/30\n",
      "36667/36667 [==============================] - 3s 77us/sample - loss: 1.1728 - accuracy: 0.5802 - val_loss: 1.1581 - val_accuracy: 0.5872\n",
      "Epoch 9/30\n",
      "36667/36667 [==============================] - 3s 77us/sample - loss: 1.1588 - accuracy: 0.5919 - val_loss: 1.1449 - val_accuracy: 0.6044\n",
      "Epoch 10/30\n",
      "36667/36667 [==============================] - 3s 77us/sample - loss: 1.1470 - accuracy: 0.6029 - val_loss: 1.1351 - val_accuracy: 0.6086\n",
      "Epoch 11/30\n",
      "36667/36667 [==============================] - 3s 77us/sample - loss: 1.1365 - accuracy: 0.6079 - val_loss: 1.1352 - val_accuracy: 0.6074\n",
      "Epoch 12/30\n",
      "36667/36667 [==============================] - 3s 77us/sample - loss: 1.1273 - accuracy: 0.6151 - val_loss: 1.1203 - val_accuracy: 0.6244\n",
      "Epoch 13/30\n",
      "36667/36667 [==============================] - 3s 77us/sample - loss: 1.1183 - accuracy: 0.6230 - val_loss: 1.1110 - val_accuracy: 0.6292\n",
      "Epoch 14/30\n",
      "36667/36667 [==============================] - 3s 77us/sample - loss: 1.1099 - accuracy: 0.6270 - val_loss: 1.1063 - val_accuracy: 0.6376\n",
      "Epoch 15/30\n",
      "36667/36667 [==============================] - 3s 77us/sample - loss: 1.1027 - accuracy: 0.6307 - val_loss: 1.1015 - val_accuracy: 0.6296\n",
      "Epoch 16/30\n",
      "36667/36667 [==============================] - 3s 77us/sample - loss: 1.0962 - accuracy: 0.6339 - val_loss: 1.0933 - val_accuracy: 0.6384\n",
      "Epoch 17/30\n",
      "36667/36667 [==============================] - 3s 76us/sample - loss: 1.0906 - accuracy: 0.6383 - val_loss: 1.0919 - val_accuracy: 0.6416\n",
      "Epoch 18/30\n",
      "36667/36667 [==============================] - 3s 77us/sample - loss: 1.0867 - accuracy: 0.6387 - val_loss: 1.0863 - val_accuracy: 0.6498\n",
      "Epoch 19/30\n",
      "36667/36667 [==============================] - 3s 78us/sample - loss: 1.0822 - accuracy: 0.6405 - val_loss: 1.0959 - val_accuracy: 0.6390\n",
      "Epoch 20/30\n",
      "36667/36667 [==============================] - 3s 77us/sample - loss: 1.0790 - accuracy: 0.6416 - val_loss: 1.0905 - val_accuracy: 0.6496\n",
      "18333/18333 [==============================] - 1s 44us/sample - loss: 1.0695 - accuracy: 0.6405\n",
      "[CV] ...................................... n_neurons=2, total=  58.0s\n",
      "[CV] n_neurons=3 .....................................................\n",
      "Train on 36666 samples, validate on 5000 samples\n",
      "Epoch 1/30\n",
      "36666/36666 [==============================] - 3s 86us/sample - loss: 1.4275 - accuracy: 0.5321 - val_loss: 1.1220 - val_accuracy: 0.6754\n",
      "Epoch 2/30\n",
      "36666/36666 [==============================] - 3s 76us/sample - loss: 1.0028 - accuracy: 0.7024 - val_loss: 0.9266 - val_accuracy: 0.7282\n",
      "Epoch 3/30\n",
      "36666/36666 [==============================] - 3s 76us/sample - loss: 0.8778 - accuracy: 0.7308 - val_loss: 0.8411 - val_accuracy: 0.7482\n",
      "Epoch 4/30\n",
      "36666/36666 [==============================] - 3s 76us/sample - loss: 0.8165 - accuracy: 0.7466 - val_loss: 0.7960 - val_accuracy: 0.7640\n",
      "Epoch 5/30\n",
      "36666/36666 [==============================] - 3s 75us/sample - loss: 0.7777 - accuracy: 0.7585 - val_loss: 0.7675 - val_accuracy: 0.7686\n",
      "Epoch 6/30\n",
      "36666/36666 [==============================] - 3s 75us/sample - loss: 0.7493 - accuracy: 0.7704 - val_loss: 0.7388 - val_accuracy: 0.7894\n",
      "Epoch 7/30\n",
      "36666/36666 [==============================] - 3s 77us/sample - loss: 0.7266 - accuracy: 0.7835 - val_loss: 0.7192 - val_accuracy: 0.7944\n",
      "Epoch 8/30\n",
      "36666/36666 [==============================] - 3s 75us/sample - loss: 0.7078 - accuracy: 0.7916 - val_loss: 0.7034 - val_accuracy: 0.8046\n",
      "Epoch 9/30\n",
      "36666/36666 [==============================] - 3s 76us/sample - loss: 0.6947 - accuracy: 0.7975 - val_loss: 0.6934 - val_accuracy: 0.8014\n",
      "Epoch 10/30\n",
      "36666/36666 [==============================] - 3s 77us/sample - loss: 0.6861 - accuracy: 0.8010 - val_loss: 0.6875 - val_accuracy: 0.8076\n",
      "Epoch 11/30\n",
      "36666/36666 [==============================] - 3s 76us/sample - loss: 0.6798 - accuracy: 0.8037 - val_loss: 0.6834 - val_accuracy: 0.8098\n",
      "Epoch 12/30\n",
      "36666/36666 [==============================] - 3s 77us/sample - loss: 0.6742 - accuracy: 0.8056 - val_loss: 0.6790 - val_accuracy: 0.8104\n",
      "Epoch 13/30\n",
      "36666/36666 [==============================] - 3s 76us/sample - loss: 0.6716 - accuracy: 0.8068 - val_loss: 0.6804 - val_accuracy: 0.8112\n",
      "Epoch 14/30\n",
      "36666/36666 [==============================] - 3s 76us/sample - loss: 0.6680 - accuracy: 0.8062 - val_loss: 0.6776 - val_accuracy: 0.8100\n",
      "Epoch 15/30\n",
      "36666/36666 [==============================] - 3s 76us/sample - loss: 0.6667 - accuracy: 0.8082 - val_loss: 0.6722 - val_accuracy: 0.8112\n",
      "Epoch 16/30\n",
      "36666/36666 [==============================] - 3s 76us/sample - loss: 0.6648 - accuracy: 0.8095 - val_loss: 0.6803 - val_accuracy: 0.8122\n",
      "Epoch 17/30\n",
      "36666/36666 [==============================] - 3s 77us/sample - loss: 0.6640 - accuracy: 0.8098 - val_loss: 0.6780 - val_accuracy: 0.8114\n",
      "18334/18334 [==============================] - 1s 44us/sample - loss: 0.7084 - accuracy: 0.8010\n",
      "[CV] ...................................... n_neurons=3, total=  48.9s\n",
      "[CV] n_neurons=3 .....................................................\n",
      "Train on 36667 samples, validate on 5000 samples\n",
      "Epoch 1/30\n",
      "36667/36667 [==============================] - 3s 87us/sample - loss: 1.4352 - accuracy: 0.5355 - val_loss: 1.0921 - val_accuracy: 0.6692\n",
      "Epoch 2/30\n",
      "36667/36667 [==============================] - 3s 77us/sample - loss: 0.9904 - accuracy: 0.6766 - val_loss: 0.9114 - val_accuracy: 0.6958\n",
      "Epoch 3/30\n",
      "36667/36667 [==============================] - 3s 77us/sample - loss: 0.8911 - accuracy: 0.7016 - val_loss: 0.8522 - val_accuracy: 0.7316\n",
      "Epoch 4/30\n",
      "36667/36667 [==============================] - 3s 78us/sample - loss: 0.8455 - accuracy: 0.7182 - val_loss: 0.8237 - val_accuracy: 0.7406\n",
      "Epoch 5/30\n",
      "36667/36667 [==============================] - 3s 76us/sample - loss: 0.8141 - accuracy: 0.7288 - val_loss: 0.7944 - val_accuracy: 0.7444\n",
      "Epoch 6/30\n",
      "36667/36667 [==============================] - 3s 77us/sample - loss: 0.7915 - accuracy: 0.7372 - val_loss: 0.7732 - val_accuracy: 0.7552\n",
      "Epoch 7/30\n",
      "36667/36667 [==============================] - 3s 77us/sample - loss: 0.7739 - accuracy: 0.7453 - val_loss: 0.7574 - val_accuracy: 0.7626\n",
      "Epoch 8/30\n",
      "36667/36667 [==============================] - 3s 77us/sample - loss: 0.7608 - accuracy: 0.7493 - val_loss: 0.7498 - val_accuracy: 0.7678\n",
      "Epoch 9/30\n",
      "36667/36667 [==============================] - 3s 77us/sample - loss: 0.7489 - accuracy: 0.7560 - val_loss: 0.7428 - val_accuracy: 0.7664\n",
      "Epoch 10/30\n",
      "36667/36667 [==============================] - 3s 76us/sample - loss: 0.7399 - accuracy: 0.7585 - val_loss: 0.7301 - val_accuracy: 0.7748\n",
      "Epoch 11/30\n",
      "36667/36667 [==============================] - 3s 75us/sample - loss: 0.7329 - accuracy: 0.7597 - val_loss: 0.7263 - val_accuracy: 0.7790\n",
      "Epoch 12/30\n",
      "36667/36667 [==============================] - 3s 77us/sample - loss: 0.7265 - accuracy: 0.7650 - val_loss: 0.7252 - val_accuracy: 0.7836\n",
      "Epoch 13/30\n",
      "36667/36667 [==============================] - 3s 76us/sample - loss: 0.7207 - accuracy: 0.7678 - val_loss: 0.7177 - val_accuracy: 0.7832\n",
      "Epoch 14/30\n",
      "36667/36667 [==============================] - 3s 77us/sample - loss: 0.7163 - accuracy: 0.7677 - val_loss: 0.7127 - val_accuracy: 0.7852\n",
      "Epoch 15/30\n",
      "36667/36667 [==============================] - 3s 76us/sample - loss: 0.7119 - accuracy: 0.7692 - val_loss: 0.7123 - val_accuracy: 0.7814\n",
      "Epoch 16/30\n"
     ]
    },
    {
     "name": "stdout",
     "output_type": "stream",
     "text": [
      "36667/36667 [==============================] - 3s 78us/sample - loss: 0.7085 - accuracy: 0.7720 - val_loss: 0.7090 - val_accuracy: 0.7680\n",
      "Epoch 17/30\n",
      "36667/36667 [==============================] - 3s 78us/sample - loss: 0.7055 - accuracy: 0.7733 - val_loss: 0.7055 - val_accuracy: 0.7910\n",
      "Epoch 18/30\n",
      "36667/36667 [==============================] - 3s 78us/sample - loss: 0.7024 - accuracy: 0.7748 - val_loss: 0.7086 - val_accuracy: 0.7876\n",
      "Epoch 19/30\n",
      "36667/36667 [==============================] - 3s 78us/sample - loss: 0.7006 - accuracy: 0.7748 - val_loss: 0.7062 - val_accuracy: 0.7858\n",
      "18333/18333 [==============================] - 1s 45us/sample - loss: 0.7361 - accuracy: 0.7686\n",
      "[CV] ...................................... n_neurons=3, total=  55.1s\n",
      "[CV] n_neurons=3 .....................................................\n",
      "Train on 36667 samples, validate on 5000 samples\n",
      "Epoch 1/30\n",
      "36667/36667 [==============================] - 3s 87us/sample - loss: 1.4306 - accuracy: 0.4996 - val_loss: 1.0043 - val_accuracy: 0.6796\n",
      "Epoch 2/30\n",
      "36667/36667 [==============================] - 3s 77us/sample - loss: 0.9444 - accuracy: 0.6962 - val_loss: 0.8291 - val_accuracy: 0.7378\n",
      "Epoch 3/30\n",
      "36667/36667 [==============================] - 3s 80us/sample - loss: 0.8433 - accuracy: 0.7296 - val_loss: 0.7738 - val_accuracy: 0.7570\n",
      "Epoch 4/30\n",
      "36667/36667 [==============================] - 3s 77us/sample - loss: 0.7998 - accuracy: 0.7476 - val_loss: 0.7377 - val_accuracy: 0.7764\n",
      "Epoch 5/30\n",
      "36667/36667 [==============================] - 3s 78us/sample - loss: 0.7757 - accuracy: 0.7608 - val_loss: 0.7256 - val_accuracy: 0.7750\n",
      "Epoch 6/30\n",
      "36667/36667 [==============================] - 3s 78us/sample - loss: 0.7601 - accuracy: 0.7667 - val_loss: 0.7169 - val_accuracy: 0.7814\n",
      "Epoch 7/30\n",
      "36667/36667 [==============================] - 3s 77us/sample - loss: 0.7483 - accuracy: 0.7696 - val_loss: 0.7031 - val_accuracy: 0.7856\n",
      "Epoch 8/30\n",
      "36667/36667 [==============================] - 3s 78us/sample - loss: 0.7403 - accuracy: 0.7725 - val_loss: 0.7005 - val_accuracy: 0.7914\n",
      "Epoch 9/30\n",
      "36667/36667 [==============================] - 3s 78us/sample - loss: 0.7342 - accuracy: 0.7766 - val_loss: 0.6963 - val_accuracy: 0.7920\n",
      "Epoch 10/30\n",
      "36667/36667 [==============================] - 3s 76us/sample - loss: 0.7286 - accuracy: 0.7803 - val_loss: 0.6897 - val_accuracy: 0.7954\n",
      "Epoch 11/30\n",
      "36667/36667 [==============================] - 3s 77us/sample - loss: 0.7242 - accuracy: 0.7808 - val_loss: 0.6938 - val_accuracy: 0.7914\n",
      "Epoch 12/30\n",
      "36667/36667 [==============================] - 3s 77us/sample - loss: 0.7211 - accuracy: 0.7818 - val_loss: 0.6879 - val_accuracy: 0.7942\n",
      "Epoch 13/30\n",
      "36667/36667 [==============================] - 3s 77us/sample - loss: 0.7176 - accuracy: 0.7831 - val_loss: 0.6856 - val_accuracy: 0.7942\n",
      "Epoch 14/30\n",
      "36667/36667 [==============================] - 3s 77us/sample - loss: 0.7142 - accuracy: 0.7848 - val_loss: 0.6816 - val_accuracy: 0.7986\n",
      "Epoch 15/30\n",
      "36667/36667 [==============================] - 3s 76us/sample - loss: 0.7122 - accuracy: 0.7855 - val_loss: 0.6862 - val_accuracy: 0.7918\n",
      "Epoch 16/30\n",
      "36667/36667 [==============================] - 3s 78us/sample - loss: 0.7097 - accuracy: 0.7869 - val_loss: 0.6833 - val_accuracy: 0.8016\n",
      "18333/18333 [==============================] - 1s 42us/sample - loss: 0.7122 - accuracy: 0.7887\n",
      "[CV] ...................................... n_neurons=3, total=  46.9s\n",
      "[CV] n_neurons=4 .....................................................\n",
      "Train on 36666 samples, validate on 5000 samples\n",
      "Epoch 1/30\n",
      "36666/36666 [==============================] - 3s 87us/sample - loss: 1.1599 - accuracy: 0.6042 - val_loss: 0.7494 - val_accuracy: 0.7790\n",
      "Epoch 2/30\n",
      "36666/36666 [==============================] - 3s 79us/sample - loss: 0.7135 - accuracy: 0.7854 - val_loss: 0.6300 - val_accuracy: 0.8190\n",
      "Epoch 3/30\n",
      "36666/36666 [==============================] - 3s 77us/sample - loss: 0.6432 - accuracy: 0.8093 - val_loss: 0.5964 - val_accuracy: 0.8292\n",
      "Epoch 4/30\n",
      "36666/36666 [==============================] - 3s 78us/sample - loss: 0.6129 - accuracy: 0.8205 - val_loss: 0.5811 - val_accuracy: 0.8366\n",
      "Epoch 5/30\n",
      "36666/36666 [==============================] - 3s 77us/sample - loss: 0.5948 - accuracy: 0.8264 - val_loss: 0.5690 - val_accuracy: 0.8398\n",
      "Epoch 6/30\n",
      "36666/36666 [==============================] - 3s 79us/sample - loss: 0.5816 - accuracy: 0.8314 - val_loss: 0.5602 - val_accuracy: 0.8420\n",
      "Epoch 7/30\n",
      "36666/36666 [==============================] - 3s 78us/sample - loss: 0.5699 - accuracy: 0.8372 - val_loss: 0.5564 - val_accuracy: 0.8482\n",
      "Epoch 8/30\n",
      "36666/36666 [==============================] - 3s 79us/sample - loss: 0.5605 - accuracy: 0.8399 - val_loss: 0.5461 - val_accuracy: 0.8478\n",
      "Epoch 9/30\n",
      "36666/36666 [==============================] - 3s 78us/sample - loss: 0.5510 - accuracy: 0.8421 - val_loss: 0.5349 - val_accuracy: 0.8508\n",
      "Epoch 10/30\n",
      "36666/36666 [==============================] - 3s 78us/sample - loss: 0.5418 - accuracy: 0.8473 - val_loss: 0.5316 - val_accuracy: 0.8526\n",
      "Epoch 11/30\n",
      "36666/36666 [==============================] - 3s 78us/sample - loss: 0.5337 - accuracy: 0.8505 - val_loss: 0.5292 - val_accuracy: 0.8570\n",
      "Epoch 12/30\n",
      "36666/36666 [==============================] - 3s 78us/sample - loss: 0.5256 - accuracy: 0.8516 - val_loss: 0.5191 - val_accuracy: 0.8554\n",
      "Epoch 13/30\n",
      "36666/36666 [==============================] - 3s 77us/sample - loss: 0.5172 - accuracy: 0.8556 - val_loss: 0.5157 - val_accuracy: 0.8610\n",
      "Epoch 14/30\n",
      "36666/36666 [==============================] - 3s 77us/sample - loss: 0.5097 - accuracy: 0.8587 - val_loss: 0.5044 - val_accuracy: 0.8642\n",
      "Epoch 15/30\n",
      "36666/36666 [==============================] - 3s 78us/sample - loss: 0.5020 - accuracy: 0.8611 - val_loss: 0.4991 - val_accuracy: 0.8672\n",
      "Epoch 16/30\n",
      "36666/36666 [==============================] - 3s 77us/sample - loss: 0.4940 - accuracy: 0.8625 - val_loss: 0.4957 - val_accuracy: 0.8658\n",
      "Epoch 17/30\n",
      "36666/36666 [==============================] - 3s 77us/sample - loss: 0.4873 - accuracy: 0.8648 - val_loss: 0.4985 - val_accuracy: 0.8650\n",
      "Epoch 18/30\n",
      "36666/36666 [==============================] - 3s 78us/sample - loss: 0.4825 - accuracy: 0.8657 - val_loss: 0.4935 - val_accuracy: 0.8696\n",
      "Epoch 19/30\n",
      "36666/36666 [==============================] - 3s 77us/sample - loss: 0.4777 - accuracy: 0.8679 - val_loss: 0.4829 - val_accuracy: 0.8706\n",
      "Epoch 20/30\n",
      "36666/36666 [==============================] - 3s 78us/sample - loss: 0.4731 - accuracy: 0.8693 - val_loss: 0.4832 - val_accuracy: 0.8670\n",
      "Epoch 21/30\n",
      "36666/36666 [==============================] - 3s 78us/sample - loss: 0.4691 - accuracy: 0.8710 - val_loss: 0.4815 - val_accuracy: 0.8716\n",
      "Epoch 22/30\n",
      "36666/36666 [==============================] - 3s 77us/sample - loss: 0.4654 - accuracy: 0.8706 - val_loss: 0.4809 - val_accuracy: 0.8708\n",
      "Epoch 23/30\n",
      "36666/36666 [==============================] - 3s 77us/sample - loss: 0.4629 - accuracy: 0.8728 - val_loss: 0.4768 - val_accuracy: 0.8724\n",
      "Epoch 24/30\n",
      "36666/36666 [==============================] - 3s 79us/sample - loss: 0.4609 - accuracy: 0.8736 - val_loss: 0.4800 - val_accuracy: 0.8702\n",
      "Epoch 25/30\n",
      "36666/36666 [==============================] - 3s 77us/sample - loss: 0.4585 - accuracy: 0.8740 - val_loss: 0.4743 - val_accuracy: 0.8742\n",
      "Epoch 26/30\n",
      "36666/36666 [==============================] - 3s 78us/sample - loss: 0.4565 - accuracy: 0.8746 - val_loss: 0.4825 - val_accuracy: 0.8734\n",
      "Epoch 27/30\n",
      "36666/36666 [==============================] - 3s 78us/sample - loss: 0.4552 - accuracy: 0.8755 - val_loss: 0.4709 - val_accuracy: 0.8754\n",
      "Epoch 28/30\n",
      "36666/36666 [==============================] - 3s 78us/sample - loss: 0.4535 - accuracy: 0.8760 - val_loss: 0.4754 - val_accuracy: 0.8776\n",
      "Epoch 29/30\n",
      "36666/36666 [==============================] - 3s 78us/sample - loss: 0.4520 - accuracy: 0.8768 - val_loss: 0.4756 - val_accuracy: 0.8742\n",
      "18334/18334 [==============================] - 1s 44us/sample - loss: 0.5127 - accuracy: 0.8630\n",
      "[CV] ...................................... n_neurons=4, total= 1.4min\n",
      "[CV] n_neurons=4 .....................................................\n",
      "Train on 36667 samples, validate on 5000 samples\n",
      "Epoch 1/30\n"
     ]
    },
    {
     "name": "stdout",
     "output_type": "stream",
     "text": [
      "36667/36667 [==============================] - 3s 88us/sample - loss: 1.4128 - accuracy: 0.5363 - val_loss: 0.8691 - val_accuracy: 0.7590\n",
      "Epoch 2/30\n",
      "36667/36667 [==============================] - 3s 77us/sample - loss: 0.7739 - accuracy: 0.7707 - val_loss: 0.6898 - val_accuracy: 0.8076\n",
      "Epoch 3/30\n",
      "36667/36667 [==============================] - 3s 78us/sample - loss: 0.6773 - accuracy: 0.8005 - val_loss: 0.6468 - val_accuracy: 0.8228\n",
      "Epoch 4/30\n",
      "36667/36667 [==============================] - 3s 78us/sample - loss: 0.6401 - accuracy: 0.8144 - val_loss: 0.6183 - val_accuracy: 0.8256\n",
      "Epoch 5/30\n",
      "36667/36667 [==============================] - 3s 78us/sample - loss: 0.6164 - accuracy: 0.8225 - val_loss: 0.6006 - val_accuracy: 0.8336\n",
      "Epoch 6/30\n",
      "36667/36667 [==============================] - 3s 79us/sample - loss: 0.5993 - accuracy: 0.8270 - val_loss: 0.5864 - val_accuracy: 0.8392\n",
      "Epoch 7/30\n",
      "36667/36667 [==============================] - 3s 79us/sample - loss: 0.5851 - accuracy: 0.8310 - val_loss: 0.5772 - val_accuracy: 0.8390\n",
      "Epoch 8/30\n",
      "36667/36667 [==============================] - 3s 79us/sample - loss: 0.5734 - accuracy: 0.8351 - val_loss: 0.5697 - val_accuracy: 0.8432\n",
      "Epoch 9/30\n",
      "36667/36667 [==============================] - 3s 78us/sample - loss: 0.5647 - accuracy: 0.8377 - val_loss: 0.5726 - val_accuracy: 0.8380\n",
      "Epoch 10/30\n",
      "36667/36667 [==============================] - 3s 78us/sample - loss: 0.5569 - accuracy: 0.8391 - val_loss: 0.5584 - val_accuracy: 0.8454\n",
      "Epoch 11/30\n",
      "36667/36667 [==============================] - 3s 79us/sample - loss: 0.5511 - accuracy: 0.8415 - val_loss: 0.5511 - val_accuracy: 0.8464\n",
      "Epoch 12/30\n",
      "36667/36667 [==============================] - 3s 77us/sample - loss: 0.5458 - accuracy: 0.8435 - val_loss: 0.5557 - val_accuracy: 0.8484\n",
      "Epoch 13/30\n",
      "36667/36667 [==============================] - 3s 79us/sample - loss: 0.5419 - accuracy: 0.8448 - val_loss: 0.5402 - val_accuracy: 0.8484\n",
      "Epoch 14/30\n",
      "36667/36667 [==============================] - 3s 78us/sample - loss: 0.5366 - accuracy: 0.8474 - val_loss: 0.5407 - val_accuracy: 0.8496\n",
      "Epoch 15/30\n",
      "36667/36667 [==============================] - 3s 77us/sample - loss: 0.5327 - accuracy: 0.8486 - val_loss: 0.5413 - val_accuracy: 0.8466\n",
      "18333/18333 [==============================] - 1s 44us/sample - loss: 0.5834 - accuracy: 0.8350\n",
      "[CV] ...................................... n_neurons=4, total=  44.5s\n",
      "[CV] n_neurons=4 .....................................................\n",
      "Train on 36667 samples, validate on 5000 samples\n",
      "Epoch 1/30\n",
      "36667/36667 [==============================] - 3s 87us/sample - loss: 1.3230 - accuracy: 0.5670 - val_loss: 0.9416 - val_accuracy: 0.6970\n",
      "Epoch 2/30\n",
      "36667/36667 [==============================] - 3s 78us/sample - loss: 0.8202 - accuracy: 0.7526 - val_loss: 0.7058 - val_accuracy: 0.8012\n",
      "Epoch 3/30\n",
      "36667/36667 [==============================] - 3s 78us/sample - loss: 0.6512 - accuracy: 0.8142 - val_loss: 0.5938 - val_accuracy: 0.8316\n",
      "Epoch 4/30\n",
      "36667/36667 [==============================] - 3s 77us/sample - loss: 0.5766 - accuracy: 0.8342 - val_loss: 0.5440 - val_accuracy: 0.8444\n",
      "Epoch 5/30\n",
      "36667/36667 [==============================] - 3s 77us/sample - loss: 0.5387 - accuracy: 0.8434 - val_loss: 0.5169 - val_accuracy: 0.8546\n",
      "Epoch 6/30\n",
      "36667/36667 [==============================] - 3s 77us/sample - loss: 0.5160 - accuracy: 0.8492 - val_loss: 0.5014 - val_accuracy: 0.8568\n",
      "Epoch 7/30\n",
      "36667/36667 [==============================] - 3s 78us/sample - loss: 0.5022 - accuracy: 0.8542 - val_loss: 0.4823 - val_accuracy: 0.8582\n",
      "Epoch 8/30\n",
      "36667/36667 [==============================] - 3s 77us/sample - loss: 0.4917 - accuracy: 0.8573 - val_loss: 0.4789 - val_accuracy: 0.8656\n",
      "Epoch 9/30\n",
      "36667/36667 [==============================] - 3s 78us/sample - loss: 0.4833 - accuracy: 0.8609 - val_loss: 0.4761 - val_accuracy: 0.8680\n",
      "Epoch 10/30\n",
      "36667/36667 [==============================] - 3s 76us/sample - loss: 0.4786 - accuracy: 0.8619 - val_loss: 0.4695 - val_accuracy: 0.8664\n",
      "Epoch 11/30\n",
      "36667/36667 [==============================] - 3s 77us/sample - loss: 0.4738 - accuracy: 0.8653 - val_loss: 0.4601 - val_accuracy: 0.8728\n",
      "Epoch 12/30\n",
      "36667/36667 [==============================] - 3s 77us/sample - loss: 0.4695 - accuracy: 0.8680 - val_loss: 0.4617 - val_accuracy: 0.8696\n",
      "Epoch 13/30\n",
      "36667/36667 [==============================] - 3s 77us/sample - loss: 0.4659 - accuracy: 0.8673 - val_loss: 0.4619 - val_accuracy: 0.8688\n",
      "18333/18333 [==============================] - 1s 45us/sample - loss: 0.4603 - accuracy: 0.8639\n",
      "[CV] ...................................... n_neurons=4, total=  38.3s\n",
      "[CV] n_neurons=5 .....................................................\n",
      "Train on 36666 samples, validate on 5000 samples\n",
      "Epoch 1/30\n",
      "36666/36666 [==============================] - 3s 88us/sample - loss: 1.1521 - accuracy: 0.6519 - val_loss: 0.6949 - val_accuracy: 0.8148\n",
      "Epoch 2/30\n",
      "36666/36666 [==============================] - 3s 77us/sample - loss: 0.6088 - accuracy: 0.8294 - val_loss: 0.5123 - val_accuracy: 0.8584\n",
      "Epoch 3/30\n",
      "36666/36666 [==============================] - 3s 77us/sample - loss: 0.5089 - accuracy: 0.8546 - val_loss: 0.4580 - val_accuracy: 0.8756\n",
      "Epoch 4/30\n",
      "36666/36666 [==============================] - 3s 78us/sample - loss: 0.4656 - accuracy: 0.8660 - val_loss: 0.4361 - val_accuracy: 0.8766\n",
      "Epoch 5/30\n",
      "36666/36666 [==============================] - 3s 76us/sample - loss: 0.4382 - accuracy: 0.8727 - val_loss: 0.4137 - val_accuracy: 0.8846\n",
      "Epoch 6/30\n",
      "36666/36666 [==============================] - 3s 76us/sample - loss: 0.4196 - accuracy: 0.8789 - val_loss: 0.4016 - val_accuracy: 0.8908\n",
      "Epoch 7/30\n",
      "36666/36666 [==============================] - 3s 77us/sample - loss: 0.4067 - accuracy: 0.8834 - val_loss: 0.3963 - val_accuracy: 0.8900\n",
      "Epoch 8/30\n",
      "36666/36666 [==============================] - 3s 76us/sample - loss: 0.3965 - accuracy: 0.8870 - val_loss: 0.3843 - val_accuracy: 0.8940\n",
      "Epoch 9/30\n",
      "36666/36666 [==============================] - 3s 76us/sample - loss: 0.3890 - accuracy: 0.8886 - val_loss: 0.3875 - val_accuracy: 0.8940\n",
      "Epoch 10/30\n",
      "36666/36666 [==============================] - 3s 77us/sample - loss: 0.3829 - accuracy: 0.8906 - val_loss: 0.3799 - val_accuracy: 0.8980\n",
      "Epoch 11/30\n",
      "36666/36666 [==============================] - 3s 77us/sample - loss: 0.3767 - accuracy: 0.8930 - val_loss: 0.3802 - val_accuracy: 0.8946\n",
      "Epoch 12/30\n",
      "36666/36666 [==============================] - 3s 77us/sample - loss: 0.3726 - accuracy: 0.8949 - val_loss: 0.3816 - val_accuracy: 0.8938\n",
      "18334/18334 [==============================] - 1s 44us/sample - loss: 0.4052 - accuracy: 0.8873\n",
      "[CV] ...................................... n_neurons=5, total=  35.2s\n",
      "[CV] n_neurons=5 .....................................................\n",
      "Train on 36667 samples, validate on 5000 samples\n",
      "Epoch 1/30\n",
      "36667/36667 [==============================] - 3s 88us/sample - loss: 1.0076 - accuracy: 0.6814 - val_loss: 0.5988 - val_accuracy: 0.8284\n",
      "Epoch 2/30\n",
      "36667/36667 [==============================] - 3s 78us/sample - loss: 0.5535 - accuracy: 0.8339 - val_loss: 0.4781 - val_accuracy: 0.8608\n",
      "Epoch 3/30\n",
      "36667/36667 [==============================] - 3s 76us/sample - loss: 0.4703 - accuracy: 0.8612 - val_loss: 0.4302 - val_accuracy: 0.8776\n",
      "Epoch 4/30\n",
      "36667/36667 [==============================] - 3s 79us/sample - loss: 0.4306 - accuracy: 0.8754 - val_loss: 0.4065 - val_accuracy: 0.8856\n",
      "Epoch 5/30\n",
      "36667/36667 [==============================] - 3s 76us/sample - loss: 0.4076 - accuracy: 0.8812 - val_loss: 0.3920 - val_accuracy: 0.8864\n",
      "Epoch 6/30\n",
      "36667/36667 [==============================] - 3s 77us/sample - loss: 0.3935 - accuracy: 0.8870 - val_loss: 0.3828 - val_accuracy: 0.8932\n",
      "Epoch 7/30\n",
      "36667/36667 [==============================] - 3s 76us/sample - loss: 0.3827 - accuracy: 0.8909 - val_loss: 0.3761 - val_accuracy: 0.8954\n",
      "Epoch 8/30\n",
      "36667/36667 [==============================] - 3s 77us/sample - loss: 0.3755 - accuracy: 0.8934 - val_loss: 0.3812 - val_accuracy: 0.8948\n",
      "Epoch 9/30\n",
      "36667/36667 [==============================] - 3s 77us/sample - loss: 0.3697 - accuracy: 0.8951 - val_loss: 0.3779 - val_accuracy: 0.8930\n"
     ]
    },
    {
     "name": "stdout",
     "output_type": "stream",
     "text": [
      "18333/18333 [==============================] - 1s 44us/sample - loss: 0.4113 - accuracy: 0.8851\n",
      "[CV] ...................................... n_neurons=5, total=  26.9s\n",
      "[CV] n_neurons=5 .....................................................\n",
      "Train on 36667 samples, validate on 5000 samples\n",
      "Epoch 1/30\n",
      "36667/36667 [==============================] - 3s 88us/sample - loss: 1.0668 - accuracy: 0.6439 - val_loss: 0.6448 - val_accuracy: 0.8122\n",
      "Epoch 2/30\n",
      "36667/36667 [==============================] - 3s 78us/sample - loss: 0.5921 - accuracy: 0.8212 - val_loss: 0.5067 - val_accuracy: 0.8568\n",
      "Epoch 3/30\n",
      "36667/36667 [==============================] - 3s 79us/sample - loss: 0.5027 - accuracy: 0.8529 - val_loss: 0.4465 - val_accuracy: 0.8782\n",
      "Epoch 4/30\n",
      "36667/36667 [==============================] - 3s 79us/sample - loss: 0.4572 - accuracy: 0.8676 - val_loss: 0.4171 - val_accuracy: 0.8856\n",
      "Epoch 5/30\n",
      "36667/36667 [==============================] - 3s 79us/sample - loss: 0.4323 - accuracy: 0.8769 - val_loss: 0.4034 - val_accuracy: 0.8894\n",
      "Epoch 6/30\n",
      "36667/36667 [==============================] - 3s 78us/sample - loss: 0.4172 - accuracy: 0.8819 - val_loss: 0.3962 - val_accuracy: 0.8884\n",
      "Epoch 7/30\n",
      "36667/36667 [==============================] - 3s 78us/sample - loss: 0.4071 - accuracy: 0.8840 - val_loss: 0.3830 - val_accuracy: 0.8902\n",
      "Epoch 8/30\n",
      "36667/36667 [==============================] - 3s 79us/sample - loss: 0.3993 - accuracy: 0.8858 - val_loss: 0.3813 - val_accuracy: 0.8934\n",
      "Epoch 9/30\n",
      "36667/36667 [==============================] - 3s 78us/sample - loss: 0.3932 - accuracy: 0.8878 - val_loss: 0.3816 - val_accuracy: 0.8920\n",
      "Epoch 10/30\n",
      "36667/36667 [==============================] - 3s 78us/sample - loss: 0.3890 - accuracy: 0.8895 - val_loss: 0.3753 - val_accuracy: 0.8962\n",
      "Epoch 11/30\n",
      "36667/36667 [==============================] - 3s 78us/sample - loss: 0.3845 - accuracy: 0.8920 - val_loss: 0.3731 - val_accuracy: 0.8934\n",
      "Epoch 12/30\n",
      "36667/36667 [==============================] - 3s 79us/sample - loss: 0.3810 - accuracy: 0.8923 - val_loss: 0.3722 - val_accuracy: 0.8946\n",
      "Epoch 13/30\n",
      "36667/36667 [==============================] - 3s 78us/sample - loss: 0.3773 - accuracy: 0.8931 - val_loss: 0.3767 - val_accuracy: 0.8916\n",
      "Epoch 14/30\n",
      "36667/36667 [==============================] - 3s 79us/sample - loss: 0.3737 - accuracy: 0.8936 - val_loss: 0.3684 - val_accuracy: 0.8960\n",
      "Epoch 15/30\n",
      "36667/36667 [==============================] - 3s 79us/sample - loss: 0.3708 - accuracy: 0.8949 - val_loss: 0.3694 - val_accuracy: 0.8946\n",
      "Epoch 16/30\n",
      "36667/36667 [==============================] - 3s 79us/sample - loss: 0.3690 - accuracy: 0.8953 - val_loss: 0.3660 - val_accuracy: 0.8946\n",
      "Epoch 17/30\n",
      "36667/36667 [==============================] - 3s 78us/sample - loss: 0.3663 - accuracy: 0.8958 - val_loss: 0.3702 - val_accuracy: 0.8940\n",
      "Epoch 18/30\n",
      "36667/36667 [==============================] - 3s 77us/sample - loss: 0.3643 - accuracy: 0.8968 - val_loss: 0.3662 - val_accuracy: 0.8946\n",
      "18333/18333 [==============================] - 1s 42us/sample - loss: 0.3709 - accuracy: 0.8936\n",
      "[CV] ...................................... n_neurons=5, total=  53.2s\n",
      "[CV] n_neurons=6 .....................................................\n",
      "Train on 36666 samples, validate on 5000 samples\n",
      "Epoch 1/30\n",
      "36666/36666 [==============================] - 3s 87us/sample - loss: 1.0235 - accuracy: 0.6729 - val_loss: 0.5305 - val_accuracy: 0.8490\n",
      "Epoch 2/30\n",
      "36666/36666 [==============================] - 3s 78us/sample - loss: 0.5001 - accuracy: 0.8542 - val_loss: 0.4449 - val_accuracy: 0.8726\n",
      "Epoch 3/30\n",
      "36666/36666 [==============================] - 3s 77us/sample - loss: 0.4501 - accuracy: 0.8691 - val_loss: 0.4159 - val_accuracy: 0.8820\n",
      "Epoch 4/30\n",
      "36666/36666 [==============================] - 3s 77us/sample - loss: 0.4289 - accuracy: 0.8742 - val_loss: 0.4051 - val_accuracy: 0.8852\n",
      "Epoch 5/30\n",
      "36666/36666 [==============================] - 3s 79us/sample - loss: 0.4154 - accuracy: 0.8785 - val_loss: 0.3978 - val_accuracy: 0.8894\n",
      "Epoch 6/30\n",
      "36666/36666 [==============================] - 3s 78us/sample - loss: 0.4058 - accuracy: 0.8815 - val_loss: 0.3910 - val_accuracy: 0.8902\n",
      "Epoch 7/30\n",
      "36666/36666 [==============================] - 3s 78us/sample - loss: 0.3978 - accuracy: 0.8848 - val_loss: 0.3918 - val_accuracy: 0.8896\n",
      "Epoch 8/30\n",
      "36666/36666 [==============================] - 3s 77us/sample - loss: 0.3731 - accuracy: 0.8941 - val_loss: 0.3463 - val_accuracy: 0.9036\n",
      "Epoch 9/30\n",
      "36666/36666 [==============================] - 3s 79us/sample - loss: 0.3396 - accuracy: 0.9027 - val_loss: 0.3375 - val_accuracy: 0.9036\n",
      "Epoch 10/30\n",
      "36666/36666 [==============================] - 3s 78us/sample - loss: 0.3281 - accuracy: 0.9077 - val_loss: 0.3244 - val_accuracy: 0.9122\n",
      "Epoch 11/30\n",
      "36666/36666 [==============================] - 3s 80us/sample - loss: 0.3208 - accuracy: 0.9092 - val_loss: 0.3195 - val_accuracy: 0.9128\n",
      "Epoch 12/30\n",
      "36666/36666 [==============================] - 3s 78us/sample - loss: 0.3156 - accuracy: 0.9113 - val_loss: 0.3276 - val_accuracy: 0.9096\n",
      "Epoch 13/30\n",
      "36666/36666 [==============================] - 3s 78us/sample - loss: 0.3121 - accuracy: 0.9117 - val_loss: 0.3192 - val_accuracy: 0.9096\n",
      "Epoch 14/30\n",
      "36666/36666 [==============================] - 3s 77us/sample - loss: 0.3095 - accuracy: 0.9139 - val_loss: 0.3178 - val_accuracy: 0.9130\n",
      "Epoch 15/30\n",
      "36666/36666 [==============================] - 3s 76us/sample - loss: 0.3072 - accuracy: 0.9138 - val_loss: 0.3160 - val_accuracy: 0.9110\n",
      "Epoch 16/30\n",
      "36666/36666 [==============================] - 3s 77us/sample - loss: 0.3048 - accuracy: 0.9146 - val_loss: 0.3109 - val_accuracy: 0.9110\n",
      "Epoch 17/30\n",
      "36666/36666 [==============================] - 3s 76us/sample - loss: 0.3038 - accuracy: 0.9154 - val_loss: 0.3160 - val_accuracy: 0.9132\n",
      "Epoch 18/30\n",
      "36666/36666 [==============================] - 3s 78us/sample - loss: 0.3024 - accuracy: 0.9157 - val_loss: 0.3158 - val_accuracy: 0.9156\n",
      "18334/18334 [==============================] - 1s 42us/sample - loss: 0.3491 - accuracy: 0.9075\n",
      "[CV] ...................................... n_neurons=6, total=  52.8s\n",
      "[CV] n_neurons=6 .....................................................\n",
      "Train on 36667 samples, validate on 5000 samples\n",
      "Epoch 1/30\n",
      "36667/36667 [==============================] - 3s 94us/sample - loss: 0.8545 - accuracy: 0.7522 - val_loss: 0.4649 - val_accuracy: 0.8650\n",
      "Epoch 2/30\n",
      "36667/36667 [==============================] - 3s 77us/sample - loss: 0.4291 - accuracy: 0.8766 - val_loss: 0.3740 - val_accuracy: 0.8934\n",
      "Epoch 3/30\n",
      "36667/36667 [==============================] - 3s 79us/sample - loss: 0.3760 - accuracy: 0.8943 - val_loss: 0.3510 - val_accuracy: 0.9040\n",
      "Epoch 4/30\n",
      "36667/36667 [==============================] - 3s 78us/sample - loss: 0.3547 - accuracy: 0.9007 - val_loss: 0.3352 - val_accuracy: 0.9070\n",
      "Epoch 5/30\n",
      "36667/36667 [==============================] - 3s 78us/sample - loss: 0.3425 - accuracy: 0.9038 - val_loss: 0.3284 - val_accuracy: 0.9128\n",
      "Epoch 6/30\n",
      "36667/36667 [==============================] - 3s 78us/sample - loss: 0.3342 - accuracy: 0.9071 - val_loss: 0.3230 - val_accuracy: 0.9130\n",
      "Epoch 7/30\n",
      "36667/36667 [==============================] - 3s 78us/sample - loss: 0.3283 - accuracy: 0.9090 - val_loss: 0.3202 - val_accuracy: 0.9132\n",
      "Epoch 8/30\n",
      "36667/36667 [==============================] - 3s 77us/sample - loss: 0.3240 - accuracy: 0.9092 - val_loss: 0.3253 - val_accuracy: 0.9128\n",
      "Epoch 9/30\n",
      "36667/36667 [==============================] - 3s 78us/sample - loss: 0.3205 - accuracy: 0.9116 - val_loss: 0.3343 - val_accuracy: 0.9074\n",
      "18333/18333 [==============================] - 1s 44us/sample - loss: 0.3695 - accuracy: 0.8975\n",
      "[CV] ...................................... n_neurons=6, total=  27.4s\n",
      "[CV] n_neurons=6 .....................................................\n",
      "Train on 36667 samples, validate on 5000 samples\n",
      "Epoch 1/30\n",
      "36667/36667 [==============================] - 3s 87us/sample - loss: 1.1482 - accuracy: 0.6331 - val_loss: 0.6535 - val_accuracy: 0.7960\n",
      "Epoch 2/30\n",
      "36667/36667 [==============================] - 3s 78us/sample - loss: 0.5732 - accuracy: 0.8291 - val_loss: 0.4435 - val_accuracy: 0.8736\n",
      "Epoch 3/30\n"
     ]
    },
    {
     "name": "stdout",
     "output_type": "stream",
     "text": [
      "36667/36667 [==============================] - 3s 79us/sample - loss: 0.4413 - accuracy: 0.8714 - val_loss: 0.3896 - val_accuracy: 0.8880\n",
      "Epoch 4/30\n",
      "36667/36667 [==============================] - 3s 79us/sample - loss: 0.4006 - accuracy: 0.8840 - val_loss: 0.3670 - val_accuracy: 0.8940\n",
      "Epoch 5/30\n",
      "36667/36667 [==============================] - 3s 78us/sample - loss: 0.3756 - accuracy: 0.8933 - val_loss: 0.3536 - val_accuracy: 0.9022\n",
      "Epoch 6/30\n",
      "36667/36667 [==============================] - 3s 79us/sample - loss: 0.3592 - accuracy: 0.8983 - val_loss: 0.3446 - val_accuracy: 0.9000\n",
      "Epoch 7/30\n",
      "36667/36667 [==============================] - 3s 78us/sample - loss: 0.3475 - accuracy: 0.9022 - val_loss: 0.3280 - val_accuracy: 0.9058\n",
      "Epoch 8/30\n",
      "36667/36667 [==============================] - 3s 78us/sample - loss: 0.3385 - accuracy: 0.9051 - val_loss: 0.3282 - val_accuracy: 0.9052\n",
      "Epoch 9/30\n",
      "36667/36667 [==============================] - 3s 79us/sample - loss: 0.3317 - accuracy: 0.9066 - val_loss: 0.3202 - val_accuracy: 0.9090\n",
      "Epoch 10/30\n",
      "36667/36667 [==============================] - 3s 80us/sample - loss: 0.3256 - accuracy: 0.9093 - val_loss: 0.3188 - val_accuracy: 0.9098\n",
      "Epoch 11/30\n",
      "36667/36667 [==============================] - 3s 81us/sample - loss: 0.3215 - accuracy: 0.9097 - val_loss: 0.3228 - val_accuracy: 0.9076\n",
      "Epoch 12/30\n",
      "36667/36667 [==============================] - 3s 79us/sample - loss: 0.3182 - accuracy: 0.9123 - val_loss: 0.3107 - val_accuracy: 0.9138\n",
      "Epoch 13/30\n",
      "36667/36667 [==============================] - 3s 78us/sample - loss: 0.3152 - accuracy: 0.9133 - val_loss: 0.3113 - val_accuracy: 0.9116\n",
      "Epoch 14/30\n",
      "36667/36667 [==============================] - 3s 79us/sample - loss: 0.3117 - accuracy: 0.9141 - val_loss: 0.3084 - val_accuracy: 0.9140\n",
      "Epoch 15/30\n",
      "36667/36667 [==============================] - 3s 78us/sample - loss: 0.3093 - accuracy: 0.9149 - val_loss: 0.3089 - val_accuracy: 0.9158\n",
      "Epoch 16/30\n",
      "36667/36667 [==============================] - 3s 78us/sample - loss: 0.3083 - accuracy: 0.9150 - val_loss: 0.3105 - val_accuracy: 0.9158\n",
      "18333/18333 [==============================] - 1s 44us/sample - loss: 0.3273 - accuracy: 0.9087\n",
      "[CV] ...................................... n_neurons=6, total=  47.6s\n",
      "[CV] n_neurons=7 .....................................................\n",
      "Train on 36666 samples, validate on 5000 samples\n",
      "Epoch 1/30\n",
      "36666/36666 [==============================] - 3s 88us/sample - loss: 0.8063 - accuracy: 0.7647 - val_loss: 0.4345 - val_accuracy: 0.8792\n",
      "Epoch 2/30\n",
      "36666/36666 [==============================] - 3s 79us/sample - loss: 0.4046 - accuracy: 0.8834 - val_loss: 0.3644 - val_accuracy: 0.8956\n",
      "Epoch 3/30\n",
      "36666/36666 [==============================] - 3s 79us/sample - loss: 0.3583 - accuracy: 0.8954 - val_loss: 0.3375 - val_accuracy: 0.9038\n",
      "Epoch 4/30\n",
      "36666/36666 [==============================] - 3s 78us/sample - loss: 0.3384 - accuracy: 0.9032 - val_loss: 0.3250 - val_accuracy: 0.9082\n",
      "Epoch 5/30\n",
      "36666/36666 [==============================] - 3s 78us/sample - loss: 0.3258 - accuracy: 0.9068 - val_loss: 0.3185 - val_accuracy: 0.9112\n",
      "Epoch 6/30\n",
      "36666/36666 [==============================] - 3s 79us/sample - loss: 0.3171 - accuracy: 0.9084 - val_loss: 0.3193 - val_accuracy: 0.9034\n",
      "Epoch 7/30\n",
      "36666/36666 [==============================] - 3s 78us/sample - loss: 0.3112 - accuracy: 0.9110 - val_loss: 0.3121 - val_accuracy: 0.9112\n",
      "Epoch 8/30\n",
      "36666/36666 [==============================] - 3s 79us/sample - loss: 0.3062 - accuracy: 0.9126 - val_loss: 0.3071 - val_accuracy: 0.9150\n",
      "Epoch 9/30\n",
      "36666/36666 [==============================] - 3s 79us/sample - loss: 0.3025 - accuracy: 0.9145 - val_loss: 0.3113 - val_accuracy: 0.9128\n",
      "Epoch 10/30\n",
      "36666/36666 [==============================] - 3s 77us/sample - loss: 0.2993 - accuracy: 0.9150 - val_loss: 0.3088 - val_accuracy: 0.9170\n",
      "18334/18334 [==============================] - 1s 44us/sample - loss: 0.3388 - accuracy: 0.9096\n",
      "[CV] ...................................... n_neurons=7, total=  30.2s\n",
      "[CV] n_neurons=7 .....................................................\n",
      "Train on 36667 samples, validate on 5000 samples\n",
      "Epoch 1/30\n",
      "36667/36667 [==============================] - 3s 89us/sample - loss: 0.7909 - accuracy: 0.7796 - val_loss: 0.4539 - val_accuracy: 0.8756\n",
      "Epoch 2/30\n",
      "36667/36667 [==============================] - 3s 78us/sample - loss: 0.4096 - accuracy: 0.8861 - val_loss: 0.3696 - val_accuracy: 0.8960\n",
      "Epoch 3/30\n",
      "36667/36667 [==============================] - 3s 79us/sample - loss: 0.3588 - accuracy: 0.8994 - val_loss: 0.3474 - val_accuracy: 0.9014\n",
      "Epoch 4/30\n",
      "36667/36667 [==============================] - 3s 78us/sample - loss: 0.3356 - accuracy: 0.9064 - val_loss: 0.3244 - val_accuracy: 0.9092\n",
      "Epoch 5/30\n",
      "36667/36667 [==============================] - 3s 79us/sample - loss: 0.3204 - accuracy: 0.9111 - val_loss: 0.3172 - val_accuracy: 0.9138\n",
      "Epoch 6/30\n",
      "36667/36667 [==============================] - 3s 78us/sample - loss: 0.3091 - accuracy: 0.9148 - val_loss: 0.3117 - val_accuracy: 0.9148\n",
      "Epoch 7/30\n",
      "36667/36667 [==============================] - 3s 78us/sample - loss: 0.3012 - accuracy: 0.9173 - val_loss: 0.3014 - val_accuracy: 0.9140\n",
      "Epoch 8/30\n",
      "36667/36667 [==============================] - 3s 79us/sample - loss: 0.2945 - accuracy: 0.9199 - val_loss: 0.3041 - val_accuracy: 0.9152\n",
      "Epoch 9/30\n",
      "36667/36667 [==============================] - 3s 78us/sample - loss: 0.2895 - accuracy: 0.9218 - val_loss: 0.3093 - val_accuracy: 0.9162\n",
      "18333/18333 [==============================] - 1s 43us/sample - loss: 0.3389 - accuracy: 0.9066\n",
      "[CV] ...................................... n_neurons=7, total=  27.2s\n",
      "[CV] n_neurons=7 .....................................................\n",
      "Train on 36667 samples, validate on 5000 samples\n",
      "Epoch 1/30\n",
      "36667/36667 [==============================] - 3s 87us/sample - loss: 0.8007 - accuracy: 0.7544 - val_loss: 0.4413 - val_accuracy: 0.8752\n",
      "Epoch 2/30\n",
      "36667/36667 [==============================] - 3s 76us/sample - loss: 0.4204 - accuracy: 0.8804 - val_loss: 0.3741 - val_accuracy: 0.8930\n",
      "Epoch 3/30\n",
      "36667/36667 [==============================] - 3s 77us/sample - loss: 0.3772 - accuracy: 0.8934 - val_loss: 0.3469 - val_accuracy: 0.9012\n",
      "Epoch 4/30\n",
      "36667/36667 [==============================] - 3s 76us/sample - loss: 0.3569 - accuracy: 0.8997 - val_loss: 0.3356 - val_accuracy: 0.9032\n",
      "Epoch 5/30\n",
      "36667/36667 [==============================] - 3s 78us/sample - loss: 0.3444 - accuracy: 0.9042 - val_loss: 0.3302 - val_accuracy: 0.9114\n",
      "Epoch 6/30\n",
      "36667/36667 [==============================] - 3s 78us/sample - loss: 0.3352 - accuracy: 0.9077 - val_loss: 0.3348 - val_accuracy: 0.9084\n",
      "Epoch 7/30\n",
      "36667/36667 [==============================] - 3s 78us/sample - loss: 0.3270 - accuracy: 0.9091 - val_loss: 0.3183 - val_accuracy: 0.9128\n",
      "Epoch 8/30\n",
      "36667/36667 [==============================] - 3s 78us/sample - loss: 0.3195 - accuracy: 0.9108 - val_loss: 0.3239 - val_accuracy: 0.9136\n",
      "Epoch 9/30\n",
      "36667/36667 [==============================] - 3s 78us/sample - loss: 0.3134 - accuracy: 0.9134 - val_loss: 0.3196 - val_accuracy: 0.9126\n",
      "18333/18333 [==============================] - 1s 44us/sample - loss: 0.3261 - accuracy: 0.9056\n",
      "[CV] ...................................... n_neurons=7, total=  27.0s\n",
      "[CV] n_neurons=8 .....................................................\n",
      "Train on 36666 samples, validate on 5000 samples\n",
      "Epoch 1/30\n",
      "36666/36666 [==============================] - 3s 86us/sample - loss: 0.7255 - accuracy: 0.7862 - val_loss: 0.3743 - val_accuracy: 0.8992\n",
      "Epoch 2/30\n",
      "36666/36666 [==============================] - 3s 78us/sample - loss: 0.3543 - accuracy: 0.8976 - val_loss: 0.3164 - val_accuracy: 0.9128\n",
      "Epoch 3/30\n",
      "36666/36666 [==============================] - 3s 76us/sample - loss: 0.3139 - accuracy: 0.9109 - val_loss: 0.2941 - val_accuracy: 0.9206\n",
      "Epoch 4/30\n",
      "36666/36666 [==============================] - 3s 78us/sample - loss: 0.2959 - accuracy: 0.9158 - val_loss: 0.2864 - val_accuracy: 0.9196\n",
      "Epoch 5/30\n",
      "36666/36666 [==============================] - 3s 76us/sample - loss: 0.2837 - accuracy: 0.9194 - val_loss: 0.2793 - val_accuracy: 0.9248\n",
      "Epoch 6/30\n"
     ]
    },
    {
     "name": "stdout",
     "output_type": "stream",
     "text": [
      "36666/36666 [==============================] - 3s 79us/sample - loss: 0.2753 - accuracy: 0.9225 - val_loss: 0.2760 - val_accuracy: 0.9262\n",
      "Epoch 7/30\n",
      "36666/36666 [==============================] - 3s 78us/sample - loss: 0.2707 - accuracy: 0.9234 - val_loss: 0.2764 - val_accuracy: 0.9262\n",
      "Epoch 8/30\n",
      "36666/36666 [==============================] - 3s 79us/sample - loss: 0.2658 - accuracy: 0.9254 - val_loss: 0.2755 - val_accuracy: 0.9278\n",
      "Epoch 9/30\n",
      "36666/36666 [==============================] - 3s 79us/sample - loss: 0.2624 - accuracy: 0.9262 - val_loss: 0.2756 - val_accuracy: 0.9216\n",
      "Epoch 10/30\n",
      "36666/36666 [==============================] - 3s 78us/sample - loss: 0.2595 - accuracy: 0.9282 - val_loss: 0.2741 - val_accuracy: 0.9244\n",
      "Epoch 11/30\n",
      "36666/36666 [==============================] - 3s 78us/sample - loss: 0.2570 - accuracy: 0.9279 - val_loss: 0.2757 - val_accuracy: 0.9248\n",
      "Epoch 12/30\n",
      "36666/36666 [==============================] - 3s 79us/sample - loss: 0.2544 - accuracy: 0.9300 - val_loss: 0.2842 - val_accuracy: 0.9244\n",
      "18334/18334 [==============================] - 1s 44us/sample - loss: 0.3163 - accuracy: 0.9134\n",
      "[CV] ...................................... n_neurons=8, total=  35.7s\n",
      "[CV] n_neurons=8 .....................................................\n",
      "Train on 36667 samples, validate on 5000 samples\n",
      "Epoch 1/30\n",
      "36667/36667 [==============================] - 3s 86us/sample - loss: 0.7030 - accuracy: 0.7953 - val_loss: 0.3730 - val_accuracy: 0.8926\n",
      "Epoch 2/30\n",
      "36667/36667 [==============================] - 3s 77us/sample - loss: 0.3465 - accuracy: 0.9029 - val_loss: 0.3122 - val_accuracy: 0.9098\n",
      "Epoch 3/30\n",
      "36667/36667 [==============================] - 3s 79us/sample - loss: 0.3077 - accuracy: 0.9144 - val_loss: 0.2983 - val_accuracy: 0.9158\n",
      "Epoch 4/30\n",
      "36667/36667 [==============================] - 3s 77us/sample - loss: 0.2916 - accuracy: 0.9199 - val_loss: 0.2850 - val_accuracy: 0.9184\n",
      "Epoch 5/30\n",
      "36667/36667 [==============================] - 3s 78us/sample - loss: 0.2813 - accuracy: 0.9230 - val_loss: 0.2834 - val_accuracy: 0.9200\n",
      "Epoch 6/30\n",
      "36667/36667 [==============================] - 3s 77us/sample - loss: 0.2744 - accuracy: 0.9247 - val_loss: 0.2811 - val_accuracy: 0.9202\n",
      "Epoch 7/30\n",
      "36667/36667 [==============================] - 3s 78us/sample - loss: 0.2682 - accuracy: 0.9268 - val_loss: 0.2756 - val_accuracy: 0.9214\n",
      "Epoch 8/30\n",
      "36667/36667 [==============================] - 3s 78us/sample - loss: 0.2627 - accuracy: 0.9289 - val_loss: 0.2809 - val_accuracy: 0.9208\n",
      "Epoch 9/30\n",
      "36667/36667 [==============================] - 3s 77us/sample - loss: 0.2590 - accuracy: 0.9293 - val_loss: 0.2788 - val_accuracy: 0.9206\n",
      "18333/18333 [==============================] - 1s 45us/sample - loss: 0.3025 - accuracy: 0.9182\n",
      "[CV] ...................................... n_neurons=8, total=  27.1s\n",
      "[CV] n_neurons=8 .....................................................\n",
      "Train on 36667 samples, validate on 5000 samples\n",
      "Epoch 1/30\n",
      "36667/36667 [==============================] - 3s 88us/sample - loss: 0.6583 - accuracy: 0.8097 - val_loss: 0.3702 - val_accuracy: 0.8966\n",
      "Epoch 2/30\n",
      "36667/36667 [==============================] - 3s 78us/sample - loss: 0.3582 - accuracy: 0.8983 - val_loss: 0.3229 - val_accuracy: 0.9096\n",
      "Epoch 3/30\n",
      "36667/36667 [==============================] - 3s 78us/sample - loss: 0.3259 - accuracy: 0.9065 - val_loss: 0.2990 - val_accuracy: 0.9172\n",
      "Epoch 4/30\n",
      "36667/36667 [==============================] - 3s 78us/sample - loss: 0.3086 - accuracy: 0.9113 - val_loss: 0.2893 - val_accuracy: 0.9188\n",
      "Epoch 5/30\n",
      "36667/36667 [==============================] - 3s 77us/sample - loss: 0.2965 - accuracy: 0.9153 - val_loss: 0.2835 - val_accuracy: 0.9234\n",
      "Epoch 6/30\n",
      "36667/36667 [==============================] - 3s 78us/sample - loss: 0.2871 - accuracy: 0.9175 - val_loss: 0.2904 - val_accuracy: 0.9198\n",
      "Epoch 7/30\n",
      "36667/36667 [==============================] - 3s 79us/sample - loss: 0.2796 - accuracy: 0.9216 - val_loss: 0.2730 - val_accuracy: 0.9248\n",
      "Epoch 8/30\n",
      "36667/36667 [==============================] - 3s 79us/sample - loss: 0.2732 - accuracy: 0.9226 - val_loss: 0.2767 - val_accuracy: 0.9228\n",
      "Epoch 9/30\n",
      "36667/36667 [==============================] - 3s 78us/sample - loss: 0.2676 - accuracy: 0.9252 - val_loss: 0.2725 - val_accuracy: 0.9226\n",
      "Epoch 10/30\n",
      "36667/36667 [==============================] - 3s 77us/sample - loss: 0.2637 - accuracy: 0.9262 - val_loss: 0.2729 - val_accuracy: 0.9268\n",
      "Epoch 11/30\n",
      "36667/36667 [==============================] - 3s 77us/sample - loss: 0.2594 - accuracy: 0.9276 - val_loss: 0.2712 - val_accuracy: 0.9254\n",
      "Epoch 12/30\n",
      "36667/36667 [==============================] - 3s 79us/sample - loss: 0.2561 - accuracy: 0.9277 - val_loss: 0.2707 - val_accuracy: 0.9260\n",
      "Epoch 13/30\n",
      "36667/36667 [==============================] - 3s 77us/sample - loss: 0.2530 - accuracy: 0.9296 - val_loss: 0.2724 - val_accuracy: 0.9226\n",
      "Epoch 14/30\n",
      "36667/36667 [==============================] - 3s 78us/sample - loss: 0.2506 - accuracy: 0.9303 - val_loss: 0.2689 - val_accuracy: 0.9252\n",
      "Epoch 15/30\n",
      "36667/36667 [==============================] - 3s 77us/sample - loss: 0.2487 - accuracy: 0.9304 - val_loss: 0.2657 - val_accuracy: 0.9236\n",
      "Epoch 16/30\n",
      "36667/36667 [==============================] - 3s 78us/sample - loss: 0.2462 - accuracy: 0.9317 - val_loss: 0.2718 - val_accuracy: 0.9234\n",
      "Epoch 17/30\n",
      "36667/36667 [==============================] - 3s 77us/sample - loss: 0.2441 - accuracy: 0.9314 - val_loss: 0.2655 - val_accuracy: 0.9252\n",
      "Epoch 18/30\n",
      "36667/36667 [==============================] - 3s 76us/sample - loss: 0.2425 - accuracy: 0.9323 - val_loss: 0.2708 - val_accuracy: 0.9238\n",
      "Epoch 19/30\n",
      "36667/36667 [==============================] - 3s 77us/sample - loss: 0.2407 - accuracy: 0.9325 - val_loss: 0.2766 - val_accuracy: 0.9234\n",
      "18333/18333 [==============================] - 1s 44us/sample - loss: 0.2918 - accuracy: 0.9216\n",
      "[CV] ...................................... n_neurons=8, total=  55.7s\n",
      "[CV] n_neurons=9 .....................................................\n",
      "Train on 36666 samples, validate on 5000 samples\n",
      "Epoch 1/30\n",
      "36666/36666 [==============================] - 3s 92us/sample - loss: 0.6831 - accuracy: 0.8069 - val_loss: 0.3692 - val_accuracy: 0.9028\n",
      "Epoch 2/30\n",
      "36666/36666 [==============================] - 3s 81us/sample - loss: 0.3488 - accuracy: 0.9028 - val_loss: 0.3148 - val_accuracy: 0.9158\n",
      "Epoch 3/30\n",
      "36666/36666 [==============================] - 3s 82us/sample - loss: 0.3124 - accuracy: 0.9127 - val_loss: 0.2949 - val_accuracy: 0.9208\n",
      "Epoch 4/30\n",
      "36666/36666 [==============================] - 3s 83us/sample - loss: 0.2971 - accuracy: 0.9163 - val_loss: 0.2887 - val_accuracy: 0.9214\n",
      "Epoch 5/30\n",
      "36666/36666 [==============================] - 3s 82us/sample - loss: 0.2874 - accuracy: 0.9196 - val_loss: 0.2883 - val_accuracy: 0.9250\n",
      "Epoch 6/30\n",
      "36666/36666 [==============================] - 3s 82us/sample - loss: 0.2812 - accuracy: 0.9215 - val_loss: 0.2842 - val_accuracy: 0.9236\n",
      "Epoch 7/30\n",
      "36666/36666 [==============================] - 3s 82us/sample - loss: 0.2771 - accuracy: 0.9228 - val_loss: 0.2827 - val_accuracy: 0.9256\n",
      "Epoch 8/30\n",
      "36666/36666 [==============================] - 3s 82us/sample - loss: 0.2726 - accuracy: 0.9247 - val_loss: 0.2834 - val_accuracy: 0.9242\n",
      "Epoch 9/30\n",
      "36666/36666 [==============================] - 3s 83us/sample - loss: 0.2692 - accuracy: 0.9263 - val_loss: 0.2803 - val_accuracy: 0.9250\n",
      "Epoch 10/30\n",
      "36666/36666 [==============================] - 3s 83us/sample - loss: 0.2665 - accuracy: 0.9272 - val_loss: 0.2804 - val_accuracy: 0.9242\n",
      "Epoch 11/30\n",
      "36666/36666 [==============================] - 3s 81us/sample - loss: 0.2633 - accuracy: 0.9273 - val_loss: 0.2868 - val_accuracy: 0.9260\n",
      "18334/18334 [==============================] - 1s 46us/sample - loss: 0.3142 - accuracy: 0.9169\n",
      "[CV] ...................................... n_neurons=9, total=  34.8s\n",
      "[CV] n_neurons=9 .....................................................\n",
      "Train on 36667 samples, validate on 5000 samples\n",
      "Epoch 1/30\n",
      "36667/36667 [==============================] - 3s 92us/sample - loss: 0.6569 - accuracy: 0.8167 - val_loss: 0.3610 - val_accuracy: 0.8964\n",
      "Epoch 2/30\n"
     ]
    },
    {
     "name": "stdout",
     "output_type": "stream",
     "text": [
      "36667/36667 [==============================] - 3s 83us/sample - loss: 0.3411 - accuracy: 0.9051 - val_loss: 0.3132 - val_accuracy: 0.9102\n",
      "Epoch 3/30\n",
      "36667/36667 [==============================] - 3s 82us/sample - loss: 0.3105 - accuracy: 0.9143 - val_loss: 0.2981 - val_accuracy: 0.9174\n",
      "Epoch 4/30\n",
      "36667/36667 [==============================] - 3s 82us/sample - loss: 0.2952 - accuracy: 0.9182 - val_loss: 0.2883 - val_accuracy: 0.9212\n",
      "Epoch 5/30\n",
      "36667/36667 [==============================] - 3s 83us/sample - loss: 0.2843 - accuracy: 0.9215 - val_loss: 0.2872 - val_accuracy: 0.9220\n",
      "Epoch 6/30\n",
      "36667/36667 [==============================] - 3s 83us/sample - loss: 0.2769 - accuracy: 0.9246 - val_loss: 0.2843 - val_accuracy: 0.9216\n",
      "Epoch 7/30\n",
      "36667/36667 [==============================] - 3s 82us/sample - loss: 0.2709 - accuracy: 0.9260 - val_loss: 0.2821 - val_accuracy: 0.9216\n",
      "Epoch 8/30\n",
      "36667/36667 [==============================] - 3s 83us/sample - loss: 0.2656 - accuracy: 0.9280 - val_loss: 0.2884 - val_accuracy: 0.9210\n",
      "Epoch 9/30\n",
      "36667/36667 [==============================] - 3s 83us/sample - loss: 0.2623 - accuracy: 0.9285 - val_loss: 0.2904 - val_accuracy: 0.9210\n",
      "18333/18333 [==============================] - 1s 48us/sample - loss: 0.3134 - accuracy: 0.9177\n",
      "[CV] ...................................... n_neurons=9, total=  28.8s\n",
      "[CV] n_neurons=9 .....................................................\n",
      "Train on 36667 samples, validate on 5000 samples\n",
      "Epoch 1/30\n",
      "36667/36667 [==============================] - 3s 93us/sample - loss: 0.7171 - accuracy: 0.7907 - val_loss: 0.3762 - val_accuracy: 0.8964\n",
      "Epoch 2/30\n",
      "36667/36667 [==============================] - 3s 81us/sample - loss: 0.3658 - accuracy: 0.8973 - val_loss: 0.3279 - val_accuracy: 0.9070\n",
      "Epoch 3/30\n",
      "36667/36667 [==============================] - 3s 82us/sample - loss: 0.3315 - accuracy: 0.9062 - val_loss: 0.3042 - val_accuracy: 0.9166\n",
      "Epoch 4/30\n",
      "36667/36667 [==============================] - 3s 82us/sample - loss: 0.3089 - accuracy: 0.9125 - val_loss: 0.2956 - val_accuracy: 0.9150\n",
      "Epoch 5/30\n",
      "36667/36667 [==============================] - 3s 82us/sample - loss: 0.2924 - accuracy: 0.9172 - val_loss: 0.2799 - val_accuracy: 0.9218\n",
      "Epoch 6/30\n",
      "36667/36667 [==============================] - 3s 81us/sample - loss: 0.2811 - accuracy: 0.9205 - val_loss: 0.2867 - val_accuracy: 0.9194\n",
      "Epoch 7/30\n",
      "36667/36667 [==============================] - 3s 82us/sample - loss: 0.2728 - accuracy: 0.9242 - val_loss: 0.2695 - val_accuracy: 0.9266\n",
      "Epoch 8/30\n",
      "36667/36667 [==============================] - 3s 82us/sample - loss: 0.2667 - accuracy: 0.9253 - val_loss: 0.2738 - val_accuracy: 0.9244\n",
      "Epoch 9/30\n",
      "36667/36667 [==============================] - 3s 79us/sample - loss: 0.2623 - accuracy: 0.9263 - val_loss: 0.2707 - val_accuracy: 0.9282\n",
      "18333/18333 [==============================] - 1s 43us/sample - loss: 0.2819 - accuracy: 0.9224\n",
      "[CV] ...................................... n_neurons=9, total=  28.4s\n"
     ]
    },
    {
     "name": "stderr",
     "output_type": "stream",
     "text": [
      "[Parallel(n_jobs=1)]: Done  27 out of  27 | elapsed: 21.0min finished\n"
     ]
    },
    {
     "name": "stdout",
     "output_type": "stream",
     "text": [
      "Train on 55000 samples, validate on 5000 samples\n",
      "Epoch 1/30\n",
      "55000/55000 [==============================] - 5s 87us/sample - loss: 0.5941 - accuracy: 0.8338 - val_loss: 0.3131 - val_accuracy: 0.9134\n",
      "Epoch 2/30\n",
      "55000/55000 [==============================] - 4s 79us/sample - loss: 0.3148 - accuracy: 0.9114 - val_loss: 0.2814 - val_accuracy: 0.9228\n",
      "Epoch 3/30\n",
      "55000/55000 [==============================] - 4s 81us/sample - loss: 0.2884 - accuracy: 0.9189 - val_loss: 0.2648 - val_accuracy: 0.9308\n",
      "Epoch 4/30\n",
      "55000/55000 [==============================] - 4s 80us/sample - loss: 0.2748 - accuracy: 0.9236 - val_loss: 0.2591 - val_accuracy: 0.9310\n",
      "Epoch 5/30\n",
      "55000/55000 [==============================] - 4s 80us/sample - loss: 0.2660 - accuracy: 0.9266 - val_loss: 0.2540 - val_accuracy: 0.9292\n",
      "Epoch 6/30\n",
      "55000/55000 [==============================] - 4s 80us/sample - loss: 0.2583 - accuracy: 0.9284 - val_loss: 0.2547 - val_accuracy: 0.9306\n",
      "Epoch 7/30\n",
      "55000/55000 [==============================] - 4s 80us/sample - loss: 0.2544 - accuracy: 0.9302 - val_loss: 0.2534 - val_accuracy: 0.9318\n",
      "Epoch 8/30\n",
      "55000/55000 [==============================] - 4s 80us/sample - loss: 0.2501 - accuracy: 0.9314 - val_loss: 0.2523 - val_accuracy: 0.9316\n",
      "Epoch 9/30\n",
      "55000/55000 [==============================] - 4s 80us/sample - loss: 0.2471 - accuracy: 0.9324 - val_loss: 0.2568 - val_accuracy: 0.9288\n",
      "Epoch 10/30\n",
      "55000/55000 [==============================] - 4s 80us/sample - loss: 0.2451 - accuracy: 0.9324 - val_loss: 0.2510 - val_accuracy: 0.9300\n",
      "Epoch 11/30\n",
      "55000/55000 [==============================] - 4s 80us/sample - loss: 0.2427 - accuracy: 0.9344 - val_loss: 0.2501 - val_accuracy: 0.9316\n",
      "Epoch 12/30\n",
      "55000/55000 [==============================] - 4s 79us/sample - loss: 0.2403 - accuracy: 0.9345 - val_loss: 0.2549 - val_accuracy: 0.9304\n",
      "Epoch 13/30\n",
      "55000/55000 [==============================] - 4s 80us/sample - loss: 0.2391 - accuracy: 0.9346 - val_loss: 0.2527 - val_accuracy: 0.9278\n"
     ]
    },
    {
     "data": {
      "text/plain": [
       "GridSearchCV(cv=3, error_score=nan,\n",
       "             estimator=<tensorflow.python.keras.wrappers.scikit_learn.KerasClassifier object at 0x7f6edd920cc0>,\n",
       "             iid='deprecated', n_jobs=None,\n",
       "             param_grid={'n_neurons': range(1, 10)}, pre_dispatch='2*n_jobs',\n",
       "             refit=True, return_train_score=False, scoring=None, verbose=2)"
      ]
     },
     "execution_count": 11,
     "metadata": {},
     "output_type": "execute_result"
    }
   ],
   "source": [
    "from sklearn.model_selection import GridSearchCV\n",
    "\n",
    "grid_cv = GridSearchCV(estimator=keras_clf, param_grid=param_grid,cv=3,verbose = 2)\n",
    "grid_cv.fit(train_images, train_labels, epochs=30,\n",
    "                  validation_data=(val_images, val_labels),\n",
    "                  callbacks=[keras.callbacks.EarlyStopping(patience=2)])"
   ]
  },
  {
   "cell_type": "markdown",
   "metadata": {},
   "source": [
    "## Inspecting the best estimator"
   ]
  },
  {
   "cell_type": "markdown",
   "metadata": {},
   "source": [
    "Let's get the number of neurons that produced the best estimator"
   ]
  },
  {
   "cell_type": "code",
   "execution_count": 12,
   "metadata": {},
   "outputs": [
    {
     "data": {
      "text/plain": [
       "{'n_neurons': 9}"
      ]
     },
     "execution_count": 12,
     "metadata": {},
     "output_type": "execute_result"
    }
   ],
   "source": [
    "grid_cv.best_params_"
   ]
  },
  {
   "cell_type": "raw",
   "metadata": {},
   "source": [
    "Let's get the rsults to compare the performance of the 100 models."
   ]
  },
  {
   "cell_type": "code",
   "execution_count": 13,
   "metadata": {},
   "outputs": [
    {
     "data": {
      "text/plain": [
       "{'mean_fit_time': array([75.95008397, 56.89517371, 49.41042844, 54.84852354, 37.57389458,\n",
       "        41.74212845, 27.29871138, 38.60856827, 29.76131288]),\n",
       " 'std_fit_time': array([ 6.80176402,  4.45759305,  3.48511032, 20.43188461, 10.97430695,\n",
       "        10.95558619,  1.46463266, 11.97853792,  2.94567757]),\n",
       " 'mean_score_time': array([0.8956581 , 0.87260691, 0.86898573, 0.8830173 , 0.86455425,\n",
       "        0.86310347, 0.86813005, 0.88111814, 0.89926219]),\n",
       " 'std_score_time': array([0.03517443, 0.00520634, 0.01708986, 0.00415683, 0.01215563,\n",
       "        0.01282875, 0.00697717, 0.00718621, 0.03820569]),\n",
       " 'param_n_neurons': masked_array(data=[1, 2, 3, 4, 5, 6, 7, 8, 9],\n",
       "              mask=[False, False, False, False, False, False, False, False,\n",
       "                    False],\n",
       "        fill_value='?',\n",
       "             dtype=object),\n",
       " 'params': [{'n_neurons': 1},\n",
       "  {'n_neurons': 2},\n",
       "  {'n_neurons': 3},\n",
       "  {'n_neurons': 4},\n",
       "  {'n_neurons': 5},\n",
       "  {'n_neurons': 6},\n",
       "  {'n_neurons': 7},\n",
       "  {'n_neurons': 8},\n",
       "  {'n_neurons': 9}],\n",
       " 'split0_test_score': array([0.37018654, 0.64404929, 0.80097085, 0.8629868 , 0.88725865,\n",
       "        0.90749425, 0.90962148, 0.91343951, 0.91687578]),\n",
       " 'split1_test_score': array([0.39687994, 0.6710304 , 0.76861399, 0.834997  , 0.88512516,\n",
       "        0.89750725, 0.90656191, 0.91818035, 0.91774398]),\n",
       " 'split2_test_score': array([0.35591558, 0.64053893, 0.78874159, 0.86390662, 0.89363444,\n",
       "        0.9087438 , 0.90563464, 0.92156219, 0.92238039]),\n",
       " 'mean_test_score': array([0.37432735, 0.65187287, 0.78610881, 0.85396347, 0.88867275,\n",
       "        0.90458177, 0.90727268, 0.91772735, 0.91900005]),\n",
       " 'std_test_score': array([0.01697802, 0.01362201, 0.01334017, 0.01341658, 0.00361494,\n",
       "        0.00502838, 0.00170345, 0.00333151, 0.0024164 ]),\n",
       " 'rank_test_score': array([9, 8, 7, 6, 5, 4, 3, 2, 1], dtype=int32)}"
      ]
     },
     "execution_count": 13,
     "metadata": {},
     "output_type": "execute_result"
    }
   ],
   "source": [
    "results = grid_cv.cv_results_\n",
    "results"
   ]
  },
  {
   "cell_type": "code",
   "execution_count": 14,
   "metadata": {},
   "outputs": [
    {
     "data": {
      "text/plain": [
       "([{'n_neurons': 1},\n",
       "  {'n_neurons': 2},\n",
       "  {'n_neurons': 3},\n",
       "  {'n_neurons': 4},\n",
       "  {'n_neurons': 5},\n",
       "  {'n_neurons': 6},\n",
       "  {'n_neurons': 7},\n",
       "  {'n_neurons': 8},\n",
       "  {'n_neurons': 9}],\n",
       " array([9, 8, 7, 6, 5, 4, 3, 2, 1], dtype=int32))"
      ]
     },
     "execution_count": 14,
     "metadata": {},
     "output_type": "execute_result"
    }
   ],
   "source": [
    "results['params'], results['rank_test_score']"
   ]
  },
  {
   "cell_type": "code",
   "execution_count": 15,
   "metadata": {},
   "outputs": [
    {
     "data": {
      "image/png": "[encoded data removed]",
      "text/plain": [
       "<IPython.core.display.Image object>"
      ]
     },
     "execution_count": 15,
     "metadata": {},
     "output_type": "execute_result"
    }
   ],
   "source": [
    "best_model = grid_cv.best_estimator_.model\n",
    "keras.utils.plot_model(best_model, show_shapes=True)"
   ]
  },
  {
   "cell_type": "code",
   "execution_count": 16,
   "metadata": {},
   "outputs": [
    {
     "name": "stdout",
     "output_type": "stream",
     "text": [
      "10000/10000 [==============================] - 0s 44us/sample - loss: 0.2569 - accuracy: 0.9287\n"
     ]
    },
    {
     "data": {
      "text/plain": [
       "[0.25693139385208486, 0.9287]"
      ]
     },
     "execution_count": 16,
     "metadata": {},
     "output_type": "execute_result"
    }
   ],
   "source": [
    "best_model.evaluate(test_images, test_labels)"
   ]
  },
  {
   "cell_type": "markdown",
   "metadata": {},
   "source": [
    "## Further explortion...\n",
    "\n",
    "Try the following grid parameters:\n",
    "\n",
    "```python\n",
    "param_grid = {'n_neurons': range(100,900,100)}\n",
    "param_grid\n",
    "```\n",
    "\n",
    "Were you able to get accuracies over 99 percent? How many epochs are needed to train the model before it starts overfitting?"
   ]
  },
  {
   "cell_type": "markdown",
   "metadata": {},
   "source": [
    "## Saving the best model\n",
    "\n",
    "**N.B**: Note that I ran the code three times with a different numbr of nodes each and time with higher test accuracy (~99.6%). "
   ]
  },
  {
   "cell_type": "code",
   "execution_count": 17,
   "metadata": {},
   "outputs": [
    {
     "data": {
      "image/png": "[encoded data removed]",
      "text/plain": [
       "<IPython.core.display.Image object>"
      ]
     },
     "execution_count": 17,
     "metadata": {},
     "output_type": "execute_result"
    }
   ],
   "source": [
    "best_model = grid_cv.best_estimator_.model\n",
    "keras.utils.plot_model(best_model, show_shapes=True)"
   ]
  },
  {
   "cell_type": "code",
   "execution_count": 18,
   "metadata": {},
   "outputs": [],
   "source": [
    "best_model.save(\"mnist_model_best.h5\")"
   ]
  },
  {
   "cell_type": "markdown",
   "metadata": {},
   "source": [
    "## Evaluating the model\n",
    "\n",
    "The model with 500 neurons gets a test accuracy of 98%"
   ]
  },
  {
   "cell_type": "code",
   "execution_count": 19,
   "metadata": {},
   "outputs": [
    {
     "name": "stdout",
     "output_type": "stream",
     "text": [
      "10000/10000 [==============================] - 0s 46us/sample - loss: 0.2569 - accuracy: 0.9287\n"
     ]
    },
    {
     "data": {
      "text/plain": [
       "[0.25693139385208486, 0.9287]"
      ]
     },
     "execution_count": 19,
     "metadata": {},
     "output_type": "execute_result"
    }
   ],
   "source": [
    "best_model.evaluate(test_images, test_labels)"
   ]
  },
  {
   "cell_type": "markdown",
   "metadata": {},
   "source": [
    "## Building our network\n",
    "\n",
    "Here our network consists of a sequence of two `Dense` layers, which are densely-connected (also called \"fully-connected\") neural layers. \n",
    "\n",
    "The first `Dense` layer, the hidden layer, consists of `2 nodes`.\n",
    "\n",
    "The second (and last) layer is a 10-way \"softmax\" layer, which means it will return an array of 10 probability scores (summing to 1). Each  score will be the probability that the current digit image belongs to one of our 10 digit classes."
   ]
  },
  {
   "cell_type": "code",
   "execution_count": 20,
   "metadata": {},
   "outputs": [],
   "source": [
    "from tensorflow.keras import models\n",
    "from tensorflow.keras import layers\n",
    "\n",
    "model = models.Sequential()\n",
    "model.add(layers.Dense(2, activation='relu', input_shape=(28 * 28,)))\n",
    "model.add(layers.Dense(10, activation='softmax'))   "
   ]
  },
  {
   "cell_type": "code",
   "execution_count": 21,
   "metadata": {},
   "outputs": [
    {
     "data": {
      "image/png": "[encoded data removed]",
      "text/plain": [
       "<IPython.core.display.Image object>"
      ]
     },
     "execution_count": 21,
     "metadata": {},
     "output_type": "execute_result"
    }
   ],
   "source": [
    "keras.utils.plot_model(model, show_shapes=True)"
   ]
  },
  {
   "cell_type": "markdown",
   "metadata": {},
   "source": [
    "## Compiling the model\n",
    "\n",
    "To make our network ready for training, we need to pick three more things, as part of \"compilation\" step:\n",
    "\n",
    "* A loss function: the is how the network will be able to measure how good a job it is doing on its training data, and thus how it will be able to steer itself in the right direction.\n",
    "* An optimizer: this is the mechanism through which the network will update itself based on the data it sees and its loss function.\n",
    "* Metrics to monitor during training and testing. Here we will only care about accuracy (the fraction of the images that were correctly classified)."
   ]
  },
  {
   "cell_type": "code",
   "execution_count": 22,
   "metadata": {},
   "outputs": [],
   "source": [
    "model.compile(optimizer= 'rmsprop',\n",
    "#                 loss='categorical_crossentropy',\n",
    "                loss='sparse_categorical_crossentropy',              \n",
    "                metrics=['accuracy'])"
   ]
  },
  {
   "cell_type": "markdown",
   "metadata": {},
   "source": [
    "## Training the model\n",
    "\n",
    "We are now ready to train our network, which in Keras is done via a call to the `fit` method of the network: \n",
    "we \"fit\" the model to its training data. We train the model for 30 epochs with batch size 32 (the default)."
   ]
  },
  {
   "cell_type": "code",
   "execution_count": 23,
   "metadata": {
    "scrolled": false
   },
   "outputs": [
    {
     "name": "stdout",
     "output_type": "stream",
     "text": [
      "Train on 55000 samples, validate on 5000 samples\n",
      "Epoch 1/30\n",
      "55000/55000 [==============================] - 4s 82us/sample - loss: 1.6729 - accuracy: 0.4077 - val_loss: 1.3913 - val_accuracy: 0.5036\n",
      "Epoch 2/30\n",
      "55000/55000 [==============================] - 4s 76us/sample - loss: 1.3173 - accuracy: 0.5143 - val_loss: 1.2267 - val_accuracy: 0.5438\n",
      "Epoch 3/30\n",
      "55000/55000 [==============================] - 4s 76us/sample - loss: 1.2276 - accuracy: 0.5397 - val_loss: 1.1754 - val_accuracy: 0.5634\n",
      "Epoch 4/30\n",
      "55000/55000 [==============================] - 4s 78us/sample - loss: 1.1897 - accuracy: 0.5654 - val_loss: 1.1448 - val_accuracy: 0.5844\n",
      "Epoch 5/30\n",
      "55000/55000 [==============================] - 4s 76us/sample - loss: 1.1684 - accuracy: 0.5905 - val_loss: 1.1273 - val_accuracy: 0.6104\n",
      "Epoch 6/30\n",
      "55000/55000 [==============================] - 4s 76us/sample - loss: 1.1539 - accuracy: 0.6026 - val_loss: 1.1173 - val_accuracy: 0.6200\n",
      "Epoch 7/30\n",
      "55000/55000 [==============================] - 4s 77us/sample - loss: 1.1439 - accuracy: 0.6100 - val_loss: 1.1177 - val_accuracy: 0.6208\n",
      "Epoch 8/30\n",
      "55000/55000 [==============================] - 4s 78us/sample - loss: 1.1355 - accuracy: 0.6154 - val_loss: 1.1067 - val_accuracy: 0.6224\n",
      "Epoch 9/30\n",
      "55000/55000 [==============================] - 4s 76us/sample - loss: 1.1297 - accuracy: 0.6182 - val_loss: 1.1057 - val_accuracy: 0.6362\n",
      "Epoch 10/30\n",
      "55000/55000 [==============================] - 4s 77us/sample - loss: 1.1251 - accuracy: 0.6224 - val_loss: 1.0982 - val_accuracy: 0.6412\n",
      "Epoch 11/30\n",
      "55000/55000 [==============================] - 4s 78us/sample - loss: 1.1201 - accuracy: 0.6250 - val_loss: 1.0944 - val_accuracy: 0.6356\n",
      "Epoch 12/30\n",
      "55000/55000 [==============================] - 4s 76us/sample - loss: 1.1173 - accuracy: 0.6274 - val_loss: 1.0987 - val_accuracy: 0.6294\n",
      "Epoch 13/30\n",
      "55000/55000 [==============================] - 4s 76us/sample - loss: 1.1142 - accuracy: 0.6287 - val_loss: 1.0932 - val_accuracy: 0.6382\n",
      "Epoch 14/30\n",
      "55000/55000 [==============================] - 4s 76us/sample - loss: 1.1118 - accuracy: 0.6300 - val_loss: 1.0951 - val_accuracy: 0.6404\n",
      "Epoch 15/30\n",
      "55000/55000 [==============================] - 4s 76us/sample - loss: 1.1083 - accuracy: 0.6302 - val_loss: 1.0903 - val_accuracy: 0.6380\n",
      "Epoch 16/30\n",
      "55000/55000 [==============================] - 4s 77us/sample - loss: 1.1059 - accuracy: 0.6335 - val_loss: 1.0936 - val_accuracy: 0.6374\n",
      "Epoch 17/30\n",
      "55000/55000 [==============================] - 4s 77us/sample - loss: 1.1024 - accuracy: 0.6353 - val_loss: 1.0881 - val_accuracy: 0.6446\n",
      "Epoch 18/30\n",
      "55000/55000 [==============================] - 4s 78us/sample - loss: 1.0970 - accuracy: 0.6419 - val_loss: 1.0822 - val_accuracy: 0.6562\n",
      "Epoch 19/30\n",
      "55000/55000 [==============================] - 4s 77us/sample - loss: 1.0888 - accuracy: 0.6494 - val_loss: 1.0764 - val_accuracy: 0.6606\n",
      "Epoch 20/30\n",
      "55000/55000 [==============================] - 4s 76us/sample - loss: 1.0780 - accuracy: 0.6544 - val_loss: 1.0679 - val_accuracy: 0.6642\n",
      "Epoch 21/30\n",
      "55000/55000 [==============================] - 4s 78us/sample - loss: 1.0702 - accuracy: 0.6565 - val_loss: 1.0558 - val_accuracy: 0.6686\n",
      "Epoch 22/30\n",
      "55000/55000 [==============================] - 4s 76us/sample - loss: 1.0636 - accuracy: 0.6596 - val_loss: 1.0490 - val_accuracy: 0.6716\n",
      "Epoch 23/30\n",
      "55000/55000 [==============================] - 4s 78us/sample - loss: 1.0567 - accuracy: 0.6628 - val_loss: 1.0423 - val_accuracy: 0.6722\n",
      "Epoch 24/30\n",
      "55000/55000 [==============================] - 4s 79us/sample - loss: 1.0490 - accuracy: 0.6628 - val_loss: 1.0350 - val_accuracy: 0.6684\n",
      "Epoch 25/30\n",
      "55000/55000 [==============================] - 4s 77us/sample - loss: 1.0404 - accuracy: 0.6667 - val_loss: 1.0284 - val_accuracy: 0.6734\n",
      "Epoch 26/30\n",
      "55000/55000 [==============================] - 4s 78us/sample - loss: 1.0318 - accuracy: 0.6714 - val_loss: 1.0248 - val_accuracy: 0.6784\n",
      "Epoch 27/30\n",
      "55000/55000 [==============================] - 4s 77us/sample - loss: 1.0243 - accuracy: 0.6761 - val_loss: 1.0111 - val_accuracy: 0.6864\n",
      "Epoch 28/30\n",
      "55000/55000 [==============================] - 4s 79us/sample - loss: 1.0167 - accuracy: 0.6800 - val_loss: 1.0034 - val_accuracy: 0.6898\n",
      "Epoch 29/30\n",
      "55000/55000 [==============================] - 4s 77us/sample - loss: 1.0102 - accuracy: 0.6833 - val_loss: 1.0012 - val_accuracy: 0.7004\n",
      "Epoch 30/30\n",
      "55000/55000 [==============================] - 4s 78us/sample - loss: 1.0045 - accuracy: 0.6863 - val_loss: 0.9922 - val_accuracy: 0.6966\n"
     ]
    }
   ],
   "source": [
    "#history = model.fit(train_images, train_labels, epochs=100, batch_size=128)\n",
    "history = model.fit(train_images, train_labels, epochs=30,\n",
    "                    validation_data=(val_images, val_labels),\n",
    "                    callbacks=[keras.callbacks.EarlyStopping(patience=10)])"
   ]
  },
  {
   "cell_type": "markdown",
   "metadata": {},
   "source": [
    "## Plotting the performance \n",
    "\n",
    "We use Matplotlib to create 2 plots--displaying the training and validation loss (resp. accuracy) for each (training) epoch side by side."
   ]
  },
  {
   "cell_type": "code",
   "execution_count": 24,
   "metadata": {},
   "outputs": [
    {
     "data": {
      "text/plain": [
       "dict_keys(['loss', 'accuracy', 'val_loss', 'val_accuracy'])"
      ]
     },
     "execution_count": 24,
     "metadata": {},
     "output_type": "execute_result"
    }
   ],
   "source": [
    "history_dict = history.history\n",
    "history_dict.keys()"
   ]
  },
  {
   "cell_type": "code",
   "execution_count": 25,
   "metadata": {},
   "outputs": [
    {
     "data": {
      "image/png": "[encoded data removed]",
      "text/plain": [
       "<Figure size 432x288 with 1 Axes>"
      ]
     },
     "metadata": {
      "needs_background": "light"
     },
     "output_type": "display_data"
    }
   ],
   "source": [
    "import matplotlib.pyplot as plt\n",
    "\n",
    "acc = history.history['accuracy']\n",
    "val_acc = history.history['val_accuracy']\n",
    "loss = history.history['loss']\n",
    "val_loss = history.history['val_loss']\n",
    "\n",
    "epochs = range(1, len(acc) + 1)\n",
    "\n",
    "# \"bo\" is for \"blue dot\"\n",
    "plt.plot(epochs, loss, 'bo', label='Training loss')\n",
    "# b is for \"solid blue line\"\n",
    "plt.plot(epochs, val_loss, 'b', label='Validation loss')\n",
    "plt.title('Training and validation loss')\n",
    "\n",
    "plt.xlabel('Epochs')\n",
    "plt.ylabel('Loss')\n",
    "plt.legend()\n",
    "\n",
    "plt.show()"
   ]
  },
  {
   "cell_type": "code",
   "execution_count": 26,
   "metadata": {},
   "outputs": [
    {
     "data": {
      "image/png": "[encoded data removed]",
      "text/plain": [
       "<Figure size 432x288 with 1 Axes>"
      ]
     },
     "metadata": {
      "needs_background": "light"
     },
     "output_type": "display_data"
    }
   ],
   "source": [
    "plt.clf()   # clear figure\n",
    "acc_values = history_dict['accuracy']\n",
    "# val_acc_values = history_dict['val_acc']\n",
    "\n",
    "plt.plot(epochs, acc, 'bo', label='Training acc')\n",
    "plt.plot(epochs, val_acc, 'b', label='Validation acc')\n",
    "plt.title('Training and validation accuracy')\n",
    "\n",
    "plt.xlabel('Epochs')\n",
    "plt.ylabel('Loss')\n",
    "plt.legend()\n",
    "\n",
    "plt.show()"
   ]
  },
  {
   "cell_type": "markdown",
   "metadata": {},
   "source": [
    "## Testing the model\n",
    "\n",
    "Evaluate the model on the test dataset."
   ]
  },
  {
   "cell_type": "code",
   "execution_count": 27,
   "metadata": {},
   "outputs": [
    {
     "name": "stdout",
     "output_type": "stream",
     "text": [
      "10000/10000 [==============================] - 0s 41us/sample - loss: 0.9878 - accuracy: 0.6955\n"
     ]
    }
   ],
   "source": [
    "test_loss, test_acc = model.evaluate(test_images, test_labels)"
   ]
  },
  {
   "cell_type": "code",
   "execution_count": 28,
   "metadata": {},
   "outputs": [
    {
     "name": "stdout",
     "output_type": "stream",
     "text": [
      "test_acc: 0.6955\n"
     ]
    }
   ],
   "source": [
    "print('test_acc:', test_acc)  # Not very good..."
   ]
  },
  {
   "cell_type": "markdown",
   "metadata": {},
   "source": [
    "## Confusion matrix\n",
    "\n",
    "Let us see what the confusion matrix looks like. Using both `sklearn.metrics` and `tensorflow`. Then we visualize the confusion matrix and see what that tells us."
   ]
  },
  {
   "cell_type": "code",
   "execution_count": 29,
   "metadata": {},
   "outputs": [],
   "source": [
    "# Get the predicted classes:\n",
    "pred_classes = best_model.predict_classes(train_images)"
   ]
  },
  {
   "cell_type": "code",
   "execution_count": 30,
   "metadata": {},
   "outputs": [
    {
     "data": {
      "text/plain": [
       "array([[5268,    1,   18,   16,    1,   18,   54,    7,   46,   15],\n",
       "       [   2, 6039,   28,   37,    2,    9,    5,   10,   34,   13],\n",
       "       [  52,   35, 4967,  130,   37,   11,   76,   47,   96,   19],\n",
       "       [  15,   31,   80, 5232,    3,   86,   26,   33,  100,   32],\n",
       "       [  16,   24,   15,   11, 4960,    7,   60,   14,   30,  170],\n",
       "       [  43,   35,   16,  157,   24, 4448,   88,    9,  120,   47],\n",
       "       [  32,   20,   20,    2,   38,   42, 5230,    1,   32,    0],\n",
       "       [  19,   20,   45,   27,   65,   14,    2, 5371,   10,  142],\n",
       "       [  28,  115,   26,  118,   22,   68,   48,    9, 4907,   48],\n",
       "       [  20,   14,    0,   48,  147,   12,    2,   84,   30, 5097]])"
      ]
     },
     "execution_count": 30,
     "metadata": {},
     "output_type": "execute_result"
    }
   ],
   "source": [
    "from sklearn.metrics import confusion_matrix\n",
    "\n",
    "conf_mx = confusion_matrix(train_labels,pred_classes)\n",
    "conf_mx"
   ]
  },
  {
   "cell_type": "markdown",
   "metadata": {},
   "source": [
    "Looks like there were 66 sevens confused as nones. We see the same thing in the heat map for the error below. "
   ]
  },
  {
   "cell_type": "markdown",
   "metadata": {},
   "source": [
    "## Visualizing the confusion matrix\n",
    "\n",
    "We use code from chapter 3 of Hands on Machine Learning (A. Geron) (cf. https://github.com/ageron/handson-ml2/blob/master/03_classification.ipynb) to display a \"heat map\" of the confusion matrix. Then we normalize the confusion matrix so we can compare error rates. \n",
    "\n",
    "See https://learning.oreilly.com/library/view/hands-on-machine-learning/9781492032632/ch03.html#classification_chapter"
   ]
  },
  {
   "cell_type": "code",
   "execution_count": 31,
   "metadata": {},
   "outputs": [],
   "source": [
    "def plot_confusion_matrix(matrix):\n",
    "    \"\"\"If you prefer color and a colorbar\"\"\"\n",
    "    fig = plt.figure(figsize=(8,8))\n",
    "    ax = fig.add_subplot(111)\n",
    "    cax = ax.matshow(matrix)\n",
    "    fig.colorbar(cax)"
   ]
  },
  {
   "cell_type": "code",
   "execution_count": 32,
   "metadata": {
    "scrolled": true
   },
   "outputs": [
    {
     "data": {
      "image/png": "[encoded data removed]",
      "text/plain": [
       "<Figure size 288x288 with 1 Axes>"
      ]
     },
     "metadata": {
      "needs_background": "light"
     },
     "output_type": "display_data"
    }
   ],
   "source": [
    "import matplotlib.pyplot as plt\n",
    "\n",
    "plt.matshow(conf_mx, cmap=plt.cm.gray)\n",
    "plt.savefig(\"confusion_matrix_plot_mnist\", tight_layout=False)\n",
    "plt.show()"
   ]
  },
  {
   "cell_type": "raw",
   "metadata": {},
   "source": [
    "The confusion matrix looks better than the one in in the previous experiments, doesn' it? Let us normalize the confusion matrix to get the error rates."
   ]
  },
  {
   "cell_type": "code",
   "execution_count": 33,
   "metadata": {},
   "outputs": [],
   "source": [
    "row_sums = conf_mx.sum(axis=1, keepdims=True)\n",
    "norm_conf_mx = conf_mx / row_sums"
   ]
  },
  {
   "cell_type": "code",
   "execution_count": 34,
   "metadata": {},
   "outputs": [
    {
     "data": {
      "image/png": "[encoded data removed]",
      "text/plain": [
       "<Figure size 288x288 with 1 Axes>"
      ]
     },
     "metadata": {
      "needs_background": "light"
     },
     "output_type": "display_data"
    }
   ],
   "source": [
    "np.fill_diagonal(norm_conf_mx, 0)\n",
    "plt.matshow(norm_conf_mx, cmap=plt.cm.gray)\n",
    "plt.savefig(\"confusion_matrix_errors_plot_mnist_val\", tight_layout=False)\n",
    "plt.show()"
   ]
  },
  {
   "cell_type": "raw",
   "metadata": {},
   "source": [
    "Looks like a lot of digits were still misclassified as 9's. Let's plot examples of 5's and 9's to try to determine what went wrong here."
   ]
  },
  {
   "cell_type": "code",
   "execution_count": 35,
   "metadata": {},
   "outputs": [],
   "source": [
    "def plot_digits(instances, images_per_row=10, **options):\n",
    "    size = 28\n",
    "    images_per_row = min(len(instances), images_per_row)\n",
    "    images = [instance.reshape(size,size) for instance in instances]\n",
    "    n_rows = (len(instances) - 1) // images_per_row + 1\n",
    "    row_images = []\n",
    "    n_empty = n_rows * images_per_row - len(instances)\n",
    "    images.append(np.zeros((size, size * n_empty)))\n",
    "    for row in range(n_rows):\n",
    "        rimages = images[row * images_per_row : (row + 1) * images_per_row]\n",
    "        row_images.append(np.concatenate(rimages, axis=1))\n",
    "    image = np.concatenate(row_images, axis=0)\n",
    "    plt.imshow(image, cmap = 'binary', **options)\n",
    "    plt.axis(\"off\")"
   ]
  },
  {
   "cell_type": "code",
   "execution_count": 36,
   "metadata": {},
   "outputs": [
    {
     "data": {
      "image/png": "[encoded data removed]",
      "text/plain": [
       "<Figure size 576x576 with 4 Axes>"
      ]
     },
     "metadata": {
      "needs_background": "light"
     },
     "output_type": "display_data"
    }
   ],
   "source": [
    "cl_a, cl_b = 7,9\n",
    "X_aa = train_images[(train_labels == cl_a) & (pred_classes == cl_a)]\n",
    "X_ab = train_images[(train_labels == cl_a) & (pred_classes == cl_b)]\n",
    "X_ba = train_images[(train_labels == cl_b) & (pred_classes == cl_a)]\n",
    "X_bb = train_images[(train_labels == cl_b) & (pred_classes == cl_b)]\n",
    "\n",
    "plt.figure(figsize=(8,8))\n",
    "plt.subplot(221); plot_digits(X_aa[:25], images_per_row=5)\n",
    "plt.subplot(222); plot_digits(X_ab[:25], images_per_row=5)\n",
    "plt.subplot(223); plot_digits(X_ba[:25], images_per_row=5)\n",
    "plt.subplot(224); plot_digits(X_bb[:25], images_per_row=5)\n",
    "plt.savefig(\"error_analysis_digits_plot_EXP1_valid\")\n",
    "plt.show()"
   ]
  },
  {
   "cell_type": "code",
   "execution_count": null,
   "metadata": {},
   "outputs": [],
   "source": []
  }
 ],
 "metadata": {
  "kernelspec": {
   "display_name": "Python 3",
   "language": "python",
   "name": "python3"
  },
  "language_info": {
   "codemirror_mode": {
    "name": "ipython",
    "version": 3
   },
   "file_extension": ".py",
   "mimetype": "text/x-python",
   "name": "python",
   "nbconvert_exporter": "python",
   "pygments_lexer": "ipython3",
   "version": "3.6.9"
  },
  "toc": {
   "base_numbering": 1,
   "nav_menu": {},
   "number_sections": false,
   "sideBar": true,
   "skip_h1_title": false,
   "title_cell": "Table of Contents",
   "title_sidebar": "Contents",
   "toc_cell": false,
   "toc_position": {
    "height": "calc(100% - 180px)",
    "left": "10px",
    "top": "150px",
    "width": "386.833px"
   },
   "toc_section_display": true,
   "toc_window_display": true
  }
 },
 "nbformat": 4,
 "nbformat_minor": 4
}
