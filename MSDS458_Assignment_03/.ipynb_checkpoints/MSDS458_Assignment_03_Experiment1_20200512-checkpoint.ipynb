{
 "cells": [
  {
   "cell_type": "raw",
   "metadata": {},
   "source": [
    "DATE: May 12, 2020"
   ]
  },
  {
   "cell_type": "markdown",
   "metadata": {},
   "source": [
    "## Assignment 3:\n",
    "\n",
    "The goal is to compare several NLP algorithms for Reuters data – a multi-class classification problem.\n",
    " \n",
    "First, do EDA to understand how many topics (classes) are there in the data. Also understand how many documents\n",
    "are there in each class. You may want to reduce the number of topics to top 10 or something like that, based\n",
    "on frequencies.  \n",
    "\n",
    "In all the experiments, we would hold some parameters constants – truncation of the documents to 10,000 tokens,\n",
    " the batch size to 100, the number of epochs to 10, training split at 15%, same optimizer, same loss function of cross entropy, so that the comparisons are fair.\n",
    " \n",
    "* **EXPERIMENT 1: Fully connected dense neural network**\n",
    "* EXPERIMENT 2: Simple RNN\n",
    "* EXPERIMENT 3: LSTM RNN\n",
    "* EXPERIMENT 4: 1D CNN\n",
    "\n",
    "`Result`:  Create a table with the accuracy and loss for train/test/validation & process time for all the 4 models.\n",
    "\n",
    "`Note`: You can tweak several parameters such as dropout, embedding etc. to get more insights."
   ]
  },
  {
   "cell_type": "markdown",
   "metadata": {},
   "source": [
    "## Import packages needed (and set seed)\n",
    "\n",
    "Since Keras in part of TensorFlow 2.x, we import keras from tensorflow and use tenserflow.keras.xxx to import all other Keras packages. The seed argument produces a deterministic sequence of tensors across multiple calls."
   ]
  },
  {
   "cell_type": "code",
   "execution_count": 1,
   "metadata": {},
   "outputs": [
    {
     "data": {
      "text/plain": [
       "'2.2.4-tf'"
      ]
     },
     "execution_count": 1,
     "metadata": {},
     "output_type": "execute_result"
    }
   ],
   "source": [
    "import tensorflow as tf\n",
    "from tensorflow import keras\n",
    "keras.__version__"
   ]
  },
  {
   "cell_type": "code",
   "execution_count": 2,
   "metadata": {},
   "outputs": [],
   "source": [
    "import numpy as np\n",
    "keras.backend.clear_session()\n",
    "np.random.seed(42)\n",
    "tf.random.set_seed(42)"
   ]
  },
  {
   "cell_type": "markdown",
   "metadata": {},
   "source": [
    "# EXPERIMENT 1\n",
    "\n",
    "We create a `DNN` model with 3 layers for classifying the Reuters dataset. As, we describe below, if we reduce the number of topics to the \"top 9\" and train and test our model with the smaller set of images with those labels we get significant better performance."
   ]
  },
  {
   "cell_type": "markdown",
   "metadata": {},
   "source": [
    "## The Reuters dataset\n",
    "\n",
    "We will be working with the `Reuters dataset`, a set of short newswires and their topics, published by Reuters in 1986. It's a very simple, widely used toy dataset for text classification. There are 46 different topics; some topics are more represented than others, but each topic has at least 10 examples in the training set.\n",
    "\n",
    "Like MNIST and Fashion MNIST, the Reuters dataset comes packaged as part of Keras. \n",
    "\n",
    "See https://keras.io/api/datasets/reuters/#load_data-function\n",
    "\n",
    "\n",
    "\"Each newswire is encoded as a list of word indexes (integers). For convenience, words are indexed by overall frequency in the dataset, so that for instance the integer \"3\" encodes the 3rd most frequent word in the data. This allows for quick filtering operations such as: \"only consider the top 10,000 most common words, but eliminate the top 20 most common words\".\""
   ]
  },
  {
   "cell_type": "code",
   "execution_count": 3,
   "metadata": {},
   "outputs": [],
   "source": [
    "# https://keras.io/datasets/#reuters-newswire-topics-classification\n",
    "from tensorflow.keras.datasets import reuters\n",
    "\n",
    "voc_size = 10000\n",
    "\n",
    "(train_data, train_labels), (test_data, test_labels) = reuters.load_data(num_words=voc_size)"
   ]
  },
  {
   "cell_type": "markdown",
   "metadata": {},
   "source": [
    "The argument `num_words=voc_size=10000` restricts the data to the 10,000 most frequently occurring words found in the data.\n",
    "\n",
    "We have 8,982 training examples and 2,246 test examples:"
   ]
  },
  {
   "cell_type": "code",
   "execution_count": 4,
   "metadata": {},
   "outputs": [
    {
     "data": {
      "text/plain": [
       "(8982, 8982, 2246, 2246)"
      ]
     },
     "execution_count": 4,
     "metadata": {},
     "output_type": "execute_result"
    }
   ],
   "source": [
    "len(train_data), len(train_labels), len(test_data), len(test_labels)"
   ]
  },
  {
   "cell_type": "markdown",
   "metadata": {},
   "source": [
    "Each example is a list of integers (word indices):"
   ]
  },
  {
   "cell_type": "code",
   "execution_count": 5,
   "metadata": {},
   "outputs": [
    {
     "name": "stdout",
     "output_type": "stream",
     "text": [
      "[1, 3267, 699, 3434, 2295, 56, 2, 7511, 9, 56, 3906, 1073, 81, 5, 1198, 57, 366, 737, 132, 20, 4093, 7, 2, 49, 2295, 2, 1037, 3267, 699, 3434, 8, 7, 10, 241, 16, 855, 129, 231, 783, 5, 4, 587, 2295, 2, 2, 775, 7, 48, 34, 191, 44, 35, 1795, 505, 17, 12]\n"
     ]
    }
   ],
   "source": [
    "print(train_data[1]) "
   ]
  },
  {
   "cell_type": "code",
   "execution_count": 6,
   "metadata": {},
   "outputs": [
    {
     "data": {
      "text/plain": [
       "530"
      ]
     },
     "execution_count": 6,
     "metadata": {},
     "output_type": "execute_result"
    }
   ],
   "source": [
    "max([len(set(lst)) for lst in train_data])"
   ]
  },
  {
   "cell_type": "raw",
   "metadata": {},
   "source": [
    "The method reuters.get_word_index returns the dictionary that does this translation. We get the \"reverse\" translation of index to word and use to decode the first newswire in the training set."
   ]
  },
  {
   "cell_type": "code",
   "execution_count": 7,
   "metadata": {},
   "outputs": [
    {
     "data": {
      "text/plain": [
       "'? generale de banque sa lt ? br and lt heller overseas corp of chicago have each taken 50 pct stakes in ? company sa ? factors generale de banque said in a statement it gave no financial details of the transaction sa ? ? turnover in 1986 was 17 5 billion belgian francs reuter 3'"
      ]
     },
     "execution_count": 7,
     "metadata": {},
     "output_type": "execute_result"
    }
   ],
   "source": [
    "word_index = reuters.get_word_index()\n",
    "reverse_word_index = dict([(value, key) for (key, value) in word_index.items()])\n",
    "# Note that our indices were offset by 3\n",
    "# because 0, 1 and 2 are reserved indices for \"padding\", \"start of sequence\", and \"unknown\".\n",
    "decoded_newswire = ' '.join([reverse_word_index.get(i - 3, '?') for i in train_data[1]])\n",
    "decoded_newswire"
   ]
  },
  {
   "cell_type": "code",
   "execution_count": 8,
   "metadata": {},
   "outputs": [
    {
     "data": {
      "text/plain": [
       "56"
      ]
     },
     "execution_count": 8,
     "metadata": {},
     "output_type": "execute_result"
    }
   ],
   "source": [
    "len(decoded_newswire.split()) # number words in the newswire document"
   ]
  },
  {
   "cell_type": "code",
   "execution_count": 9,
   "metadata": {},
   "outputs": [
    {
     "data": {
      "text/plain": [
       "['?', 'generale', 'de', 'banque', 'sa', 'lt', '?']"
      ]
     },
     "execution_count": 9,
     "metadata": {},
     "output_type": "execute_result"
    }
   ],
   "source": [
    "decoded_newswire.split()[:7]   # first 7 words in the document"
   ]
  },
  {
   "cell_type": "code",
   "execution_count": 10,
   "metadata": {},
   "outputs": [
    {
     "data": {
      "text/plain": [
       "56"
      ]
     },
     "execution_count": 10,
     "metadata": {},
     "output_type": "execute_result"
    }
   ],
   "source": [
    "len(train_data[1])  # The list of encodings is the same size as the number of words in the document"
   ]
  },
  {
   "cell_type": "code",
   "execution_count": 11,
   "metadata": {},
   "outputs": [
    {
     "data": {
      "text/plain": [
       "[1, 3267, 699, 3434, 2295, 56, 2]"
      ]
     },
     "execution_count": 11,
     "metadata": {},
     "output_type": "execute_result"
    }
   ],
   "source": [
    "train_data[1][:7] # The encodings of the first 7 words in the document. Again, 2 = \"unknown\""
   ]
  },
  {
   "cell_type": "markdown",
   "metadata": {},
   "source": [
    "## Reducing the number of topics\n",
    "\n",
    "We find that the top 9 most frequent topics in both the training and test data sets are the same. We create smaller training and testing data sets using only data whose labels are in the top 9. However, since the resulting numerical labels are *not contiguous* we would have to use 21 nodes in our output layer (since the largest label is 20) if we use the labels as is. Instead, we relabel so that we can use 9 nodes in our output layer."
   ]
  },
  {
   "cell_type": "raw",
   "metadata": {},
   "source": [
    "Let's get the frequency distribution of topics in both the training and test data to get data for the most popular topics, say the \"top 10\". In fact, we settle for the top 9 since those are the same for both training and test data."
   ]
  },
  {
   "cell_type": "code",
   "execution_count": 12,
   "metadata": {},
   "outputs": [
    {
     "data": {
      "text/plain": [
       "46"
      ]
     },
     "execution_count": 12,
     "metadata": {},
     "output_type": "execute_result"
    }
   ],
   "source": [
    "from collections import Counter\n",
    "len(Counter(list(train_labels)).keys()) # There are 46 topics"
   ]
  },
  {
   "cell_type": "code",
   "execution_count": 13,
   "metadata": {},
   "outputs": [
    {
     "data": {
      "text/plain": [
       "[(3, 3159),\n",
       " (4, 1949),\n",
       " (19, 549),\n",
       " (16, 444),\n",
       " (1, 432),\n",
       " (11, 390),\n",
       " (20, 269),\n",
       " (13, 172),\n",
       " (8, 139),\n",
       " (10, 124)]"
      ]
     },
     "execution_count": 13,
     "metadata": {},
     "output_type": "execute_result"
    }
   ],
   "source": [
    "# The ten most common test labels\n",
    "from collections import Counter\n",
    "train_label_tuples = \\\n",
    "Counter(list(train_labels)).most_common(10) # if we keep the top nine we get the same training and test labels\n",
    "train_label_tuples"
   ]
  },
  {
   "cell_type": "code",
   "execution_count": 14,
   "metadata": {},
   "outputs": [
    {
     "data": {
      "text/plain": [
       "[(3, 813),\n",
       " (4, 474),\n",
       " (19, 133),\n",
       " (1, 105),\n",
       " (16, 99),\n",
       " (11, 83),\n",
       " (20, 70),\n",
       " (8, 38),\n",
       " (13, 37),\n",
       " (25, 31)]"
      ]
     },
     "execution_count": 14,
     "metadata": {},
     "output_type": "execute_result"
    }
   ],
   "source": [
    "# The ten most common test labels\n",
    "from collections import Counter\n",
    "test_label_tuples = \\\n",
    "Counter(list(test_labels)).most_common(10) # if we keep the top 9 we get the same training and test labels\n",
    "test_label_tuples"
   ]
  },
  {
   "cell_type": "raw",
   "metadata": {},
   "source": [
    "Note that the 9 most common labels for the training and test data are identical (with their relatively frequencies the same except that the order of the 8th and 9th most common are swapped)"
   ]
  },
  {
   "cell_type": "code",
   "execution_count": 15,
   "metadata": {},
   "outputs": [
    {
     "data": {
      "text/plain": [
       "(3, 4, 19, 16, 1, 11, 20, 13, 8)"
      ]
     },
     "execution_count": 15,
     "metadata": {},
     "output_type": "execute_result"
    }
   ],
   "source": [
    "# Separate the the labels from their frequencies\n",
    "topics_train_tpl, train_freq = zip(*Counter(list(train_labels)).most_common(9))\n",
    "topics_train_tpl"
   ]
  },
  {
   "cell_type": "code",
   "execution_count": 16,
   "metadata": {},
   "outputs": [
    {
     "data": {
      "text/plain": [
       "(3159, 1949, 549, 444, 432, 390, 269, 172, 139)"
      ]
     },
     "execution_count": 16,
     "metadata": {},
     "output_type": "execute_result"
    }
   ],
   "source": [
    "train_freq"
   ]
  },
  {
   "cell_type": "code",
   "execution_count": 17,
   "metadata": {},
   "outputs": [
    {
     "data": {
      "text/plain": [
       "(3, 4, 19, 1, 16, 11, 20, 8, 13)"
      ]
     },
     "execution_count": 17,
     "metadata": {},
     "output_type": "execute_result"
    }
   ],
   "source": [
    "topics_test_tpl, test_freq = zip(*Counter(list(test_labels)).most_common(9))\n",
    "topics_test_tpl"
   ]
  },
  {
   "cell_type": "code",
   "execution_count": 18,
   "metadata": {},
   "outputs": [
    {
     "data": {
      "text/plain": [
       "1852"
      ]
     },
     "execution_count": 18,
     "metadata": {},
     "output_type": "execute_result"
    }
   ],
   "source": [
    "sum(test_freq) # number of test values in top 10"
   ]
  },
  {
   "cell_type": "code",
   "execution_count": 19,
   "metadata": {},
   "outputs": [
    {
     "data": {
      "text/plain": [
       "7503"
      ]
     },
     "execution_count": 19,
     "metadata": {},
     "output_type": "execute_result"
    }
   ],
   "source": [
    "sum(train_freq)  # number of training values in top 10"
   ]
  },
  {
   "cell_type": "raw",
   "metadata": {},
   "source": [
    "Get the training labels which are in topics_train_tpl = topics_test_tpl and the corresponding training data"
   ]
  },
  {
   "cell_type": "code",
   "execution_count": 20,
   "metadata": {},
   "outputs": [],
   "source": [
    "train_data_sm, train_labels_sm = zip(*((x,y) for x,y in zip(train_data,train_labels) if y in topics_train_tpl))"
   ]
  },
  {
   "cell_type": "code",
   "execution_count": 21,
   "metadata": {},
   "outputs": [],
   "source": [
    "import numpy as np\n",
    "train_data_sm, train_labels_sm = np.array(train_data_sm), np.array(train_labels_sm)"
   ]
  },
  {
   "cell_type": "code",
   "execution_count": 22,
   "metadata": {},
   "outputs": [
    {
     "data": {
      "text/plain": [
       "(7503, 7503)"
      ]
     },
     "execution_count": 22,
     "metadata": {},
     "output_type": "execute_result"
    }
   ],
   "source": [
    "len(train_data_sm), len(train_labels_sm)  # matches number of training values in top 10"
   ]
  },
  {
   "cell_type": "raw",
   "metadata": {},
   "source": [
    "Get the test labels which are in topics_test_tpl = topics_train_tpl and the corresponding test data"
   ]
  },
  {
   "cell_type": "code",
   "execution_count": 23,
   "metadata": {},
   "outputs": [],
   "source": [
    "test_data_sm, test_labels_sm = zip(*((x,y) for x,y in zip(test_data,test_labels) if y in topics_test_tpl))"
   ]
  },
  {
   "cell_type": "code",
   "execution_count": 24,
   "metadata": {},
   "outputs": [],
   "source": [
    "test_data_sm, test_labels_sm = np.array(test_data_sm), np.array(test_labels_sm)"
   ]
  },
  {
   "cell_type": "code",
   "execution_count": 25,
   "metadata": {},
   "outputs": [
    {
     "data": {
      "text/plain": [
       "(1852, 1852)"
      ]
     },
     "execution_count": 25,
     "metadata": {},
     "output_type": "execute_result"
    }
   ],
   "source": [
    "len(test_data_sm), len(test_labels_sm) # matches number of test values in top 10"
   ]
  },
  {
   "cell_type": "code",
   "execution_count": 26,
   "metadata": {},
   "outputs": [
    {
     "data": {
      "text/plain": [
       "Counter({3: 3159,\n",
       "         4: 1949,\n",
       "         16: 444,\n",
       "         19: 549,\n",
       "         8: 139,\n",
       "         11: 390,\n",
       "         1: 432,\n",
       "         13: 172,\n",
       "         20: 269})"
      ]
     },
     "execution_count": 26,
     "metadata": {},
     "output_type": "execute_result"
    }
   ],
   "source": [
    "Counter(train_labels_sm) # another sanity check on the the new smaller set of training labels. See In [13]."
   ]
  },
  {
   "cell_type": "code",
   "execution_count": 27,
   "metadata": {},
   "outputs": [
    {
     "data": {
      "text/plain": [
       "Counter({3: 813,\n",
       "         1: 105,\n",
       "         4: 474,\n",
       "         11: 83,\n",
       "         19: 133,\n",
       "         8: 38,\n",
       "         20: 70,\n",
       "         16: 99,\n",
       "         13: 37})"
      ]
     },
     "execution_count": 27,
     "metadata": {},
     "output_type": "execute_result"
    }
   ],
   "source": [
    "Counter(test_labels_sm) # another sanity check on the the new smaller set of test labels. See In [14]."
   ]
  },
  {
   "cell_type": "markdown",
   "metadata": {},
   "source": [
    "### Let's modify the labels to make them sequential."
   ]
  },
  {
   "cell_type": "code",
   "execution_count": 28,
   "metadata": {},
   "outputs": [
    {
     "data": {
      "text/plain": [
       "{1: 0, 3: 1, 4: 2, 8: 3, 11: 4, 13: 5, 16: 6, 19: 7, 20: 8}"
      ]
     },
     "execution_count": 28,
     "metadata": {},
     "output_type": "execute_result"
    }
   ],
   "source": [
    "# first define relabeling function\n",
    "keys = Counter(test_labels_sm).keys()\n",
    "conv = dict(zip(sorted(keys),range(0,9)))\n",
    "conv"
   ]
  },
  {
   "cell_type": "code",
   "execution_count": 29,
   "metadata": {},
   "outputs": [
    {
     "name": "stdout",
     "output_type": "stream",
     "text": [
      "Counter({1: 3159, 2: 1949, 7: 549, 6: 444, 0: 432, 4: 390, 8: 269, 5: 172, 3: 139})\n",
      "Counter({1: 813, 2: 474, 7: 133, 0: 105, 6: 99, 4: 83, 8: 70, 3: 38, 5: 37})\n"
     ]
    }
   ],
   "source": [
    "# next create the new labels\n",
    "train_labels_sm2 = [conv[l] for l in train_labels_sm]\n",
    "test_labels_sm2 = [conv[l] for l in test_labels_sm]\n",
    "print(Counter(train_labels_sm2))  # Looks like they were relabeled correctly\n",
    "print(Counter(test_labels_sm2))   # Looks like they were relabeled correctly"
   ]
  },
  {
   "cell_type": "code",
   "execution_count": 30,
   "metadata": {},
   "outputs": [],
   "source": [
    "# https://www.kaggle.com/maximarufo/nlp-classification-reuters-dataset\n",
    "class_to_idx =  \\\n",
    "{'copper': 6, 'livestock': 28, 'gold': 25, \n",
    " 'money-fx': 19, 'ipi': 30, 'trade': 11, \n",
    " 'cocoa': 0, 'iron-steel': 31, 'reserves': 12, \n",
    " 'tin': 26, 'zinc': 37, 'jobs': 34, 'ship': 13, \n",
    " 'cotton': 14, 'alum': 23, 'strategic-metal': 27, \n",
    " 'lead': 45, 'housing': 7, 'meal-feed': 22, 'gnp': 21, \n",
    " 'sugar': 10, 'rubber': 32, 'dlr': 40, 'veg-oil': 2, \n",
    " 'interest': 20, 'crude': 16, 'coffee': 9, 'wheat': 5, \n",
    " 'carcass': 15, 'lei': 35, 'gas': 41, 'nat-gas': 17, \n",
    " 'oilseed': 24, 'orange': 38, 'heat': 33, 'wpi': 43, \n",
    " 'silver': 42, 'cpi': 18, 'earn': 3, 'bop': 36, 'money-supply': 8, \n",
    " 'hog': 44, 'acq': 4, 'pet-chem': 39, 'grain': 1, 'retail': 29}"
   ]
  },
  {
   "cell_type": "code",
   "execution_count": 31,
   "metadata": {},
   "outputs": [
    {
     "data": {
      "text/plain": [
       "{6: 'copper',\n",
       " 28: 'livestock',\n",
       " 25: 'gold',\n",
       " 19: 'money-fx',\n",
       " 30: 'ipi',\n",
       " 11: 'trade',\n",
       " 0: 'cocoa',\n",
       " 31: 'iron-steel',\n",
       " 12: 'reserves',\n",
       " 26: 'tin',\n",
       " 37: 'zinc',\n",
       " 34: 'jobs',\n",
       " 13: 'ship',\n",
       " 14: 'cotton',\n",
       " 23: 'alum'}"
      ]
     },
     "execution_count": 31,
     "metadata": {},
     "output_type": "execute_result"
    }
   ],
   "source": [
    "idx_to_class = dict([(value, key) for (key, value) in class_to_idx.items()])\n",
    "{k: idx_to_class[k] for k in list(idx_to_class)[:15]} # get 15 key value pairs"
   ]
  },
  {
   "cell_type": "code",
   "execution_count": 32,
   "metadata": {},
   "outputs": [
    {
     "data": {
      "text/plain": [
       "{19: 'money-fx',\n",
       " 11: 'trade',\n",
       " 13: 'ship',\n",
       " 20: 'interest',\n",
       " 16: 'crude',\n",
       " 3: 'earn',\n",
       " 8: 'money-supply',\n",
       " 4: 'acq',\n",
       " 1: 'grain'}"
      ]
     },
     "execution_count": 32,
     "metadata": {},
     "output_type": "execute_result"
    }
   ],
   "source": [
    "# get the dictionary for our smaller data set\n",
    "idx_to_class_sm = {k:v for k,v in idx_to_class.items() if k in topics_test_tpl}\n",
    "idx_to_class_sm "
   ]
  },
  {
   "cell_type": "code",
   "execution_count": 33,
   "metadata": {},
   "outputs": [
    {
     "data": {
      "text/plain": [
       "'? standard oil co said a contract has been awarded to lt cbs engineering inc for a drilling and production platform to be installed in ? bank block 826 in the gulf of mexico where standard and mobil corp each own a 40 pct interest standard said its standard oil production co subsidiary will operate the platform which is being designed to produce 15 000 barrels of oil and 50 mln cubic feet of gas daily the platform is now expected to be installed in the summer of 1988 other owners are ? ? corp lt ? with 16 66 pct and lt prudential insurance co of america with 3 34 pct reuter 3'"
      ]
     },
     "execution_count": 33,
     "metadata": {},
     "output_type": "execute_result"
    }
   ],
   "source": [
    "decoded_newswire = ' '.join([reverse_word_index.get(i - 3, '?') for i in train_data_sm[16]])\n",
    "decoded_newswire"
   ]
  },
  {
   "cell_type": "code",
   "execution_count": 34,
   "metadata": {},
   "outputs": [
    {
     "data": {
      "text/plain": [
       "'crude'"
      ]
     },
     "execution_count": 34,
     "metadata": {},
     "output_type": "execute_result"
    }
   ],
   "source": [
    "idx_to_class_sm[train_labels_sm[16]]   # checking the dictionary...topic seems to be right"
   ]
  },
  {
   "cell_type": "markdown",
   "metadata": {},
   "source": [
    "# Experiment 1:  DNN with 2 layers\n",
    "\n",
    "We build two version of our model--one with 46 output and one with 9 outputs. So we can compare the performance of the model on the original and reduced datasets. We will see that the latter model will outperform the former."
   ]
  },
  {
   "cell_type": "markdown",
   "metadata": {},
   "source": [
    "## Preparing the data\n",
    "\n",
    "We need to vectorize the sequence into numeric tensors that the neural networks can work with."
   ]
  },
  {
   "cell_type": "code",
   "execution_count": 35,
   "metadata": {},
   "outputs": [
    {
     "data": {
      "text/plain": [
       "((7503,), (1852,), (8982,), (2246,))"
      ]
     },
     "execution_count": 35,
     "metadata": {},
     "output_type": "execute_result"
    }
   ],
   "source": [
    "train_data_sm.shape, test_data_sm.shape, train_data.shape, test_data.shape"
   ]
  },
  {
   "cell_type": "code",
   "execution_count": 36,
   "metadata": {},
   "outputs": [],
   "source": [
    "# https://github.com/fchollet/deep-learning-with-python-notebooks/blob/master/3.6-classifying-newswires.ipynb\n",
    "import numpy as np\n",
    "\n",
    "def vectorize_sequences(sequences, dimension=voc_size):   # one row per one column per word in the vocabulary\n",
    "    results = np.zeros((len(sequences), dimension))\n",
    "    \n",
    "    # Say the the ith sequence = [12, 15, 12, 1], then results[i,squence] = 1 is equivalent to\n",
    "    # results[12] = 1 (executed twice)\n",
    "    # results[15] = 1\n",
    "    # results]1] = 1\n",
    "    # Consequenlty, the ith row will consist of 1s in columns 1, 12 and 15, and 0s everywhere else\n",
    "    for i, sequence in enumerate(sequences):\n",
    "        results[i, sequence] = 1.\n",
    "    return results\n",
    "\n",
    "# Our vectorized training data for both the original and smaller datasets\n",
    "train_data_smv = vectorize_sequences(train_data_sm)\n",
    "train_data_v = vectorize_sequences(train_data)\n",
    "# Our vectorized test data for both the original and smaller datasets\n",
    "test_data_smv = vectorize_sequences(test_data_sm)\n",
    "test_data_v = vectorize_sequences(test_data)"
   ]
  },
  {
   "cell_type": "code",
   "execution_count": 37,
   "metadata": {},
   "outputs": [
    {
     "data": {
      "text/plain": [
       "((7503,), (7503, 10000), (1852,), (1852, 10000))"
      ]
     },
     "execution_count": 37,
     "metadata": {},
     "output_type": "execute_result"
    }
   ],
   "source": [
    "train_data_sm.shape, train_data_smv.shape, test_data_sm.shape, test_data_smv.shape"
   ]
  },
  {
   "cell_type": "code",
   "execution_count": 38,
   "metadata": {},
   "outputs": [
    {
     "data": {
      "text/plain": [
       "((8982,), (8982, 10000), (2246, 10000), (2246, 10000))"
      ]
     },
     "execution_count": 38,
     "metadata": {},
     "output_type": "execute_result"
    }
   ],
   "source": [
    "# summary of the shapes of the training and test data before and after vectorization\n",
    "train_data.shape, train_data_v.shape, test_data_v.shape, test_data_v.shape"
   ]
  },
  {
   "cell_type": "code",
   "execution_count": 39,
   "metadata": {},
   "outputs": [],
   "source": [
    "# [1,0,0,0,0,1,0]"
   ]
  },
  {
   "cell_type": "code",
   "execution_count": 40,
   "metadata": {},
   "outputs": [],
   "source": [
    "#https://www.tensorflow.org/api_docs/python/tf/keras/utils/to_categorical\n",
    "from tensorflow.keras.utils import to_categorical\n",
    "\n",
    "one_hot_train_labels_sm = to_categorical(train_labels_sm2)\n",
    "one_hot_test_labels_sm = to_categorical(test_labels_sm2)\n",
    "one_hot_train_labels = to_categorical(train_labels)\n",
    "one_hot_test_labels = to_categorical(test_labels)"
   ]
  },
  {
   "cell_type": "code",
   "execution_count": 41,
   "metadata": {},
   "outputs": [
    {
     "data": {
      "text/plain": [
       "((7503, 9), (1852, 9))"
      ]
     },
     "execution_count": 41,
     "metadata": {},
     "output_type": "execute_result"
    }
   ],
   "source": [
    "# shape of the training and test labels after (categorical) vectorization\n",
    "one_hot_train_labels_sm.shape, one_hot_test_labels_sm.shape"
   ]
  },
  {
   "cell_type": "markdown",
   "metadata": {},
   "source": [
    "## Building our network\n",
    "\n",
    "\n",
    "This is a topic classification problem where we reduced the orginal number topics from 46 to 9. However, note that the output dimension is 21 since the categorical values are not contiguous \n",
    "\n",
    "In a stack of `Dense` layers like what we were using, each layer can only access information present in the output of the previous layer. If one layer drops some information relevant to the classification problem, this information can never be recovered by later layers: each layer can potentially become an \"information bottleneck\".\n",
    "\n",
    "We settle on two hidden layers of dimensions 64 and 32 respectively. Try experimenting with these values to see the effect on performance.\n"
   ]
  },
  {
   "cell_type": "code",
   "execution_count": 42,
   "metadata": {},
   "outputs": [],
   "source": [
    "from tensorflow.keras.models import Sequential\n",
    "from tensorflow.keras.layers import Dense\n",
    "\n",
    "# To test the effect of reducing the number of topics from 46 to (effectively) 9.\n",
    "\n",
    "# This is the model to be used with data from all 46 topics\n",
    "model_full = Sequential()\n",
    "model_full.add(Dense(units = 64, activation='relu', input_shape=(voc_size,))) # vocabulary size = 10,000\n",
    "model_full.add(Dense(units =  32, activation='relu'))\n",
    "model_full.add(Dense(units =  46, activation='softmax'))\n",
    "\n",
    "# This is the model we will use with data from the top 9 topics.\n",
    "model = Sequential()\n",
    "model.add(Dense(units =  64, activation='relu', input_shape=(voc_size,))) # vocabulary size = 10,000\n",
    "model.add(Dense(units =  32, activation='relu'))\n",
    "model.add(Dense(units =  9, activation='softmax'))"
   ]
  },
  {
   "cell_type": "code",
   "execution_count": 43,
   "metadata": {},
   "outputs": [
    {
     "name": "stdout",
     "output_type": "stream",
     "text": [
      "Model: \"sequential_1\"\n",
      "_________________________________________________________________\n",
      "Layer (type)                 Output Shape              Param #   \n",
      "=================================================================\n",
      "dense_3 (Dense)              (None, 64)                640064    \n",
      "_________________________________________________________________\n",
      "dense_4 (Dense)              (None, 32)                2080      \n",
      "_________________________________________________________________\n",
      "dense_5 (Dense)              (None, 9)                 297       \n",
      "=================================================================\n",
      "Total params: 642,441\n",
      "Trainable params: 642,441\n",
      "Non-trainable params: 0\n",
      "_________________________________________________________________\n"
     ]
    }
   ],
   "source": [
    "model.summary()"
   ]
  },
  {
   "cell_type": "markdown",
   "metadata": {},
   "source": [
    "There are two other things you should note about this architecture:\n",
    "\n",
    "* We are ending the network with a `Dense` layer of size 46. This means that for each input sample, our network will output a \n",
    "46-dimensional vector. Each entry in this vector (each dimension) will encode a different output class.\n",
    "* The last layer uses a `softmax` activation. You have already seen this pattern in the MNIST example. It means that the network will \n",
    "output a _probability distribution_ over the 46 different output classes, i.e. for every input sample, the network will produce a \n",
    "46-dimensional output vector where `output[i]` is the probability that the sample belongs to class `i`. The 46 scores will sum to 1.\n",
    "\n",
    "The best loss function to use in this case is `categorical_crossentropy`. It measures the distance between two probability distributions: \n",
    "in our case, between the probability distribution output by our network, and the true distribution of the labels. By minimizing the \n",
    "distance between these two distributions, we train our network to output something as close as possible to the true labels."
   ]
  },
  {
   "cell_type": "code",
   "execution_count": 44,
   "metadata": {},
   "outputs": [],
   "source": [
    "# Compile both models\n",
    "model_full.compile(optimizer='rmsprop',\n",
    "              loss='categorical_crossentropy',\n",
    "              metrics=['accuracy'])\n",
    "\n",
    "model.compile(optimizer='rmsprop',\n",
    "              loss='categorical_crossentropy',\n",
    "              metrics=['accuracy'])"
   ]
  },
  {
   "cell_type": "markdown",
   "metadata": {},
   "source": [
    "## Training the model\n",
    "\n",
    "To get the total training time I used the callback. "
   ]
  },
  {
   "cell_type": "code",
   "execution_count": 45,
   "metadata": {},
   "outputs": [],
   "source": [
    "# Define callback to get total training time\n",
    "import datetime\n",
    "\n",
    "class TrainRuntimeCallback(keras.callbacks.Callback):\n",
    "\n",
    "  def on_train_begin(self,logs={}):\n",
    "    self.start = datetime.datetime.now()\n",
    "\n",
    "  def on_train_end(self,logs={}):\n",
    "    self.process_time = (datetime.datetime.now() - self.start).total_seconds()"
   ]
  },
  {
   "cell_type": "markdown",
   "metadata": {},
   "source": [
    "Now let's train both networks for 10 epochs (but without callbacks on the full datasets model):"
   ]
  },
  {
   "cell_type": "code",
   "execution_count": 46,
   "metadata": {},
   "outputs": [
    {
     "name": "stdout",
     "output_type": "stream",
     "text": [
      "Train on 7634 samples, validate on 1348 samples\n",
      "Epoch 1/10\n",
      "7634/7634 [==============================] - 2s 287us/sample - loss: 1.8930 - accuracy: 0.6261 - val_loss: 1.3108 - val_accuracy: 0.7122\n",
      "Epoch 2/10\n",
      "7634/7634 [==============================] - 2s 224us/sample - loss: 0.9774 - accuracy: 0.7917 - val_loss: 1.0703 - val_accuracy: 0.7648\n",
      "Epoch 3/10\n",
      "7634/7634 [==============================] - 2s 223us/sample - loss: 0.6703 - accuracy: 0.8577 - val_loss: 0.9860 - val_accuracy: 0.7878\n",
      "Epoch 4/10\n",
      "7634/7634 [==============================] - 2s 222us/sample - loss: 0.4708 - accuracy: 0.8995 - val_loss: 0.9603 - val_accuracy: 0.7960\n",
      "Epoch 5/10\n",
      "7634/7634 [==============================] - 2s 223us/sample - loss: 0.3461 - accuracy: 0.9251 - val_loss: 1.0487 - val_accuracy: 0.7752\n",
      "Epoch 6/10\n",
      "7634/7634 [==============================] - 2s 222us/sample - loss: 0.2662 - accuracy: 0.9411 - val_loss: 0.9980 - val_accuracy: 0.7990\n",
      "Epoch 7/10\n",
      "7634/7634 [==============================] - 2s 224us/sample - loss: 0.2165 - accuracy: 0.9497 - val_loss: 1.0497 - val_accuracy: 0.7864\n",
      "Epoch 8/10\n",
      "7634/7634 [==============================] - 2s 221us/sample - loss: 0.1833 - accuracy: 0.9536 - val_loss: 1.0668 - val_accuracy: 0.7923\n",
      "Epoch 9/10\n",
      "7634/7634 [==============================] - 2s 223us/sample - loss: 0.1661 - accuracy: 0.9572 - val_loss: 1.1507 - val_accuracy: 0.7856\n",
      "Epoch 10/10\n",
      "7634/7634 [==============================] - 2s 222us/sample - loss: 0.1453 - accuracy: 0.9569 - val_loss: 1.1675 - val_accuracy: 0.7893\n"
     ]
    }
   ],
   "source": [
    "history_full = model_full.fit(train_data_v,\n",
    "                    one_hot_train_labels,\n",
    "                    epochs=10,\n",
    "                    batch_size=100,\n",
    "                    validation_split = 0.15)   "
   ]
  },
  {
   "cell_type": "code",
   "execution_count": 47,
   "metadata": {},
   "outputs": [
    {
     "name": "stdout",
     "output_type": "stream",
     "text": [
      "train_acc: 0.956903338432312, val_acc: 0.7893174886703491\n"
     ]
    }
   ],
   "source": [
    "print(f\"train_acc: {history_full.history['accuracy'][-1]}, val_acc: {history_full.history['val_accuracy'][-1]}\")"
   ]
  },
  {
   "cell_type": "code",
   "execution_count": 48,
   "metadata": {
    "scrolled": true
   },
   "outputs": [
    {
     "name": "stdout",
     "output_type": "stream",
     "text": [
      "Train on 6377 samples, validate on 1126 samples\n",
      "Epoch 1/10\n",
      "6377/6377 [==============================] - 2s 309us/sample - loss: 0.9344 - accuracy: 0.7676 - val_loss: 0.5756 - val_accuracy: 0.8641\n",
      "Epoch 2/10\n",
      "6377/6377 [==============================] - 1s 222us/sample - loss: 0.3888 - accuracy: 0.9158 - val_loss: 0.4929 - val_accuracy: 0.8766\n",
      "Epoch 3/10\n",
      "6377/6377 [==============================] - 1s 225us/sample - loss: 0.2554 - accuracy: 0.9432 - val_loss: 0.5161 - val_accuracy: 0.8792\n",
      "Epoch 4/10\n",
      "6377/6377 [==============================] - 1s 224us/sample - loss: 0.1933 - accuracy: 0.9539 - val_loss: 0.5335 - val_accuracy: 0.8739\n",
      "Epoch 5/10\n",
      "6377/6377 [==============================] - 1s 222us/sample - loss: 0.1581 - accuracy: 0.9592 - val_loss: 0.5941 - val_accuracy: 0.8650\n",
      "Epoch 6/10\n",
      "6377/6377 [==============================] - 1s 223us/sample - loss: 0.1330 - accuracy: 0.9641 - val_loss: 0.6468 - val_accuracy: 0.8615\n",
      "Epoch 7/10\n",
      "6377/6377 [==============================] - 1s 222us/sample - loss: 0.1192 - accuracy: 0.9666 - val_loss: 0.6632 - val_accuracy: 0.8615\n",
      "Epoch 8/10\n",
      "6377/6377 [==============================] - 1s 218us/sample - loss: 0.1092 - accuracy: 0.9658 - val_loss: 0.6889 - val_accuracy: 0.8552\n",
      "Epoch 9/10\n",
      "6377/6377 [==============================] - 1s 218us/sample - loss: 0.1036 - accuracy: 0.9674 - val_loss: 0.7566 - val_accuracy: 0.8499\n",
      "Epoch 10/10\n",
      "6377/6377 [==============================] - 1s 218us/sample - loss: 0.0960 - accuracy: 0.9685 - val_loss: 0.7590 - val_accuracy: 0.8526\n"
     ]
    }
   ],
   "source": [
    "train_rt = TrainRuntimeCallback()\n",
    "history = model.fit(train_data_smv,\n",
    "                    one_hot_train_labels_sm,\n",
    "                    callbacks = [train_rt],\n",
    "                    epochs=10,\n",
    "                    batch_size=100,\n",
    "#                     validation_data=(val_data_smv, one_hot_val_labels_sm))\n",
    "                    validation_split = 0.15)   # comment out if setting validation_data value."
   ]
  },
  {
   "cell_type": "code",
   "execution_count": 49,
   "metadata": {},
   "outputs": [
    {
     "data": {
      "text/plain": [
       "14.681915"
      ]
     },
     "execution_count": 49,
     "metadata": {},
     "output_type": "execute_result"
    }
   ],
   "source": [
    "# Get the training time\n",
    "train_time = train_rt.process_time\n",
    "train_time # in seconds"
   ]
  },
  {
   "cell_type": "code",
   "execution_count": 50,
   "metadata": {},
   "outputs": [
    {
     "name": "stdout",
     "output_type": "stream",
     "text": [
      "train_acc: 0.9684804677963257, val_acc: 0.8525754809379578\n"
     ]
    }
   ],
   "source": [
    "print(f\"train_acc: {history.history['accuracy'][-1]}, val_acc: {history.history['val_accuracy'][-1]}\")"
   ]
  },
  {
   "cell_type": "raw",
   "metadata": {},
   "source": [
    "That is a significant improvement in performance."
   ]
  },
  {
   "cell_type": "markdown",
   "metadata": {},
   "source": [
    "## Testing the model\n",
    "\n",
    "We test both models and get the runtime of the model classifying 9 topics using callbacks. Again, the model with less classes has better performance."
   ]
  },
  {
   "cell_type": "code",
   "execution_count": 51,
   "metadata": {},
   "outputs": [],
   "source": [
    "# Define callback to get total test time\n",
    "import datetime\n",
    "\n",
    "class TestRuntimeCallback(keras.callbacks.Callback):\n",
    "\n",
    "  def on_test_begin(self,logs={}):\n",
    "    self.start = datetime.datetime.now()\n",
    "\n",
    "  def on_test_end(self,logs={}):\n",
    "    self.process_time = (datetime.datetime.now() - self.start).total_seconds()"
   ]
  },
  {
   "cell_type": "code",
   "execution_count": 52,
   "metadata": {},
   "outputs": [
    {
     "name": "stdout",
     "output_type": "stream",
     "text": [
      "1852/1852 [==============================] - 0s 159us/sample - loss: 0.7721 - accuracy: 0.8575\n"
     ]
    }
   ],
   "source": [
    "test_rt = TestRuntimeCallback()\n",
    "test_loss, test_acc = model.evaluate(test_data_smv, one_hot_test_labels_sm, callbacks=[test_rt])"
   ]
  },
  {
   "cell_type": "code",
   "execution_count": 53,
   "metadata": {},
   "outputs": [
    {
     "name": "stdout",
     "output_type": "stream",
     "text": [
      "2246/2246 [==============================] - 0s 140us/sample - loss: 1.1852 - accuracy: 0.7854\n"
     ]
    }
   ],
   "source": [
    "# Note the original model evaluating the data with 46 topics performs worse on the test data\n",
    "test_loss, test_accuracy = model_full.evaluate(test_data_v, one_hot_test_labels)\n",
    "#print(f\"test_accuracy={test_accuracy}, test_loss={test_loss}\")"
   ]
  },
  {
   "cell_type": "code",
   "execution_count": 54,
   "metadata": {},
   "outputs": [
    {
     "data": {
      "text/plain": [
       "0.294854"
      ]
     },
     "execution_count": 54,
     "metadata": {},
     "output_type": "execute_result"
    }
   ],
   "source": [
    "# Get the test time\n",
    "test_time = test_rt.process_time\n",
    "test_time # in seconds"
   ]
  },
  {
   "cell_type": "raw",
   "metadata": {},
   "source": [
    "Use the history to get the rest of the statistics we need."
   ]
  },
  {
   "cell_type": "code",
   "execution_count": 55,
   "metadata": {},
   "outputs": [
    {
     "data": {
      "text/plain": [
       "dict_keys(['loss', 'val_loss', 'val_accuracy', 'train_accuracy'])"
      ]
     },
     "execution_count": 55,
     "metadata": {},
     "output_type": "execute_result"
    }
   ],
   "source": [
    "history_dict = history.history\n",
    "history_dict['train_accuracy'] = history_dict.pop('accuracy') # rename the the key to 'test_accuracy'\n",
    "history_dict.keys()"
   ]
  },
  {
   "cell_type": "raw",
   "metadata": {},
   "source": [
    "Note that we have has stats after each epoch..."
   ]
  },
  {
   "cell_type": "code",
   "execution_count": 56,
   "metadata": {
    "scrolled": true
   },
   "outputs": [
    {
     "data": {
      "text/html": [
       "<div>\n",
       "<style scoped>\n",
       "    .dataframe tbody tr th:only-of-type {\n",
       "        vertical-align: middle;\n",
       "    }\n",
       "\n",
       "    .dataframe tbody tr th {\n",
       "        vertical-align: top;\n",
       "    }\n",
       "\n",
       "    .dataframe thead th {\n",
       "        text-align: right;\n",
       "    }\n",
       "</style>\n",
       "<table border=\"1\" class=\"dataframe\">\n",
       "  <thead>\n",
       "    <tr style=\"text-align: right;\">\n",
       "      <th></th>\n",
       "      <th>loss</th>\n",
       "      <th>val_loss</th>\n",
       "      <th>val_accuracy</th>\n",
       "      <th>train_accuracy</th>\n",
       "      <th>test_accuracy</th>\n",
       "    </tr>\n",
       "  </thead>\n",
       "  <tbody>\n",
       "    <tr>\n",
       "      <th>9</th>\n",
       "      <td>0.095976</td>\n",
       "      <td>0.759006</td>\n",
       "      <td>0.852575</td>\n",
       "      <td>0.96848</td>\n",
       "      <td>0.785396</td>\n",
       "    </tr>\n",
       "  </tbody>\n",
       "</table>\n",
       "</div>"
      ],
      "text/plain": [
       "       loss  val_loss  val_accuracy  train_accuracy  test_accuracy\n",
       "9  0.095976  0.759006      0.852575         0.96848       0.785396"
      ]
     },
     "execution_count": 56,
     "metadata": {},
     "output_type": "execute_result"
    }
   ],
   "source": [
    "import pandas as pd\n",
    "history_df=pd.DataFrame(history_dict)\n",
    "history_df['test_accuracy'] = test_accuracy\n",
    "history_df = history_df.iloc[-1:]\n",
    "history_df.tail()"
   ]
  },
  {
   "cell_type": "code",
   "execution_count": 57,
   "metadata": {},
   "outputs": [],
   "source": [
    "# This takes a bit of time to execute...\n",
    "#class_values = ([np.argmax(model.predict(test_data_smv[x].reshape(1,10000))) for x in range(0,1852)])"
   ]
  },
  {
   "cell_type": "code",
   "execution_count": 58,
   "metadata": {},
   "outputs": [],
   "source": [
    "# from collections import Counter\n",
    "# Counter(class_values).most_common()"
   ]
  },
  {
   "cell_type": "markdown",
   "metadata": {},
   "source": [
    "## Saving the performance to a DataFrame\n",
    "\n",
    "Let us now create the DataFrame with statistics. Note that we only need the last row of history_df."
   ]
  },
  {
   "cell_type": "code",
   "execution_count": 59,
   "metadata": {},
   "outputs": [
    {
     "data": {
      "text/html": [
       "<div>\n",
       "<style scoped>\n",
       "    .dataframe tbody tr th:only-of-type {\n",
       "        vertical-align: middle;\n",
       "    }\n",
       "\n",
       "    .dataframe tbody tr th {\n",
       "        vertical-align: top;\n",
       "    }\n",
       "\n",
       "    .dataframe thead th {\n",
       "        text-align: right;\n",
       "    }\n",
       "</style>\n",
       "<table border=\"1\" class=\"dataframe\">\n",
       "  <thead>\n",
       "    <tr style=\"text-align: right;\">\n",
       "      <th></th>\n",
       "      <th>model</th>\n",
       "      <th>loss</th>\n",
       "      <th>val_loss</th>\n",
       "      <th>val_accuracy</th>\n",
       "      <th>train_accuracy</th>\n",
       "      <th>test_accuracy</th>\n",
       "      <th>training time (sec)</th>\n",
       "      <th>testing time (sec)</th>\n",
       "    </tr>\n",
       "  </thead>\n",
       "  <tbody>\n",
       "    <tr>\n",
       "      <th>9</th>\n",
       "      <td>DNN (2 layers)</td>\n",
       "      <td>0.095976</td>\n",
       "      <td>0.759006</td>\n",
       "      <td>0.852575</td>\n",
       "      <td>0.96848</td>\n",
       "      <td>0.785396</td>\n",
       "      <td>14.681915</td>\n",
       "      <td>0.294854</td>\n",
       "    </tr>\n",
       "  </tbody>\n",
       "</table>\n",
       "</div>"
      ],
      "text/plain": [
       "            model      loss  val_loss  val_accuracy  train_accuracy  \\\n",
       "9  DNN (2 layers)  0.095976  0.759006      0.852575         0.96848   \n",
       "\n",
       "   test_accuracy  training time (sec)  testing time (sec)  \n",
       "9       0.785396            14.681915            0.294854  "
      ]
     },
     "execution_count": 59,
     "metadata": {},
     "output_type": "execute_result"
    }
   ],
   "source": [
    "results_df = history_df.iloc[-1:].copy()\n",
    "results_df.insert(0,'model','DNN (2 layers)') # want the model name to appear first\n",
    "results_df['test_accuracy'] = test_accuracy\n",
    "results_df['training time (sec)'] = train_time      # we are okay with training time appearing last\n",
    "results_df['testing time (sec)'] = test_time      # we are okay with training time appearing last\n",
    "results_df"
   ]
  },
  {
   "cell_type": "markdown",
   "metadata": {},
   "source": [
    "## Plotting the performance "
   ]
  },
  {
   "cell_type": "code",
   "execution_count": 60,
   "metadata": {},
   "outputs": [
    {
     "data": {
      "image/png": "[encoded data removed]",
      "text/plain": [
       "<Figure size 432x288 with 1 Axes>"
      ]
     },
     "metadata": {
      "needs_background": "light"
     },
     "output_type": "display_data"
    }
   ],
   "source": [
    "import matplotlib.pyplot as plt\n",
    "\n",
    "loss = history.history['loss']\n",
    "val_loss = history.history['val_loss']\n",
    "\n",
    "epochs = range(1, len(loss) + 1)\n",
    "\n",
    "plt.plot(epochs, loss, 'bo', label='Training loss')\n",
    "plt.plot(epochs, val_loss, 'b', label='Validation loss')\n",
    "plt.title('Training and validation loss')\n",
    "plt.xlabel('Epochs')\n",
    "plt.ylabel('Loss')\n",
    "plt.legend()\n",
    "\n",
    "plt.show()"
   ]
  },
  {
   "cell_type": "code",
   "execution_count": 61,
   "metadata": {},
   "outputs": [
    {
     "data": {
      "image/png": "[encoded data removed]",
      "text/plain": [
       "<Figure size 432x288 with 1 Axes>"
      ]
     },
     "metadata": {
      "needs_background": "light"
     },
     "output_type": "display_data"
    }
   ],
   "source": [
    "plt.clf()   # clear figure\n",
    "\n",
    "acc = history.history['train_accuracy']\n",
    "val_acc = history.history['val_accuracy']\n",
    "\n",
    "plt.plot(epochs, acc, 'bo', label='Training acc')\n",
    "plt.plot(epochs, val_acc, 'b', label='Validation acc')\n",
    "plt.title('Training and validation accuracy')\n",
    "plt.xlabel('Epochs')\n",
    "plt.ylabel('Accuracy')\n",
    "plt.legend()\n",
    "\n",
    "plt.show()"
   ]
  },
  {
   "cell_type": "markdown",
   "metadata": {},
   "source": [
    "# Establishing a baseline\n",
    "\"This approach reaches an accuracy of ~81%. With a balanced binary classification problem, the accuracy reached by a purely random classifier would be 50%. But in this case it’s closer to 26%, so the results seem pretty good, at least when compared to a random baseline:\" \n",
    "\n",
    "See https://github.com/fchollet/deep-learning-with-python-notebooks/blob/master/3.6-classifying-newswires.ipynb"
   ]
  },
  {
   "cell_type": "code",
   "execution_count": 62,
   "metadata": {},
   "outputs": [
    {
     "data": {
      "text/plain": [
       "0.26187904967602593"
      ]
     },
     "execution_count": 62,
     "metadata": {},
     "output_type": "execute_result"
    }
   ],
   "source": [
    "import copy\n",
    "\n",
    "test_labels_sm_copy = copy.copy(test_labels_sm)\n",
    "np.random.shuffle(test_labels_sm_copy)\n",
    "float(np.sum(np.array(test_labels_sm) == np.array(test_labels_sm_copy))) / len(test_labels_sm)\n",
    "# test_labels_copy = copy.copy(test_labels)\n",
    "# np.random.shuffle(test_labels_copy)\n",
    "# float(np.sum(np.array(test_labels) == np.array(test_labels_copy))) / len(test_labels)"
   ]
  },
  {
   "cell_type": "markdown",
   "metadata": {},
   "source": [
    "## Adding dropout"
   ]
  },
  {
   "cell_type": "code",
   "execution_count": 63,
   "metadata": {},
   "outputs": [
    {
     "name": "stdout",
     "output_type": "stream",
     "text": [
      "Model: \"sequential_2\"\n",
      "_________________________________________________________________\n",
      "Layer (type)                 Output Shape              Param #   \n",
      "=================================================================\n",
      "dense_6 (Dense)              (None, 64)                640064    \n",
      "_________________________________________________________________\n",
      "dropout (Dropout)            (None, 64)                0         \n",
      "_________________________________________________________________\n",
      "dense_7 (Dense)              (None, 32)                2080      \n",
      "_________________________________________________________________\n",
      "dropout_1 (Dropout)          (None, 32)                0         \n",
      "_________________________________________________________________\n",
      "dense_8 (Dense)              (None, 9)                 297       \n",
      "=================================================================\n",
      "Total params: 642,441\n",
      "Trainable params: 642,441\n",
      "Non-trainable params: 0\n",
      "_________________________________________________________________\n"
     ]
    }
   ],
   "source": [
    "\n",
    "from tensorflow.keras.layers import Dropout\n",
    "\n",
    "model = Sequential()\n",
    "model.add(Dense(units =64, activation='relu', input_shape=(voc_size,))) # vocabulary size = 10,000\n",
    "model.add(Dropout(0.1))\n",
    "model.add(Dense(units =32, activation='relu'))\n",
    "model.add(Dropout(0.1))\n",
    "model.add(Dense(units =9, activation='softmax'))\n",
    "\n",
    "\n",
    "model.compile(optimizer='rmsprop',\n",
    "              loss='categorical_crossentropy',\n",
    "              metrics=['accuracy'])\n",
    "\n",
    "model.summary()"
   ]
  },
  {
   "cell_type": "code",
   "execution_count": 64,
   "metadata": {},
   "outputs": [
    {
     "name": "stdout",
     "output_type": "stream",
     "text": [
      "Train on 6377 samples, validate on 1126 samples\n",
      "Epoch 1/10\n",
      "6377/6377 [==============================] - 2s 303us/sample - loss: 0.9647 - accuracy: 0.7507 - val_loss: 0.6044 - val_accuracy: 0.8561\n",
      "Epoch 2/10\n",
      "6377/6377 [==============================] - 1s 228us/sample - loss: 0.4707 - accuracy: 0.8888 - val_loss: 0.5149 - val_accuracy: 0.8757\n",
      "Epoch 3/10\n",
      "6377/6377 [==============================] - 1s 227us/sample - loss: 0.3225 - accuracy: 0.9274 - val_loss: 0.5117 - val_accuracy: 0.8828\n",
      "Epoch 4/10\n",
      "6377/6377 [==============================] - 1s 227us/sample - loss: 0.2467 - accuracy: 0.9428 - val_loss: 0.5347 - val_accuracy: 0.8748\n",
      "Epoch 5/10\n",
      "6377/6377 [==============================] - 1s 227us/sample - loss: 0.1989 - accuracy: 0.9509 - val_loss: 0.5551 - val_accuracy: 0.8721\n",
      "Epoch 6/10\n",
      "6377/6377 [==============================] - 1s 226us/sample - loss: 0.1582 - accuracy: 0.9600 - val_loss: 0.6068 - val_accuracy: 0.8730\n",
      "Epoch 7/10\n",
      "6377/6377 [==============================] - 1s 228us/sample - loss: 0.1428 - accuracy: 0.9644 - val_loss: 0.6407 - val_accuracy: 0.8703\n",
      "Epoch 8/10\n",
      "6377/6377 [==============================] - 1s 226us/sample - loss: 0.1235 - accuracy: 0.9650 - val_loss: 0.6783 - val_accuracy: 0.8686\n",
      "Epoch 9/10\n",
      "6377/6377 [==============================] - 1s 226us/sample - loss: 0.1217 - accuracy: 0.9642 - val_loss: 0.7345 - val_accuracy: 0.8632\n",
      "Epoch 10/10\n",
      "6377/6377 [==============================] - 1s 225us/sample - loss: 0.1044 - accuracy: 0.9685 - val_loss: 0.7560 - val_accuracy: 0.8597\n"
     ]
    }
   ],
   "source": [
    "train_rt = TrainRuntimeCallback()\n",
    "history = model.fit(train_data_smv,\n",
    "                    one_hot_train_labels_sm,\n",
    "                    callbacks = [train_rt],\n",
    "                    epochs=10,\n",
    "                    batch_size=100,\n",
    "                    validation_split = 0.15)  "
   ]
  },
  {
   "cell_type": "code",
   "execution_count": 65,
   "metadata": {},
   "outputs": [
    {
     "data": {
      "text/plain": [
       "14.958483"
      ]
     },
     "execution_count": 65,
     "metadata": {},
     "output_type": "execute_result"
    }
   ],
   "source": [
    "# Get the training time\n",
    "train_time = train_rt.process_time\n",
    "train_time # in seconds"
   ]
  },
  {
   "cell_type": "code",
   "execution_count": 66,
   "metadata": {},
   "outputs": [
    {
     "name": "stdout",
     "output_type": "stream",
     "text": [
      "1852/1852 [==============================] - 0s 152us/sample - loss: 0.8063 - accuracy: 0.8548\n"
     ]
    }
   ],
   "source": [
    "test_rt = TestRuntimeCallback()\n",
    "test_loss, test_accuracy = model.evaluate(test_data_smv, one_hot_test_labels_sm, callbacks=[test_rt]) \n",
    "#print(f\"test_accuracy={test_accuracy}, test_loss={test_loss}\")"
   ]
  },
  {
   "cell_type": "code",
   "execution_count": 67,
   "metadata": {},
   "outputs": [
    {
     "data": {
      "text/plain": [
       "0.283598"
      ]
     },
     "execution_count": 67,
     "metadata": {},
     "output_type": "execute_result"
    }
   ],
   "source": [
    "# Get the test time\n",
    "test_time = test_rt.process_time\n",
    "test_time # in seconds"
   ]
  },
  {
   "cell_type": "markdown",
   "metadata": {},
   "source": [
    "## Saving the performance to a DataFrame\n",
    "\n",
    "Add a row to results_df with the performance statistics."
   ]
  },
  {
   "cell_type": "code",
   "execution_count": 68,
   "metadata": {},
   "outputs": [
    {
     "data": {
      "text/html": [
       "<div>\n",
       "<style scoped>\n",
       "    .dataframe tbody tr th:only-of-type {\n",
       "        vertical-align: middle;\n",
       "    }\n",
       "\n",
       "    .dataframe tbody tr th {\n",
       "        vertical-align: top;\n",
       "    }\n",
       "\n",
       "    .dataframe thead th {\n",
       "        text-align: right;\n",
       "    }\n",
       "</style>\n",
       "<table border=\"1\" class=\"dataframe\">\n",
       "  <thead>\n",
       "    <tr style=\"text-align: right;\">\n",
       "      <th></th>\n",
       "      <th>model</th>\n",
       "      <th>loss</th>\n",
       "      <th>val_loss</th>\n",
       "      <th>val_accuracy</th>\n",
       "      <th>train_accuracy</th>\n",
       "      <th>test_accuracy</th>\n",
       "      <th>training time (sec)</th>\n",
       "      <th>testing time (sec)</th>\n",
       "    </tr>\n",
       "  </thead>\n",
       "  <tbody>\n",
       "    <tr>\n",
       "      <th>0</th>\n",
       "      <td>DNN (2 layers)</td>\n",
       "      <td>0.095976</td>\n",
       "      <td>0.759006</td>\n",
       "      <td>0.852575</td>\n",
       "      <td>0.96848</td>\n",
       "      <td>0.785396</td>\n",
       "      <td>14.681915</td>\n",
       "      <td>0.294854</td>\n",
       "    </tr>\n",
       "    <tr>\n",
       "      <th>1</th>\n",
       "      <td>DNN (2 layers) w Drop</td>\n",
       "      <td>0.104431</td>\n",
       "      <td>0.755970</td>\n",
       "      <td>0.859680</td>\n",
       "      <td>0.96848</td>\n",
       "      <td>0.854752</td>\n",
       "      <td>14.958483</td>\n",
       "      <td>0.283598</td>\n",
       "    </tr>\n",
       "  </tbody>\n",
       "</table>\n",
       "</div>"
      ],
      "text/plain": [
       "                   model      loss  val_loss  val_accuracy  train_accuracy  \\\n",
       "0         DNN (2 layers)  0.095976  0.759006      0.852575         0.96848   \n",
       "1  DNN (2 layers) w Drop  0.104431  0.755970      0.859680         0.96848   \n",
       "\n",
       "   test_accuracy  training time (sec)  testing time (sec)  \n",
       "0       0.785396            14.681915            0.294854  \n",
       "1       0.854752            14.958483            0.283598  "
      ]
     },
     "execution_count": 68,
     "metadata": {},
     "output_type": "execute_result"
    }
   ],
   "source": [
    "history_dict = history.history\n",
    "history_dict['train_accuracy'] = history_dict.pop('accuracy') # rename the the key to 'test_accuracy'\n",
    "history_df=pd.DataFrame(history_dict)\n",
    "df = history_df.iloc[-1:].copy()\n",
    "df.insert(0,'model','DNN (2 layers) w Drop') # want the model name to appear first\n",
    "df['test_accuracy'] = test_accuracy\n",
    "df['training time (sec)'] = train_time      # we are okay with training time appearing last\n",
    "df['testing time (sec)'] = test_time      # we are okay with training time appearing last\n",
    "results_df = results_df.append(df, ignore_index = True)\n",
    "results_df"
   ]
  },
  {
   "cell_type": "markdown",
   "metadata": {},
   "source": [
    "## Adding an Embedding layer\n",
    "\n",
    "Instead of using `vectorize_sequences` to vectorize our input data, we rely on an `Embedding layer` to learn the best vectorization."
   ]
  },
  {
   "cell_type": "code",
   "execution_count": 69,
   "metadata": {},
   "outputs": [
    {
     "data": {
      "text/plain": [
       "(7503, 10000)"
      ]
     },
     "execution_count": 69,
     "metadata": {},
     "output_type": "execute_result"
    }
   ],
   "source": [
    "train_data_smv.shape"
   ]
  },
  {
   "cell_type": "markdown",
   "metadata": {},
   "source": [
    "**Since all the input data has to be the same length, we truncate sequences that are too long, i.e. longer than some fixed length maxlen and pad and sequence that are shorter than this. We pick maxlen so that 80% of the sequences have length at most this size.**"
   ]
  },
  {
   "cell_type": "code",
   "execution_count": 70,
   "metadata": {},
   "outputs": [
    {
     "data": {
      "text/plain": [
       "'80th percentile of train_data_sm : 193'"
      ]
     },
     "execution_count": 70,
     "metadata": {},
     "output_type": "execute_result"
    }
   ],
   "source": [
    "train_data_sm_len =[len(w) for w in train_data_sm]\n",
    "maxlen = int(np.percentile(train_data_sm_len, 80))\n",
    "f\"80th percentile of train_data_sm : {maxlen}\""
   ]
  },
  {
   "cell_type": "code",
   "execution_count": 71,
   "metadata": {},
   "outputs": [],
   "source": [
    "# https://github.com/fchollet/deep-learning-with-python-notebooks/blob/master/6.1-using-word-embeddings.ipynb\n",
    "\n",
    "from tensorflow.keras import preprocessing\n",
    "\n",
    "\n",
    "train_data_smv = preprocessing.sequence.pad_sequences(train_data_sm, maxlen=maxlen)\n",
    "test_data_smv = preprocessing.sequence.pad_sequences(test_data_sm, maxlen=maxlen)"
   ]
  },
  {
   "cell_type": "code",
   "execution_count": 72,
   "metadata": {},
   "outputs": [
    {
     "name": "stdout",
     "output_type": "stream",
     "text": [
      "Model: \"sequential_3\"\n",
      "_________________________________________________________________\n",
      "Layer (type)                 Output Shape              Param #   \n",
      "=================================================================\n",
      "embedding (Embedding)        (None, 193, 128)          1280000   \n",
      "_________________________________________________________________\n",
      "flatten (Flatten)            (None, 24704)             0         \n",
      "_________________________________________________________________\n",
      "dense_9 (Dense)              (None, 64)                1581120   \n",
      "_________________________________________________________________\n",
      "dense_10 (Dense)             (None, 32)                2080      \n",
      "_________________________________________________________________\n",
      "dense_11 (Dense)             (None, 9)                 297       \n",
      "=================================================================\n",
      "Total params: 2,863,497\n",
      "Trainable params: 2,863,497\n",
      "Non-trainable params: 0\n",
      "_________________________________________________________________\n"
     ]
    }
   ],
   "source": [
    "# https://github.com/fchollet/deep-learning-with-python-notebooks/blob/master/6.1-using-word-embeddings.ipynb\n",
    "from tensorflow.keras.layers import Flatten, Embedding\n",
    "\n",
    "model = Sequential()\n",
    "\n",
    "# We specify the maximum input length to our Embedding layer\n",
    "# so we can later flatten the embedded inputs\n",
    "model.add(Embedding(voc_size, 128, input_length = maxlen))  # vocabulary size = 10,000\n",
    "# After the Embedding layer, \n",
    "# our activations have shape `(samples, maxlen, 30)`.\n",
    "\n",
    "# We flatten the 3D tensor of embeddings \n",
    "# into a 2D tensor of shape `(samples, maxlen * 30)`\n",
    "model.add(Flatten())\n",
    "model.add(Dense(units = 64, activation='relu'))\n",
    "model.add(Dense(units = 32, activation='relu'))\n",
    "\n",
    "# We add the classifier on top\n",
    "model.add(Dense(units = 9, activation='softmax'))\n",
    "\n",
    "model.compile(optimizer='rmsprop', loss='categorical_crossentropy', metrics=['accuracy'])\n",
    "model.summary()"
   ]
  },
  {
   "cell_type": "code",
   "execution_count": 73,
   "metadata": {},
   "outputs": [
    {
     "name": "stdout",
     "output_type": "stream",
     "text": [
      "Train on 6377 samples, validate on 1126 samples\n",
      "Epoch 1/10\n",
      "6377/6377 [==============================] - 4s 665us/sample - loss: 1.1694 - accuracy: 0.6045 - val_loss: 0.8737 - val_accuracy: 0.7247\n",
      "Epoch 2/10\n",
      "6377/6377 [==============================] - 4s 584us/sample - loss: 0.5612 - accuracy: 0.8471 - val_loss: 0.7231 - val_accuracy: 0.8002\n",
      "Epoch 3/10\n",
      "6377/6377 [==============================] - 4s 581us/sample - loss: 0.2449 - accuracy: 0.9489 - val_loss: 0.7295 - val_accuracy: 0.8055\n",
      "Epoch 4/10\n",
      "6377/6377 [==============================] - 4s 593us/sample - loss: 0.1567 - accuracy: 0.9628 - val_loss: 0.7633 - val_accuracy: 0.8108\n",
      "Epoch 5/10\n",
      "6377/6377 [==============================] - 4s 582us/sample - loss: 0.1231 - accuracy: 0.9638 - val_loss: 0.8114 - val_accuracy: 0.8091\n",
      "Epoch 6/10\n",
      "6377/6377 [==============================] - 4s 585us/sample - loss: 0.0973 - accuracy: 0.9642 - val_loss: 0.8716 - val_accuracy: 0.7984\n",
      "Epoch 7/10\n",
      "6377/6377 [==============================] - 4s 585us/sample - loss: 0.0861 - accuracy: 0.9658 - val_loss: 0.8324 - val_accuracy: 0.8055\n",
      "Epoch 8/10\n",
      "6377/6377 [==============================] - 4s 583us/sample - loss: 0.0749 - accuracy: 0.9660 - val_loss: 0.8641 - val_accuracy: 0.8162\n",
      "Epoch 9/10\n",
      "6377/6377 [==============================] - 4s 586us/sample - loss: 0.0711 - accuracy: 0.9666 - val_loss: 0.9662 - val_accuracy: 0.8037\n",
      "Epoch 10/10\n",
      "6377/6377 [==============================] - 4s 593us/sample - loss: 0.0648 - accuracy: 0.9674 - val_loss: 0.9778 - val_accuracy: 0.8020\n"
     ]
    }
   ],
   "source": [
    "train_rt = TrainRuntimeCallback()\n",
    "history = model.fit(train_data_smv,             \n",
    "                    one_hot_train_labels_sm,  \n",
    "                    callbacks = [train_rt],\n",
    "                    epochs=10,\n",
    "                    batch_size=100,\n",
    "                    validation_split = 0.15)"
   ]
  },
  {
   "cell_type": "code",
   "execution_count": 74,
   "metadata": {},
   "outputs": [
    {
     "data": {
      "text/plain": [
       "37.873723"
      ]
     },
     "execution_count": 74,
     "metadata": {},
     "output_type": "execute_result"
    }
   ],
   "source": [
    "# Get the training time\n",
    "train_time = train_rt.process_time\n",
    "train_time # in seconds"
   ]
  },
  {
   "cell_type": "code",
   "execution_count": 75,
   "metadata": {},
   "outputs": [
    {
     "name": "stdout",
     "output_type": "stream",
     "text": [
      "1852/1852 [==============================] - 0s 242us/sample - loss: 0.9310 - accuracy: 0.8062\n"
     ]
    },
    {
     "data": {
      "text/plain": [
       "(0.9310204975033425, 0.8061555)"
      ]
     },
     "execution_count": 75,
     "metadata": {},
     "output_type": "execute_result"
    }
   ],
   "source": [
    "test_rt = TestRuntimeCallback()\n",
    "test_loss, test_accuracy = model.evaluate(test_data_smv, one_hot_test_labels_sm, callbacks=[test_rt])\n",
    "test_loss, test_accuracy"
   ]
  },
  {
   "cell_type": "code",
   "execution_count": 76,
   "metadata": {},
   "outputs": [
    {
     "data": {
      "text/plain": [
       "0.450522"
      ]
     },
     "execution_count": 76,
     "metadata": {},
     "output_type": "execute_result"
    }
   ],
   "source": [
    "# Get the test time\n",
    "test_time = test_rt.process_time\n",
    "test_time # in seconds"
   ]
  },
  {
   "cell_type": "markdown",
   "metadata": {},
   "source": [
    "## Plotting the performance "
   ]
  },
  {
   "cell_type": "code",
   "execution_count": 77,
   "metadata": {},
   "outputs": [
    {
     "data": {
      "image/png": "[encoded data removed]",
      "text/plain": [
       "<Figure size 432x288 with 1 Axes>"
      ]
     },
     "metadata": {
      "needs_background": "light"
     },
     "output_type": "display_data"
    }
   ],
   "source": [
    "import matplotlib.pyplot as plt\n",
    "\n",
    "loss = history.history['loss']\n",
    "val_loss = history.history['val_loss']\n",
    "\n",
    "epochs = range(1, len(loss) + 1)\n",
    "\n",
    "plt.plot(epochs, loss, 'bo', label='Training loss')\n",
    "plt.plot(epochs, val_loss, 'b', label='Validation loss')\n",
    "plt.title('Training and validation loss')\n",
    "plt.xlabel('Epochs')\n",
    "plt.ylabel('Loss')\n",
    "plt.legend()\n",
    "\n",
    "plt.show()"
   ]
  },
  {
   "cell_type": "code",
   "execution_count": 78,
   "metadata": {},
   "outputs": [
    {
     "data": {
      "image/png": "[encoded data removed]",
      "text/plain": [
       "<Figure size 432x288 with 1 Axes>"
      ]
     },
     "metadata": {
      "needs_background": "light"
     },
     "output_type": "display_data"
    }
   ],
   "source": [
    "plt.clf()   # clear figure\n",
    "\n",
    "acc = history.history['accuracy']\n",
    "val_acc = history.history['val_accuracy']\n",
    "\n",
    "plt.plot(epochs, acc, 'bo', label='Training acc')\n",
    "plt.plot(epochs, val_acc, 'b', label='Validation acc')\n",
    "plt.title('Training and validation accuracy')\n",
    "plt.xlabel('Epochs')\n",
    "plt.ylabel('Accuracy')\n",
    "plt.legend()\n",
    "\n",
    "plt.show()"
   ]
  },
  {
   "cell_type": "code",
   "execution_count": 79,
   "metadata": {},
   "outputs": [
    {
     "data": {
      "text/plain": [
       "dict_keys(['loss', 'accuracy', 'val_loss', 'val_accuracy'])"
      ]
     },
     "execution_count": 79,
     "metadata": {},
     "output_type": "execute_result"
    }
   ],
   "source": [
    "history.history.keys()"
   ]
  },
  {
   "cell_type": "raw",
   "metadata": {},
   "source": [
    "That looks much better doesn't it."
   ]
  },
  {
   "cell_type": "markdown",
   "metadata": {},
   "source": [
    "## Saving the performance to a DataFrame\n",
    "\n",
    "Add a row to results_df with the performance statistics."
   ]
  },
  {
   "cell_type": "code",
   "execution_count": 80,
   "metadata": {},
   "outputs": [
    {
     "data": {
      "text/html": [
       "<div>\n",
       "<style scoped>\n",
       "    .dataframe tbody tr th:only-of-type {\n",
       "        vertical-align: middle;\n",
       "    }\n",
       "\n",
       "    .dataframe tbody tr th {\n",
       "        vertical-align: top;\n",
       "    }\n",
       "\n",
       "    .dataframe thead th {\n",
       "        text-align: right;\n",
       "    }\n",
       "</style>\n",
       "<table border=\"1\" class=\"dataframe\">\n",
       "  <thead>\n",
       "    <tr style=\"text-align: right;\">\n",
       "      <th></th>\n",
       "      <th>model</th>\n",
       "      <th>loss</th>\n",
       "      <th>val_loss</th>\n",
       "      <th>val_accuracy</th>\n",
       "      <th>train_accuracy</th>\n",
       "      <th>test_accuracy</th>\n",
       "      <th>training time (sec)</th>\n",
       "      <th>testing time (sec)</th>\n",
       "    </tr>\n",
       "  </thead>\n",
       "  <tbody>\n",
       "    <tr>\n",
       "      <th>0</th>\n",
       "      <td>DNN (2 layers)</td>\n",
       "      <td>0.095976</td>\n",
       "      <td>0.759006</td>\n",
       "      <td>0.852575</td>\n",
       "      <td>0.968480</td>\n",
       "      <td>0.785396</td>\n",
       "      <td>14.681915</td>\n",
       "      <td>0.294854</td>\n",
       "    </tr>\n",
       "    <tr>\n",
       "      <th>1</th>\n",
       "      <td>DNN (2 layers) w Drop</td>\n",
       "      <td>0.104431</td>\n",
       "      <td>0.755970</td>\n",
       "      <td>0.859680</td>\n",
       "      <td>0.968480</td>\n",
       "      <td>0.854752</td>\n",
       "      <td>14.958483</td>\n",
       "      <td>0.283598</td>\n",
       "    </tr>\n",
       "    <tr>\n",
       "      <th>2</th>\n",
       "      <td>DNN (2 layers) w Embed</td>\n",
       "      <td>0.064846</td>\n",
       "      <td>0.977829</td>\n",
       "      <td>0.801954</td>\n",
       "      <td>0.967383</td>\n",
       "      <td>0.806156</td>\n",
       "      <td>37.873723</td>\n",
       "      <td>0.450522</td>\n",
       "    </tr>\n",
       "  </tbody>\n",
       "</table>\n",
       "</div>"
      ],
      "text/plain": [
       "                    model      loss  val_loss  val_accuracy  train_accuracy  \\\n",
       "0          DNN (2 layers)  0.095976  0.759006      0.852575        0.968480   \n",
       "1   DNN (2 layers) w Drop  0.104431  0.755970      0.859680        0.968480   \n",
       "2  DNN (2 layers) w Embed  0.064846  0.977829      0.801954        0.967383   \n",
       "\n",
       "   test_accuracy  training time (sec)  testing time (sec)  \n",
       "0       0.785396            14.681915            0.294854  \n",
       "1       0.854752            14.958483            0.283598  \n",
       "2       0.806156            37.873723            0.450522  "
      ]
     },
     "execution_count": 80,
     "metadata": {},
     "output_type": "execute_result"
    }
   ],
   "source": [
    "history_dict = history.history.copy()\n",
    "history_dict['train_accuracy'] = history_dict.pop('accuracy') # rename the the key to 'test_accuracy'\n",
    "history_df=pd.DataFrame(history_dict)\n",
    "df = history_df.iloc[-1:].copy()\n",
    "df.insert(0,'model','DNN (2 layers) w Embed') # want the model name to appear first\n",
    "df['test_accuracy'] = test_accuracy\n",
    "df['training time (sec)'] = train_time      # we are okay with training time appearing last\n",
    "df['testing time (sec)'] = test_time      # we are okay with training time appearing last\n",
    "results_df = results_df.append(df, ignore_index = True)\n",
    "results_df"
   ]
  },
  {
   "cell_type": "markdown",
   "metadata": {},
   "source": [
    "## Adding dropout"
   ]
  },
  {
   "cell_type": "code",
   "execution_count": 81,
   "metadata": {},
   "outputs": [
    {
     "name": "stdout",
     "output_type": "stream",
     "text": [
      "Model: \"sequential_4\"\n",
      "_________________________________________________________________\n",
      "Layer (type)                 Output Shape              Param #   \n",
      "=================================================================\n",
      "embedding_1 (Embedding)      (None, 193, 128)          1280000   \n",
      "_________________________________________________________________\n",
      "flatten_1 (Flatten)          (None, 24704)             0         \n",
      "_________________________________________________________________\n",
      "dense_12 (Dense)             (None, 64)                1581120   \n",
      "_________________________________________________________________\n",
      "dropout_2 (Dropout)          (None, 64)                0         \n",
      "_________________________________________________________________\n",
      "dense_13 (Dense)             (None, 32)                2080      \n",
      "_________________________________________________________________\n",
      "dropout_3 (Dropout)          (None, 32)                0         \n",
      "_________________________________________________________________\n",
      "dense_14 (Dense)             (None, 9)                 297       \n",
      "=================================================================\n",
      "Total params: 2,863,497\n",
      "Trainable params: 2,863,497\n",
      "Non-trainable params: 0\n",
      "_________________________________________________________________\n"
     ]
    }
   ],
   "source": [
    "# https://github.com/fchollet/deep-learning-with-python-notebooks/blob/master/6.1-using-word-embeddings.ipynb\n",
    "from tensorflow.keras.layers import Flatten, Embedding\n",
    "\n",
    "model = Sequential()\n",
    "model.add(Embedding(voc_size, 128, input_length = maxlen))  # vocabulary size = 10,000\n",
    "model.add(Flatten())\n",
    "\n",
    "model.add(Dense(units =64, activation='relu'))\n",
    "model.add(Dropout(0.1))\n",
    "model.add(Dense(units =32, activation='relu'))\n",
    "model.add(Dropout(0.1))\n",
    "model.add(Dense(units =9, activation='softmax'))\n",
    "\n",
    "model.compile(optimizer='rmsprop', loss='categorical_crossentropy', metrics=['accuracy'])\n",
    "model.summary()"
   ]
  },
  {
   "cell_type": "code",
   "execution_count": 82,
   "metadata": {},
   "outputs": [
    {
     "name": "stdout",
     "output_type": "stream",
     "text": [
      "Train on 6377 samples, validate on 1126 samples\n",
      "Epoch 1/10\n",
      "6377/6377 [==============================] - 5s 756us/sample - loss: 1.2402 - accuracy: 0.5866 - val_loss: 0.9173 - val_accuracy: 0.7256\n",
      "Epoch 2/10\n",
      "6377/6377 [==============================] - 4s 642us/sample - loss: 0.6961 - accuracy: 0.8013 - val_loss: 0.7232 - val_accuracy: 0.7913\n",
      "Epoch 3/10\n",
      "6377/6377 [==============================] - 4s 620us/sample - loss: 0.3531 - accuracy: 0.9175 - val_loss: 0.6813 - val_accuracy: 0.8188\n",
      "Epoch 4/10\n",
      "6377/6377 [==============================] - 4s 609us/sample - loss: 0.2021 - accuracy: 0.9586 - val_loss: 0.7275 - val_accuracy: 0.8153\n",
      "Epoch 5/10\n",
      "6377/6377 [==============================] - 4s 603us/sample - loss: 0.1476 - accuracy: 0.9613 - val_loss: 0.7604 - val_accuracy: 0.8206\n",
      "Epoch 6/10\n",
      "6377/6377 [==============================] - 4s 562us/sample - loss: 0.1182 - accuracy: 0.9658 - val_loss: 0.8411 - val_accuracy: 0.8082\n",
      "Epoch 7/10\n",
      "6377/6377 [==============================] - 4s 551us/sample - loss: 0.1023 - accuracy: 0.9672 - val_loss: 0.8436 - val_accuracy: 0.8073\n",
      "Epoch 8/10\n",
      "6377/6377 [==============================] - 4s 549us/sample - loss: 0.0916 - accuracy: 0.9685 - val_loss: 0.8884 - val_accuracy: 0.8117\n",
      "Epoch 9/10\n",
      "6377/6377 [==============================] - 4s 555us/sample - loss: 0.0829 - accuracy: 0.9677 - val_loss: 0.9527 - val_accuracy: 0.8117\n",
      "Epoch 10/10\n",
      "6377/6377 [==============================] - 4s 561us/sample - loss: 0.0778 - accuracy: 0.9683 - val_loss: 0.8748 - val_accuracy: 0.8144\n"
     ]
    }
   ],
   "source": [
    "train_rt = TrainRuntimeCallback()\n",
    "history = model.fit(train_data_smv,             \n",
    "                    one_hot_train_labels_sm,  \n",
    "                    callbacks = [train_rt],\n",
    "                    epochs=10,\n",
    "                    batch_size=100,\n",
    "                    validation_split = 0.15)"
   ]
  },
  {
   "cell_type": "code",
   "execution_count": 83,
   "metadata": {},
   "outputs": [
    {
     "data": {
      "text/plain": [
       "38.327864"
      ]
     },
     "execution_count": 83,
     "metadata": {},
     "output_type": "execute_result"
    }
   ],
   "source": [
    "# Get the training time\n",
    "train_time = train_rt.process_time\n",
    "train_time # in seconds"
   ]
  },
  {
   "cell_type": "code",
   "execution_count": 84,
   "metadata": {},
   "outputs": [
    {
     "name": "stdout",
     "output_type": "stream",
     "text": [
      "1852/1852 [==============================] - 0s 182us/sample - loss: 0.8656 - accuracy: 0.8245\n"
     ]
    },
    {
     "data": {
      "text/plain": [
       "(0.8655870228555238, 0.82451403)"
      ]
     },
     "execution_count": 84,
     "metadata": {},
     "output_type": "execute_result"
    }
   ],
   "source": [
    "test_rt = TestRuntimeCallback()\n",
    "test_loss, test_accuracy = model.evaluate(test_data_smv, one_hot_test_labels_sm, callbacks=[test_rt])\n",
    "test_loss, test_accuracy"
   ]
  },
  {
   "cell_type": "code",
   "execution_count": 85,
   "metadata": {},
   "outputs": [
    {
     "data": {
      "text/plain": [
       "0.33838"
      ]
     },
     "execution_count": 85,
     "metadata": {},
     "output_type": "execute_result"
    }
   ],
   "source": [
    "# Get the test time\n",
    "test_time = test_rt.process_time\n",
    "test_time # in seconds"
   ]
  },
  {
   "cell_type": "markdown",
   "metadata": {},
   "source": [
    "## Plotting the performance "
   ]
  },
  {
   "cell_type": "code",
   "execution_count": 86,
   "metadata": {},
   "outputs": [
    {
     "data": {
      "image/png": "[encoded data removed]",
      "text/plain": [
       "<Figure size 432x288 with 1 Axes>"
      ]
     },
     "metadata": {
      "needs_background": "light"
     },
     "output_type": "display_data"
    }
   ],
   "source": [
    "import matplotlib.pyplot as plt\n",
    "\n",
    "loss = history.history['loss']\n",
    "val_loss = history.history['val_loss']\n",
    "\n",
    "epochs = range(1, len(loss) + 1)\n",
    "\n",
    "plt.plot(epochs, loss, 'bo', label='Training loss')\n",
    "plt.plot(epochs, val_loss, 'b', label='Validation loss')\n",
    "plt.title('Training and validation loss')\n",
    "plt.xlabel('Epochs')\n",
    "plt.ylabel('Loss')\n",
    "plt.legend()\n",
    "\n",
    "plt.show()"
   ]
  },
  {
   "cell_type": "code",
   "execution_count": 87,
   "metadata": {},
   "outputs": [
    {
     "data": {
      "image/png": "[encoded data removed]",
      "text/plain": [
       "<Figure size 432x288 with 1 Axes>"
      ]
     },
     "metadata": {
      "needs_background": "light"
     },
     "output_type": "display_data"
    }
   ],
   "source": [
    "plt.clf()   # clear figure\n",
    "\n",
    "acc = history.history['accuracy']\n",
    "val_acc = history.history['val_accuracy']\n",
    "\n",
    "plt.plot(epochs, acc, 'bo', label='Training acc')\n",
    "plt.plot(epochs, val_acc, 'b', label='Validation acc')\n",
    "plt.title('Training and validation accuracy')\n",
    "plt.xlabel('Epochs')\n",
    "plt.ylabel('Accuracy')\n",
    "plt.legend()\n",
    "\n",
    "plt.show()"
   ]
  },
  {
   "cell_type": "markdown",
   "metadata": {},
   "source": [
    "## Saving the performance to a DataFrame\n",
    "\n",
    "Add a row to results_df with the performance statistics."
   ]
  },
  {
   "cell_type": "code",
   "execution_count": 88,
   "metadata": {},
   "outputs": [
    {
     "data": {
      "text/html": [
       "<div>\n",
       "<style scoped>\n",
       "    .dataframe tbody tr th:only-of-type {\n",
       "        vertical-align: middle;\n",
       "    }\n",
       "\n",
       "    .dataframe tbody tr th {\n",
       "        vertical-align: top;\n",
       "    }\n",
       "\n",
       "    .dataframe thead th {\n",
       "        text-align: right;\n",
       "    }\n",
       "</style>\n",
       "<table border=\"1\" class=\"dataframe\">\n",
       "  <thead>\n",
       "    <tr style=\"text-align: right;\">\n",
       "      <th></th>\n",
       "      <th>model</th>\n",
       "      <th>loss</th>\n",
       "      <th>val_loss</th>\n",
       "      <th>val_accuracy</th>\n",
       "      <th>train_accuracy</th>\n",
       "      <th>test_accuracy</th>\n",
       "      <th>training time (sec)</th>\n",
       "      <th>testing time (sec)</th>\n",
       "    </tr>\n",
       "  </thead>\n",
       "  <tbody>\n",
       "    <tr>\n",
       "      <th>0</th>\n",
       "      <td>DNN (2 layers)</td>\n",
       "      <td>0.095976</td>\n",
       "      <td>0.759006</td>\n",
       "      <td>0.852575</td>\n",
       "      <td>0.968480</td>\n",
       "      <td>0.785396</td>\n",
       "      <td>14.681915</td>\n",
       "      <td>0.294854</td>\n",
       "    </tr>\n",
       "    <tr>\n",
       "      <th>1</th>\n",
       "      <td>DNN (2 layers) w Drop</td>\n",
       "      <td>0.104431</td>\n",
       "      <td>0.755970</td>\n",
       "      <td>0.859680</td>\n",
       "      <td>0.968480</td>\n",
       "      <td>0.854752</td>\n",
       "      <td>14.958483</td>\n",
       "      <td>0.283598</td>\n",
       "    </tr>\n",
       "    <tr>\n",
       "      <th>2</th>\n",
       "      <td>DNN (2 layers) w Embed</td>\n",
       "      <td>0.064846</td>\n",
       "      <td>0.977829</td>\n",
       "      <td>0.801954</td>\n",
       "      <td>0.967383</td>\n",
       "      <td>0.806156</td>\n",
       "      <td>37.873723</td>\n",
       "      <td>0.450522</td>\n",
       "    </tr>\n",
       "    <tr>\n",
       "      <th>3</th>\n",
       "      <td>DNN (2 layers) w Embed + Dropout</td>\n",
       "      <td>0.077752</td>\n",
       "      <td>0.874787</td>\n",
       "      <td>0.814387</td>\n",
       "      <td>0.968324</td>\n",
       "      <td>0.824514</td>\n",
       "      <td>38.327864</td>\n",
       "      <td>0.338380</td>\n",
       "    </tr>\n",
       "  </tbody>\n",
       "</table>\n",
       "</div>"
      ],
      "text/plain": [
       "                              model      loss  val_loss  val_accuracy  \\\n",
       "0                    DNN (2 layers)  0.095976  0.759006      0.852575   \n",
       "1             DNN (2 layers) w Drop  0.104431  0.755970      0.859680   \n",
       "2            DNN (2 layers) w Embed  0.064846  0.977829      0.801954   \n",
       "3  DNN (2 layers) w Embed + Dropout  0.077752  0.874787      0.814387   \n",
       "\n",
       "   train_accuracy  test_accuracy  training time (sec)  testing time (sec)  \n",
       "0        0.968480       0.785396            14.681915            0.294854  \n",
       "1        0.968480       0.854752            14.958483            0.283598  \n",
       "2        0.967383       0.806156            37.873723            0.450522  \n",
       "3        0.968324       0.824514            38.327864            0.338380  "
      ]
     },
     "execution_count": 88,
     "metadata": {},
     "output_type": "execute_result"
    }
   ],
   "source": [
    "history_dict = history.history.copy()\n",
    "history_dict['train_accuracy'] = history_dict.pop('accuracy') # rename the the key to 'test_accuracy'\n",
    "history_df=pd.DataFrame(history_dict)\n",
    "df = history_df.iloc[-1:].copy()\n",
    "df.insert(0,'model','DNN (2 layers) w Embed + Dropout') # want the model name to appear first\n",
    "df['test_accuracy'] = test_accuracy\n",
    "df['training time (sec)'] = train_time      # we are okay with training time appearing last\n",
    "df['testing time (sec)'] = test_time      # we are okay with training time appearing last\n",
    "results_df = results_df.append(df, ignore_index = True)\n",
    "results_df"
   ]
  },
  {
   "cell_type": "markdown",
   "metadata": {},
   "source": [
    "## Saving to a DataFrame to disk\n",
    "\n",
    "Save the DataFrame for use in part 2."
   ]
  },
  {
   "cell_type": "code",
   "execution_count": 89,
   "metadata": {},
   "outputs": [],
   "source": [
    "results_df.to_pickle(\"results1.pkl\") "
   ]
  }
 ],
 "metadata": {
  "kernelspec": {
   "display_name": "Python 3",
   "language": "python",
   "name": "python3"
  },
  "language_info": {
   "codemirror_mode": {
    "name": "ipython",
    "version": 3
   },
   "file_extension": ".py",
   "mimetype": "text/x-python",
   "name": "python",
   "nbconvert_exporter": "python",
   "pygments_lexer": "ipython3",
   "version": "3.6.9"
  },
  "toc": {
   "base_numbering": 1,
   "nav_menu": {},
   "number_sections": false,
   "sideBar": true,
   "skip_h1_title": false,
   "title_cell": "Table of Contents",
   "title_sidebar": "Contents",
   "toc_cell": false,
   "toc_position": {},
   "toc_section_display": true,
   "toc_window_display": false
  }
 },
 "nbformat": 4,
 "nbformat_minor": 4
}
