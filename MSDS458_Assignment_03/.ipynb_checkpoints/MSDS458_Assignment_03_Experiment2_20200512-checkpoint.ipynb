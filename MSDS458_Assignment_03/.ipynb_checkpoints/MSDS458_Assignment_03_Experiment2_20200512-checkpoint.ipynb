{
 "cells": [
  {
   "cell_type": "raw",
   "metadata": {},
   "source": [
    "DATE: May 12, 2020"
   ]
  },
  {
   "cell_type": "markdown",
   "metadata": {},
   "source": [
    "## Assignment 3:\n",
    "\n",
    "The goal is to compare several NLP algorithms for Reuters data – multi-class classification problem\n",
    " \n",
    "First, do EDA to understand how many topics (classes) are there in the data. Also understand how many documents\n",
    "are there in each class. You may want to reduce the number of topics to top 10 or something like that, based\n",
    "on frequencies.  \n",
    "\n",
    "In all the experiments, we would hold some parameters constants – truncation of the documents to 10,000 tokens,\n",
    " the batch size to 100, the number of epochs to 10, same optimizer, same loss function of cross entropy, so that\n",
    " the comparisons are fair.\n",
    " \n",
    "* EXPERIMENT 1: Fully connected dense neural network\n",
    "* **EXPERIMENT 2: Simple RNN**\n",
    "* EXPERIMENT 3: LSTM RNN\n",
    "* EXPERIMENT 4: 1D CNN\n",
    "\n",
    "`Result`:  Create a table with the accuracy and loss for train/test/validation & process time for all the 4 models.\n",
    "\n",
    "`Note`: You can tweak several parameters such as dropout, embedding etc. to get more insights."
   ]
  },
  {
   "cell_type": "code",
   "execution_count": 1,
   "metadata": {},
   "outputs": [
    {
     "data": {
      "text/plain": [
       "'2.2.4-tf'"
      ]
     },
     "execution_count": 1,
     "metadata": {},
     "output_type": "execute_result"
    }
   ],
   "source": [
    "import tensorflow as tf\n",
    "from tensorflow import keras\n",
    "keras.__version__"
   ]
  },
  {
   "cell_type": "markdown",
   "metadata": {},
   "source": [
    "## The Reuters dataset\n",
    "\n",
    "We will be working with the `Reuters dataset`, a set of short newswires and their topics, published by Reuters in 1986. It's a very simple, widely used toy dataset for text classification. There are 46 different topics; some topics are more represented than others, but each topic has at least 10 examples in the training set.\n",
    "\n",
    "Like MNIST and Fashion MNIST, the Reuters dataset comes packaged as part of Keras. \n",
    "\n",
    "See https://keras.io/api/datasets/reuters/#load_data-function\n",
    "\n",
    "\n",
    "\"Each newswire is encoded as a list of word indexes (integers). For convenience, words are indexed by overall frequency in the dataset, so that for instance the integer \"3\" encodes the 3rd most frequent word in the data. This allows for quick filtering operations such as: \"only consider the top 10,000 most common words, but eliminate the top 20 most common words\".\""
   ]
  },
  {
   "cell_type": "code",
   "execution_count": 2,
   "metadata": {},
   "outputs": [],
   "source": [
    "# https://keras.io/datasets/#reuters-newswire-topics-classification\n",
    "from tensorflow.keras.datasets import reuters\n",
    "\n",
    "voc_size = 10000\n",
    "\n",
    "(train_data, train_labels), (test_data, test_labels) = reuters.load_data(num_words=voc_size)"
   ]
  },
  {
   "cell_type": "markdown",
   "metadata": {},
   "source": [
    "The argument `num_words=10000` restricts the data to the 10,000 most frequently occurring words found in the data.\n",
    "\n",
    "We have 8,982 training examples and 2,246 test examples:"
   ]
  },
  {
   "cell_type": "markdown",
   "metadata": {},
   "source": [
    "## Reducing the number of topics"
   ]
  },
  {
   "cell_type": "raw",
   "metadata": {},
   "source": [
    "Let's get the frequency distribution of topics in both the training and test data to get data for the most popular topics, say the \"top 10\". In fact, we settle for the top 9 since those are the same for both training and test data."
   ]
  },
  {
   "cell_type": "code",
   "execution_count": 3,
   "metadata": {},
   "outputs": [
    {
     "data": {
      "text/plain": [
       "(3, 4, 19, 16, 1, 11, 20, 13, 8)"
      ]
     },
     "execution_count": 3,
     "metadata": {},
     "output_type": "execute_result"
    }
   ],
   "source": [
    "from collections import Counter\n",
    "topics_train_tpl, _ = zip(*Counter(list(train_labels)).most_common(9))\n",
    "topics_train_tpl"
   ]
  },
  {
   "cell_type": "code",
   "execution_count": 4,
   "metadata": {},
   "outputs": [
    {
     "data": {
      "text/plain": [
       "(3, 4, 19, 1, 16, 11, 20, 8, 13)"
      ]
     },
     "execution_count": 4,
     "metadata": {},
     "output_type": "execute_result"
    }
   ],
   "source": [
    "topics_test_tpl, _ = zip(*Counter(list(test_labels)).most_common(9))\n",
    "topics_test_tpl"
   ]
  },
  {
   "cell_type": "raw",
   "metadata": {},
   "source": [
    "Get the training labels which are in topics_train_tpl = topics_test_tpl and the corresponding training data"
   ]
  },
  {
   "cell_type": "code",
   "execution_count": 5,
   "metadata": {},
   "outputs": [],
   "source": [
    "train_data_sm, train_labels_sm = zip(*((x,y) for x,y in zip(train_data,train_labels) if y in topics_train_tpl))"
   ]
  },
  {
   "cell_type": "code",
   "execution_count": 6,
   "metadata": {},
   "outputs": [],
   "source": [
    "import numpy as np\n",
    "train_data_sm, train_labels_sm = np.array(train_data_sm), np.array(train_labels_sm)"
   ]
  },
  {
   "cell_type": "code",
   "execution_count": 7,
   "metadata": {},
   "outputs": [
    {
     "data": {
      "text/plain": [
       "(7503, 7503)"
      ]
     },
     "execution_count": 7,
     "metadata": {},
     "output_type": "execute_result"
    }
   ],
   "source": [
    "len(train_data_sm), len(train_labels_sm)  # matches number of training values in top 10"
   ]
  },
  {
   "cell_type": "raw",
   "metadata": {},
   "source": [
    "Get the test labels which are in topics_test_tpl = topics_train_tpl and the corresponding test data"
   ]
  },
  {
   "cell_type": "code",
   "execution_count": 8,
   "metadata": {},
   "outputs": [],
   "source": [
    "test_data_sm, test_labels_sm = zip(*((x,y) for x,y in zip(test_data,test_labels) if y in topics_test_tpl))"
   ]
  },
  {
   "cell_type": "code",
   "execution_count": 9,
   "metadata": {},
   "outputs": [],
   "source": [
    "test_data_sm, test_labels_sm = np.array(test_data_sm), np.array(test_labels_sm)"
   ]
  },
  {
   "cell_type": "code",
   "execution_count": 10,
   "metadata": {},
   "outputs": [
    {
     "data": {
      "text/plain": [
       "(1852, 1852)"
      ]
     },
     "execution_count": 10,
     "metadata": {},
     "output_type": "execute_result"
    }
   ],
   "source": [
    "len(test_data_sm), len(test_labels_sm) # matches number of test values in top 10"
   ]
  },
  {
   "cell_type": "code",
   "execution_count": 11,
   "metadata": {},
   "outputs": [
    {
     "data": {
      "text/plain": [
       "Counter({3: 3159,\n",
       "         4: 1949,\n",
       "         16: 444,\n",
       "         19: 549,\n",
       "         8: 139,\n",
       "         11: 390,\n",
       "         1: 432,\n",
       "         13: 172,\n",
       "         20: 269})"
      ]
     },
     "execution_count": 11,
     "metadata": {},
     "output_type": "execute_result"
    }
   ],
   "source": [
    "Counter(train_labels_sm) # another sanity check on the the new smaller set of training labels. See In [13]."
   ]
  },
  {
   "cell_type": "code",
   "execution_count": 12,
   "metadata": {},
   "outputs": [
    {
     "data": {
      "text/plain": [
       "Counter({3: 813,\n",
       "         1: 105,\n",
       "         4: 474,\n",
       "         11: 83,\n",
       "         19: 133,\n",
       "         8: 38,\n",
       "         20: 70,\n",
       "         16: 99,\n",
       "         13: 37})"
      ]
     },
     "execution_count": 12,
     "metadata": {},
     "output_type": "execute_result"
    }
   ],
   "source": [
    "Counter(test_labels_sm) # another sanity check on the the new smaller set of test labels. See In [14]."
   ]
  },
  {
   "cell_type": "markdown",
   "metadata": {},
   "source": [
    "# EXPERIMENT  2 : Simple RNN."
   ]
  },
  {
   "cell_type": "code",
   "execution_count": 13,
   "metadata": {},
   "outputs": [],
   "source": [
    "import numpy as np\n",
    "keras.backend.clear_session()\n",
    "np.random.seed(42)\n",
    "tf.random.set_seed(42)"
   ]
  },
  {
   "cell_type": "markdown",
   "metadata": {},
   "source": [
    "## Preparing the data\n",
    "\n",
    "We need to vectorize the sequence into numeric tensors that the neural networks can work with."
   ]
  },
  {
   "cell_type": "code",
   "execution_count": 14,
   "metadata": {},
   "outputs": [
    {
     "data": {
      "text/plain": [
       "((7503,), (1852,))"
      ]
     },
     "execution_count": 14,
     "metadata": {},
     "output_type": "execute_result"
    }
   ],
   "source": [
    "train_data_sm.shape, test_data_sm.shape"
   ]
  },
  {
   "cell_type": "code",
   "execution_count": 15,
   "metadata": {},
   "outputs": [],
   "source": [
    "# import numpy as np\n",
    "\n",
    "# def vectorize_sequences(sequences, dimension=10000):\n",
    "#     results = np.zeros((len(sequences), dimension))\n",
    "#     for i, sequence in enumerate(sequences):\n",
    "#         results[i, sequence] = 1.\n",
    "#     return results\n",
    "\n",
    "# # Our vectorized training data\n",
    "# train_data_smv = vectorize_sequences(train_data_sm)\n",
    "# # Our vectorized test data\n",
    "# test_data_smv = vectorize_sequences(test_data_sm)"
   ]
  },
  {
   "cell_type": "code",
   "execution_count": 16,
   "metadata": {},
   "outputs": [],
   "source": [
    "# Alternate processing for RNN...\n",
    "# https://github.com/fchollet/deep-learning-with-python-notebooks/blob/master/6.1-using-word-embeddings.ipynb\n",
    "\n",
    "from tensorflow.keras import preprocessing\n",
    "\n",
    "\n",
    "train_data_sm_rnn = preprocessing.sequence.pad_sequences(train_data_sm, maxlen=193)\n",
    "test_data_sm_rnn = preprocessing.sequence.pad_sequences(test_data_sm, maxlen=193)"
   ]
  },
  {
   "cell_type": "code",
   "execution_count": 17,
   "metadata": {},
   "outputs": [],
   "source": [
    "from tensorflow.keras.utils import to_categorical\n",
    "\n",
    "one_hot_train_labels_sm = to_categorical(train_labels_sm)\n",
    "one_hot_test_labels_sm = to_categorical(test_labels_sm)"
   ]
  },
  {
   "cell_type": "code",
   "execution_count": 18,
   "metadata": {},
   "outputs": [
    {
     "data": {
      "text/plain": [
       "((7503,), (7503, 21))"
      ]
     },
     "execution_count": 18,
     "metadata": {},
     "output_type": "execute_result"
    }
   ],
   "source": [
    "train_labels_sm.shape, one_hot_train_labels_sm.shape"
   ]
  },
  {
   "cell_type": "code",
   "execution_count": 19,
   "metadata": {},
   "outputs": [
    {
     "data": {
      "text/plain": [
       "((1852, 193), (7503, 193), (7503, 21), (1852, 21))"
      ]
     },
     "execution_count": 19,
     "metadata": {},
     "output_type": "execute_result"
    }
   ],
   "source": [
    "test_data_sm_rnn.shape, train_data_sm_rnn.shape, one_hot_train_labels_sm.shape, one_hot_test_labels_sm.shape"
   ]
  },
  {
   "cell_type": "markdown",
   "metadata": {},
   "source": [
    "## Building our network"
   ]
  },
  {
   "cell_type": "code",
   "execution_count": 20,
   "metadata": {},
   "outputs": [
    {
     "name": "stdout",
     "output_type": "stream",
     "text": [
      "Model: \"sequential\"\n",
      "_________________________________________________________________\n",
      "Layer (type)                 Output Shape              Param #   \n",
      "=================================================================\n",
      "embedding (Embedding)        (None, 193, 128)          1280000   \n",
      "_________________________________________________________________\n",
      "simple_rnn (SimpleRNN)       (None, 64)                12352     \n",
      "_________________________________________________________________\n",
      "dense (Dense)                (None, 21)                1365      \n",
      "=================================================================\n",
      "Total params: 1,293,717\n",
      "Trainable params: 1,293,717\n",
      "Non-trainable params: 0\n",
      "_________________________________________________________________\n"
     ]
    }
   ],
   "source": [
    "from tensorflow.keras.models import Sequential\n",
    "from tensorflow.keras.layers import Embedding, SimpleRNN\n",
    "from tensorflow.keras.layers import Dense\n",
    "\n",
    "model = Sequential()\n",
    "model.add(Embedding(input_dim = voc_size, output_dim = 128, input_length = 193))\n",
    "model.add(SimpleRNN(units = 64))\n",
    "model.add(Dense(units = 21, activation='softmax'))\n",
    "\n",
    "model.summary()"
   ]
  },
  {
   "cell_type": "code",
   "execution_count": 21,
   "metadata": {},
   "outputs": [],
   "source": [
    "model.compile(optimizer='rmsprop',\n",
    "              loss='categorical_crossentropy',\n",
    "              metrics=['accuracy'])"
   ]
  },
  {
   "cell_type": "markdown",
   "metadata": {},
   "source": [
    "## Training the model\n",
    "\n",
    "To get the total training time I used the callback. "
   ]
  },
  {
   "cell_type": "code",
   "execution_count": 22,
   "metadata": {},
   "outputs": [],
   "source": [
    "# Define callback to get total training time\n",
    "import datetime\n",
    "\n",
    "class TrainRuntimeCallback(keras.callbacks.Callback):\n",
    "\n",
    "  def on_train_begin(self,logs={}):\n",
    "    self.start = datetime.datetime.now()\n",
    "\n",
    "  def on_train_end(self,logs={}):\n",
    "    self.process_time = (datetime.datetime.now() - self.start).total_seconds()"
   ]
  },
  {
   "cell_type": "markdown",
   "metadata": {},
   "source": [
    "Now let's train our network for 10 epochs:"
   ]
  },
  {
   "cell_type": "code",
   "execution_count": 23,
   "metadata": {},
   "outputs": [
    {
     "name": "stdout",
     "output_type": "stream",
     "text": [
      "Train on 6377 samples, validate on 1126 samples\n",
      "Epoch 1/10\n",
      "6377/6377 [==============================] - 9s 1ms/sample - loss: 1.7632 - accuracy: 0.4740 - val_loss: 1.4013 - val_accuracy: 0.5719\n",
      "Epoch 2/10\n",
      "6377/6377 [==============================] - 7s 1ms/sample - loss: 1.2248 - accuracy: 0.6080 - val_loss: 1.2210 - val_accuracy: 0.6119\n",
      "Epoch 3/10\n",
      "6377/6377 [==============================] - 7s 1ms/sample - loss: 0.9273 - accuracy: 0.6986 - val_loss: 1.1791 - val_accuracy: 0.6234\n",
      "Epoch 4/10\n",
      "6377/6377 [==============================] - 7s 1ms/sample - loss: 0.6279 - accuracy: 0.8338 - val_loss: 1.1872 - val_accuracy: 0.6430\n",
      "Epoch 5/10\n",
      "6377/6377 [==============================] - 7s 1ms/sample - loss: 0.4017 - accuracy: 0.9183 - val_loss: 1.2163 - val_accuracy: 0.6501\n",
      "Epoch 6/10\n",
      "6377/6377 [==============================] - 7s 1ms/sample - loss: 0.2643 - accuracy: 0.9486 - val_loss: 1.4541 - val_accuracy: 0.5861\n",
      "Epoch 7/10\n",
      "6377/6377 [==============================] - 7s 1ms/sample - loss: 0.1873 - accuracy: 0.9606 - val_loss: 1.3541 - val_accuracy: 0.6146\n",
      "Epoch 8/10\n",
      "6377/6377 [==============================] - 7s 1ms/sample - loss: 0.1477 - accuracy: 0.9636 - val_loss: 1.5034 - val_accuracy: 0.5861\n",
      "Epoch 9/10\n",
      "6377/6377 [==============================] - 7s 1ms/sample - loss: 0.1225 - accuracy: 0.9650 - val_loss: 1.4408 - val_accuracy: 0.6323\n",
      "Epoch 10/10\n",
      "6377/6377 [==============================] - 7s 1ms/sample - loss: 0.1069 - accuracy: 0.9683 - val_loss: 1.5506 - val_accuracy: 0.5888\n"
     ]
    }
   ],
   "source": [
    "train_rt = TrainRuntimeCallback()\n",
    "history = model.fit(train_data_sm_rnn,\n",
    "                    one_hot_train_labels_sm,\n",
    "                    callbacks = [train_rt],\n",
    "                    epochs=10,\n",
    "                    batch_size=100,\n",
    "#                   validation_data=(val_data_sm_rnn, one_hot_val_labels_sm))\n",
    "                    validation_split = 0.15)   # comment out if setting validation_data value."
   ]
  },
  {
   "cell_type": "code",
   "execution_count": 24,
   "metadata": {},
   "outputs": [
    {
     "data": {
      "text/plain": [
       "73.072248"
      ]
     },
     "execution_count": 24,
     "metadata": {},
     "output_type": "execute_result"
    }
   ],
   "source": [
    "# Get the training time\n",
    "train_time = train_rt.process_time\n",
    "train_time # in seconds"
   ]
  },
  {
   "cell_type": "markdown",
   "metadata": {},
   "source": [
    "## Testing the model\n",
    "\n",
    "Test the model and get its runtime using callbacks."
   ]
  },
  {
   "cell_type": "code",
   "execution_count": 25,
   "metadata": {},
   "outputs": [],
   "source": [
    "# Define callback to get total test time\n",
    "import datetime\n",
    "\n",
    "class TestRuntimeCallback(keras.callbacks.Callback):\n",
    "\n",
    "  def on_test_begin(self,logs={}):\n",
    "    self.start = datetime.datetime.now()\n",
    "\n",
    "  def on_test_end(self,logs={}):\n",
    "    self.process_time = (datetime.datetime.now() - self.start).total_seconds()"
   ]
  },
  {
   "cell_type": "code",
   "execution_count": 26,
   "metadata": {},
   "outputs": [
    {
     "name": "stdout",
     "output_type": "stream",
     "text": [
      "1852/1852 [==============================] - 1s 516us/sample - loss: 1.4844 - accuracy: 0.5983\n"
     ]
    }
   ],
   "source": [
    "test_rt = TestRuntimeCallback()\n",
    "test_loss, test_accuracy = model.evaluate(test_data_sm_rnn, one_hot_test_labels_sm, callbacks=[test_rt])"
   ]
  },
  {
   "cell_type": "code",
   "execution_count": 27,
   "metadata": {},
   "outputs": [
    {
     "data": {
      "text/plain": [
       "0.955942"
      ]
     },
     "execution_count": 27,
     "metadata": {},
     "output_type": "execute_result"
    }
   ],
   "source": [
    "# Get the test time\n",
    "test_time = test_rt.process_time\n",
    "test_time # in seconds"
   ]
  },
  {
   "cell_type": "raw",
   "metadata": {},
   "source": [
    "Use the history to get the rest of the statistics we need."
   ]
  },
  {
   "cell_type": "code",
   "execution_count": 28,
   "metadata": {},
   "outputs": [
    {
     "data": {
      "text/plain": [
       "dict_keys(['loss', 'val_loss', 'val_accuracy', 'train_accuracy'])"
      ]
     },
     "execution_count": 28,
     "metadata": {},
     "output_type": "execute_result"
    }
   ],
   "source": [
    "history_dict = history.history.copy()\n",
    "history_dict['train_accuracy'] = history_dict.pop('accuracy') # rename the the key to 'test_accuracy'\n",
    "history_dict.keys()"
   ]
  },
  {
   "cell_type": "raw",
   "metadata": {},
   "source": [
    "Note that we have has stats after each epoch..."
   ]
  },
  {
   "cell_type": "code",
   "execution_count": 29,
   "metadata": {},
   "outputs": [
    {
     "data": {
      "text/html": [
       "<div>\n",
       "<style scoped>\n",
       "    .dataframe tbody tr th:only-of-type {\n",
       "        vertical-align: middle;\n",
       "    }\n",
       "\n",
       "    .dataframe tbody tr th {\n",
       "        vertical-align: top;\n",
       "    }\n",
       "\n",
       "    .dataframe thead th {\n",
       "        text-align: right;\n",
       "    }\n",
       "</style>\n",
       "<table border=\"1\" class=\"dataframe\">\n",
       "  <thead>\n",
       "    <tr style=\"text-align: right;\">\n",
       "      <th></th>\n",
       "      <th>loss</th>\n",
       "      <th>val_loss</th>\n",
       "      <th>val_accuracy</th>\n",
       "      <th>train_accuracy</th>\n",
       "    </tr>\n",
       "  </thead>\n",
       "  <tbody>\n",
       "    <tr>\n",
       "      <th>5</th>\n",
       "      <td>0.264314</td>\n",
       "      <td>1.454102</td>\n",
       "      <td>0.586146</td>\n",
       "      <td>0.948565</td>\n",
       "    </tr>\n",
       "    <tr>\n",
       "      <th>6</th>\n",
       "      <td>0.187288</td>\n",
       "      <td>1.354123</td>\n",
       "      <td>0.614565</td>\n",
       "      <td>0.960640</td>\n",
       "    </tr>\n",
       "    <tr>\n",
       "      <th>7</th>\n",
       "      <td>0.147739</td>\n",
       "      <td>1.503382</td>\n",
       "      <td>0.586146</td>\n",
       "      <td>0.963619</td>\n",
       "    </tr>\n",
       "    <tr>\n",
       "      <th>8</th>\n",
       "      <td>0.122456</td>\n",
       "      <td>1.440802</td>\n",
       "      <td>0.632327</td>\n",
       "      <td>0.965031</td>\n",
       "    </tr>\n",
       "    <tr>\n",
       "      <th>9</th>\n",
       "      <td>0.106859</td>\n",
       "      <td>1.550570</td>\n",
       "      <td>0.588810</td>\n",
       "      <td>0.968324</td>\n",
       "    </tr>\n",
       "  </tbody>\n",
       "</table>\n",
       "</div>"
      ],
      "text/plain": [
       "       loss  val_loss  val_accuracy  train_accuracy\n",
       "5  0.264314  1.454102      0.586146        0.948565\n",
       "6  0.187288  1.354123      0.614565        0.960640\n",
       "7  0.147739  1.503382      0.586146        0.963619\n",
       "8  0.122456  1.440802      0.632327        0.965031\n",
       "9  0.106859  1.550570      0.588810        0.968324"
      ]
     },
     "execution_count": 29,
     "metadata": {},
     "output_type": "execute_result"
    }
   ],
   "source": [
    "import pandas as pd\n",
    "history_df=pd.DataFrame(history_dict)\n",
    "history_df.tail()"
   ]
  },
  {
   "cell_type": "markdown",
   "metadata": {},
   "source": [
    "## Saving the performance to a DataFrame\n",
    "\n",
    "Let us now create the DataFrame with statistics which we append to the DataFrame from part 1. Note that we only need the last row of history_df."
   ]
  },
  {
   "cell_type": "code",
   "execution_count": 30,
   "metadata": {},
   "outputs": [
    {
     "data": {
      "text/html": [
       "<div>\n",
       "<style scoped>\n",
       "    .dataframe tbody tr th:only-of-type {\n",
       "        vertical-align: middle;\n",
       "    }\n",
       "\n",
       "    .dataframe tbody tr th {\n",
       "        vertical-align: top;\n",
       "    }\n",
       "\n",
       "    .dataframe thead th {\n",
       "        text-align: right;\n",
       "    }\n",
       "</style>\n",
       "<table border=\"1\" class=\"dataframe\">\n",
       "  <thead>\n",
       "    <tr style=\"text-align: right;\">\n",
       "      <th></th>\n",
       "      <th>model</th>\n",
       "      <th>loss</th>\n",
       "      <th>val_loss</th>\n",
       "      <th>val_accuracy</th>\n",
       "      <th>train_accuracy</th>\n",
       "      <th>test_accuracy</th>\n",
       "      <th>training time (sec)</th>\n",
       "      <th>testing time (sec)</th>\n",
       "    </tr>\n",
       "  </thead>\n",
       "  <tbody>\n",
       "    <tr>\n",
       "      <th>9</th>\n",
       "      <td>Simple RNN</td>\n",
       "      <td>0.106859</td>\n",
       "      <td>1.55057</td>\n",
       "      <td>0.58881</td>\n",
       "      <td>0.968324</td>\n",
       "      <td>0.598272</td>\n",
       "      <td>73.072248</td>\n",
       "      <td>0.955942</td>\n",
       "    </tr>\n",
       "  </tbody>\n",
       "</table>\n",
       "</div>"
      ],
      "text/plain": [
       "        model      loss  val_loss  val_accuracy  train_accuracy  \\\n",
       "9  Simple RNN  0.106859   1.55057       0.58881        0.968324   \n",
       "\n",
       "   test_accuracy  training time (sec)  testing time (sec)  \n",
       "9       0.598272            73.072248            0.955942  "
      ]
     },
     "execution_count": 30,
     "metadata": {},
     "output_type": "execute_result"
    }
   ],
   "source": [
    "results_df = history_df.iloc[-1:].copy()\n",
    "results_df.insert(0,'model','Simple RNN') # went the model name to appear first\n",
    "results_df['test_accuracy'] = test_accuracy\n",
    "results_df['training time (sec)'] = train_time      # we are okay with training time appearing last\n",
    "results_df['testing time (sec)'] = test_time      # we are okay with training time appearing last\n",
    "results_df"
   ]
  },
  {
   "cell_type": "code",
   "execution_count": 31,
   "metadata": {},
   "outputs": [
    {
     "data": {
      "text/html": [
       "<div>\n",
       "<style scoped>\n",
       "    .dataframe tbody tr th:only-of-type {\n",
       "        vertical-align: middle;\n",
       "    }\n",
       "\n",
       "    .dataframe tbody tr th {\n",
       "        vertical-align: top;\n",
       "    }\n",
       "\n",
       "    .dataframe thead th {\n",
       "        text-align: right;\n",
       "    }\n",
       "</style>\n",
       "<table border=\"1\" class=\"dataframe\">\n",
       "  <thead>\n",
       "    <tr style=\"text-align: right;\">\n",
       "      <th></th>\n",
       "      <th>model</th>\n",
       "      <th>loss</th>\n",
       "      <th>val_loss</th>\n",
       "      <th>val_accuracy</th>\n",
       "      <th>train_accuracy</th>\n",
       "      <th>test_accuracy</th>\n",
       "      <th>training time (sec)</th>\n",
       "      <th>testing time (sec)</th>\n",
       "    </tr>\n",
       "  </thead>\n",
       "  <tbody>\n",
       "    <tr>\n",
       "      <th>0</th>\n",
       "      <td>DNN (2 layers)</td>\n",
       "      <td>0.095976</td>\n",
       "      <td>0.759006</td>\n",
       "      <td>0.852575</td>\n",
       "      <td>0.968480</td>\n",
       "      <td>0.785396</td>\n",
       "      <td>14.681915</td>\n",
       "      <td>0.294854</td>\n",
       "    </tr>\n",
       "    <tr>\n",
       "      <th>1</th>\n",
       "      <td>DNN (2 layers) w Drop</td>\n",
       "      <td>0.104431</td>\n",
       "      <td>0.755970</td>\n",
       "      <td>0.859680</td>\n",
       "      <td>0.968480</td>\n",
       "      <td>0.854752</td>\n",
       "      <td>14.958483</td>\n",
       "      <td>0.283598</td>\n",
       "    </tr>\n",
       "    <tr>\n",
       "      <th>2</th>\n",
       "      <td>DNN (2 layers) w Embed</td>\n",
       "      <td>0.064846</td>\n",
       "      <td>0.977829</td>\n",
       "      <td>0.801954</td>\n",
       "      <td>0.967383</td>\n",
       "      <td>0.806156</td>\n",
       "      <td>37.873723</td>\n",
       "      <td>0.450522</td>\n",
       "    </tr>\n",
       "    <tr>\n",
       "      <th>3</th>\n",
       "      <td>DNN (2 layers) w Embed + Dropout</td>\n",
       "      <td>0.077752</td>\n",
       "      <td>0.874787</td>\n",
       "      <td>0.814387</td>\n",
       "      <td>0.968324</td>\n",
       "      <td>0.824514</td>\n",
       "      <td>38.327864</td>\n",
       "      <td>0.338380</td>\n",
       "    </tr>\n",
       "    <tr>\n",
       "      <th>4</th>\n",
       "      <td>Simple RNN</td>\n",
       "      <td>0.106859</td>\n",
       "      <td>1.550570</td>\n",
       "      <td>0.588810</td>\n",
       "      <td>0.968324</td>\n",
       "      <td>0.598272</td>\n",
       "      <td>73.072248</td>\n",
       "      <td>0.955942</td>\n",
       "    </tr>\n",
       "  </tbody>\n",
       "</table>\n",
       "</div>"
      ],
      "text/plain": [
       "                              model      loss  val_loss  val_accuracy  \\\n",
       "0                    DNN (2 layers)  0.095976  0.759006      0.852575   \n",
       "1             DNN (2 layers) w Drop  0.104431  0.755970      0.859680   \n",
       "2            DNN (2 layers) w Embed  0.064846  0.977829      0.801954   \n",
       "3  DNN (2 layers) w Embed + Dropout  0.077752  0.874787      0.814387   \n",
       "4                        Simple RNN  0.106859  1.550570      0.588810   \n",
       "\n",
       "   train_accuracy  test_accuracy  training time (sec)  testing time (sec)  \n",
       "0        0.968480       0.785396            14.681915            0.294854  \n",
       "1        0.968480       0.854752            14.958483            0.283598  \n",
       "2        0.967383       0.806156            37.873723            0.450522  \n",
       "3        0.968324       0.824514            38.327864            0.338380  \n",
       "4        0.968324       0.598272            73.072248            0.955942  "
      ]
     },
     "execution_count": 31,
     "metadata": {},
     "output_type": "execute_result"
    }
   ],
   "source": [
    "prev_results_df = pd.read_pickle('results1.pkl')\n",
    "results_df = prev_results_df.append(results_df,ignore_index=True)\n",
    "results_df"
   ]
  },
  {
   "cell_type": "markdown",
   "metadata": {},
   "source": [
    "## Plotting the performance "
   ]
  },
  {
   "cell_type": "code",
   "execution_count": 32,
   "metadata": {},
   "outputs": [
    {
     "data": {
      "image/png": "[encoded data removed]",
      "text/plain": [
       "<Figure size 432x288 with 1 Axes>"
      ]
     },
     "metadata": {
      "needs_background": "light"
     },
     "output_type": "display_data"
    }
   ],
   "source": [
    "import matplotlib.pyplot as plt\n",
    "\n",
    "loss = history.history['loss']\n",
    "val_loss = history.history['val_loss']\n",
    "\n",
    "epochs = range(1, len(loss) + 1)\n",
    "\n",
    "plt.plot(epochs, loss, 'bo', label='Training loss')\n",
    "plt.plot(epochs, val_loss, 'b', label='Validation loss')\n",
    "plt.title('Training and validation loss')\n",
    "plt.xlabel('Epochs')\n",
    "plt.ylabel('Loss')\n",
    "plt.legend()\n",
    "\n",
    "plt.show()"
   ]
  },
  {
   "cell_type": "code",
   "execution_count": 33,
   "metadata": {},
   "outputs": [
    {
     "data": {
      "image/png": "[encoded data removed]",
      "text/plain": [
       "<Figure size 432x288 with 1 Axes>"
      ]
     },
     "metadata": {
      "needs_background": "light"
     },
     "output_type": "display_data"
    }
   ],
   "source": [
    "plt.clf()   # clear figure\n",
    "\n",
    "acc = history.history['accuracy']\n",
    "val_acc = history.history['val_accuracy']\n",
    "\n",
    "plt.plot(epochs, acc, 'bo', label='Training acc')\n",
    "plt.plot(epochs, val_acc, 'b', label='Validation acc')\n",
    "plt.title('Training and validation accuracy')\n",
    "plt.xlabel('Epochs')\n",
    "plt.ylabel('Loss')\n",
    "plt.legend()\n",
    "\n",
    "plt.show()"
   ]
  },
  {
   "cell_type": "markdown",
   "metadata": {},
   "source": [
    "Our approach reaches an accuracy of ~96%. With a balanced binary classification problem, the accuracy reached by a purely random classifier would be 50%, but in our case it is closer to 28%, so our results seem pretty good, at least when compared to a random baseline:"
   ]
  },
  {
   "cell_type": "code",
   "execution_count": 34,
   "metadata": {},
   "outputs": [
    {
     "data": {
      "text/plain": [
       "0.2818574514038877"
      ]
     },
     "execution_count": 34,
     "metadata": {},
     "output_type": "execute_result"
    }
   ],
   "source": [
    "import copy\n",
    "\n",
    "test_labels_sm_copy = copy.copy(test_labels_sm)\n",
    "np.random.shuffle(test_labels_sm_copy)\n",
    "float(np.sum(np.array(test_labels_sm) == np.array(test_labels_sm_copy))) / len(test_labels_sm)"
   ]
  },
  {
   "cell_type": "markdown",
   "metadata": {},
   "source": [
    "## Saving to a DataFrame to disk\n",
    "\n",
    "Save the DataFrame for use in part 3."
   ]
  },
  {
   "cell_type": "code",
   "execution_count": 35,
   "metadata": {},
   "outputs": [],
   "source": [
    "results_df.to_pickle(\"results2.pkl\") "
   ]
  },
  {
   "cell_type": "code",
   "execution_count": null,
   "metadata": {},
   "outputs": [],
   "source": []
  }
 ],
 "metadata": {
  "kernelspec": {
   "display_name": "Python 3",
   "language": "python",
   "name": "python3"
  },
  "language_info": {
   "codemirror_mode": {
    "name": "ipython",
    "version": 3
   },
   "file_extension": ".py",
   "mimetype": "text/x-python",
   "name": "python",
   "nbconvert_exporter": "python",
   "pygments_lexer": "ipython3",
   "version": "3.6.9"
  },
  "toc": {
   "base_numbering": 1,
   "nav_menu": {},
   "number_sections": false,
   "sideBar": true,
   "skip_h1_title": false,
   "title_cell": "Table of Contents",
   "title_sidebar": "Contents",
   "toc_cell": false,
   "toc_position": {},
   "toc_section_display": true,
   "toc_window_display": false
  }
 },
 "nbformat": 4,
 "nbformat_minor": 4
}
