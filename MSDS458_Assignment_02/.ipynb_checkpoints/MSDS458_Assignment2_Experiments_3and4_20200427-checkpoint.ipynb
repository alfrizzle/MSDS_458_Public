{
 "cells": [
  {
   "cell_type": "raw",
   "metadata": {},
   "source": [
    "DATE: April 27, 2020"
   ]
  },
  {
   "cell_type": "markdown",
   "metadata": {},
   "source": [
    "## Assignment 2:\n",
    "\n",
    "The goal is to compare `dense neural networks` and `convolutional neural networks` on `Fashion mnist` data.\n",
    "\n",
    "\n",
    "\n",
    "In all the experiments, we would hold some parameters constants - the batch size to 100, the number of epochs to 20, same optimizer, same loss function of cross entropy, so that we can do fair comparisons. \n",
    "\n",
    "\n",
    "\n",
    "* EXPERIMENT 1: DNN with 2 layers (no drop out)\n",
    "\n",
    "* EXPERIMENT 2: DNN with 3 layers (no drop out)\n",
    "\n",
    "* **EXPERIMENT 3: CNN with 2 convolution/max pooling layers (no drop out)**\n",
    "\n",
    "* **EXPERIMENT 4: CNN with 3 convolution/max pooling layers (no drop out)**\n",
    "\n",
    "* EXPERIMENT 5: Redo all the 4 experiments with 20% drop out\n",
    "\n",
    "`Result1`:  Create a table with the accuracy and loss for train/test/validation & process time for all the 8 models\n",
    "\n",
    "`Result2`: Take `EXPERIMENT 3` – Extract the outputs from 2 selected filters from the 2 max pooling layers and visualize them in a grid as images. See whether the 'lit up' regions correspond to some features in the original images."
   ]
  },
  {
   "cell_type": "markdown",
   "metadata": {},
   "source": [
    "## Import packages needed (and set seed)\n",
    "\n",
    "Since Keras in part of TensorFlow 2.x, we import keras from tensorflow and use tenserflow.keras.xxx to import all other Keras packages. The seed argument produces a deterministic sequence of tensors across multiple calls."
   ]
  },
  {
   "cell_type": "code",
   "execution_count": 1,
   "metadata": {},
   "outputs": [
    {
     "data": {
      "text/plain": [
       "'2.2.4-tf'"
      ]
     },
     "execution_count": 1,
     "metadata": {},
     "output_type": "execute_result"
    }
   ],
   "source": [
    "import numpy as np\n",
    "import pandas as pd\n",
    "import tensorflow as tf\n",
    "from tensorflow import keras\n",
    "import datetime # for getting calculating training times with a callback\n",
    "import matplotlib.pyplot as plt # for plotting training performance curves\n",
    "from collections import Counter   # for finding most popular training/testing categories in the data\n",
    "from tensorflow.keras.datasets import fashion_mnist #  source of the data we will use\n",
    "from tensorflow.keras import models   # used used to build, training and test the model. \n",
    "from tensorflow.keras import layers   # used to create the layers when building the model\n",
    "# generates batches of tensor image data with real-time data augmentation\n",
    "from tensorflow.keras.preprocessing.image import ImageDataGenerator\n",
    "from tensorflow.keras.preprocessing import image # module contains image preprocessiong utilities\n",
    "\n",
    "\n",
    "keras.__version__"
   ]
  },
  {
   "cell_type": "code",
   "execution_count": 2,
   "metadata": {},
   "outputs": [
    {
     "data": {
      "text/plain": [
       "'2.1.0'"
      ]
     },
     "execution_count": 2,
     "metadata": {},
     "output_type": "execute_result"
    }
   ],
   "source": [
    "tf.__version__"
   ]
  },
  {
   "cell_type": "code",
   "execution_count": 3,
   "metadata": {},
   "outputs": [],
   "source": [
    "# To get consistint results each time we rerun the code.\n",
    "keras.backend.clear_session()\n",
    "np.random.seed(42)\n",
    "tf.random.set_seed(42)"
   ]
  },
  {
   "cell_type": "markdown",
   "metadata": {},
   "source": [
    "## The Fashion MNIST dataset\n",
    "\n",
    "Zalando is Europe's leading online fashion platform for women, men and children. `Fashion-MNIST` is a dataset of their product images. Just like `MNIST` dataset, the `Fashion-MNIST` also consists of 70,000 grayscale images of 28x28 pixels divided into 60,000 training images and 10,000 test images. Each image is labeled with with an integer from 0 to 9 representing 10 classes: 'T-shirt/top', 'Trouser', 'Pullover', 'Dress', 'Coat', 'Sandal', 'Shirt', 'Sneaker', 'Bag', 'Ankle boot', respectively. `Fashion-MNIST` is intended to serve as a direct drop-in replacement for the original `MNIST` dataset for benchmarking machine learning algorithms since the the original `MNIST` was found to be too easy for the current machine learning models. In particular, Fashion-Mist shares the same image size and structure of training and testing splits as `MNIST`. Also like `MNIST` it comes prepackaged in `tf.Keras`. Use\n",
    "\n",
    "```python\n",
    "fashion_mnist.load_data()\n",
    "```\n",
    "\n",
    "to the get these datasets (and the corresponding labels) as Numpy arrays. See the `Fashion-MNIST` GitHub page for a lot more information about the data sets and benchmarks for 129 classifiers trained on the data:\n",
    "\n",
    "https://github.com/zalandoresearch/fashion-mnist"
   ]
  },
  {
   "cell_type": "code",
   "execution_count": 4,
   "metadata": {},
   "outputs": [
    {
     "data": {
      "text/plain": [
       "((60000, 28, 28), (10000, 28, 28), (10000,), (10000,))"
      ]
     },
     "execution_count": 4,
     "metadata": {},
     "output_type": "execute_result"
    }
   ],
   "source": [
    "# https://www.tensorflow.org/api_docs/python/tf/keras/datasets/fashion_mnist/load_data\n",
    "# from tensorflow.keras.datasets import fashion_mnist\n",
    "\n",
    "(train_images, train_labels), (test_images, test_labels) = fashion_mnist.load_data()\n",
    "# from tensorflow.keras.datasets import mnist \n",
    "# (train_images, train_labels), (test_images, test_labels) = mnist.load_data()\n",
    "\n",
    "train_images.shape, test_images.shape, train_labels.shape, test_labels.shape"
   ]
  },
  {
   "cell_type": "markdown",
   "metadata": {},
   "source": [
    "## EXPERIMENT 3\n",
    "\n",
    "We create a `CNN` with 2 convolution/max pooling layers (**no drop out**) to work with our Fashion MNIST dataset."
   ]
  },
  {
   "cell_type": "markdown",
   "metadata": {},
   "source": [
    "## Preparing the data\n",
    "\n",
    "Before training, we will preprocess our data by reshaping it into the shape that the network expects, and scaling it so that all values are in the \\[0, 1] interval.\n",
    "\n",
    "Our training images are stored in an array of shape (60000, 28, 28) of type uint8 with values in the [0, 255] interval. \n",
    "\n",
    "We transform it into a float32 array of shape (60000, 28 * 28) with values between 0 and 1.\n",
    "\n",
    "\n",
    "Before training, we will preprocess our data by reshaping it into the shape that the network expects, and scaling it so that all values are in the [0, 1] interval.\n",
    "\n",
    "Currently, our training images are stored in an array of shape (60000, 28, 28). Each image is represented by a 28x28 array of uint8 values in the range [0, 255]. \n",
    "\n",
    "We transform it into a float32 array of shape (60000, 28, 28, 1) with values between 0 and 1."
   ]
  },
  {
   "cell_type": "code",
   "execution_count": 5,
   "metadata": {},
   "outputs": [],
   "source": [
    "# We transform it into a float32 array of shape (60000, 28 * 28) with values between 0 and 1. \n",
    "\n",
    "train_images = train_images.reshape((60000, 28, 28, 1))\n",
    "train_images = train_images.astype('float32') / 255\n",
    "\n",
    "test_images = test_images.reshape((10000, 28, 28, 1))\n",
    "test_images = test_images.astype('float32') / 255"
   ]
  },
  {
   "cell_type": "markdown",
   "metadata": {},
   "source": [
    "## Validating our approach\n",
    "\n",
    "We set apart 5,000 samples of our training data to use as a validation set. Since we will be using `sparse_categorical_crossentropy` as the loss function we **do not** need to use `to_categorical` to convert the class vector of labels to binary matrix representation."
   ]
  },
  {
   "cell_type": "code",
   "execution_count": 6,
   "metadata": {},
   "outputs": [],
   "source": [
    "# Create validation data\n",
    "val_images, train_images = train_images[:5000], train_images[5000:] \n",
    "val_labels, train_labels = train_labels[:5000], train_labels[5000:]"
   ]
  },
  {
   "cell_type": "markdown",
   "metadata": {},
   "source": [
    "## Building our network\n",
    "\n",
    "We build a `CNN` containing 2 convolutional/max pooling layers. The last layer is a 10-way \"softmax\" layer, which means it will return an array of 10 probability scores (summing to 1). Each  score will be the probability that the current clothing image belongs to one of our 10 classes."
   ]
  },
  {
   "cell_type": "code",
   "execution_count": 7,
   "metadata": {},
   "outputs": [],
   "source": [
    "# from tensorflow.keras.optimizers import SGD\n",
    "\n",
    "# model = models.Sequential()\n",
    "# model.add(layers.Conv2D(32, (3, 3), activation='relu', kernel_initializer='he_uniform', input_shape=(28, 28, 1)))\n",
    "# # model.add(layers.BatchNormalization())\n",
    "# model.add(layers.MaxPooling2D((2, 2)))\n",
    "# model.add(layers.Flatten())\n",
    "# model.add(layers.Dense(100, activation='relu', kernel_initializer='he_uniform'))\n",
    "# # model.add(layers.BatchNormalization())\n",
    "# model.add(layers.Dense(10, activation='softmax'))\n",
    "# # # compile model\n",
    "# # opt = SGD(lr=0.01, momentum=0.9)\n",
    "# # model.compile(optimizer=opt, loss='sparse_categorical_crossentropy', metrics=['accuracy'])"
   ]
  },
  {
   "cell_type": "code",
   "execution_count": 8,
   "metadata": {},
   "outputs": [],
   "source": [
    "model = models.Sequential()\n",
    "model.add(layers.Conv2D(32, (3, 3), activation='relu', input_shape=(28, 28, 1)))\n",
    "\n",
    "model.add(layers.MaxPooling2D((2, 2)))\n",
    "model.add(layers.Conv2D(64, (3, 3), activation='relu'))\n",
    "model.add(layers.MaxPooling2D((2, 2)))\n",
    "model.add(layers.Flatten())\n",
    "# model.add(layers.Dense(256, activation='relu'))\n",
    "model.add(layers.Dense(128, activation='relu'))\n",
    "model.add(layers.Dense(10, activation='softmax'))"
   ]
  },
  {
   "cell_type": "code",
   "execution_count": 9,
   "metadata": {},
   "outputs": [],
   "source": [
    "# # CNN with 2 convolution/max pooling layers\n",
    "\n",
    "# model = models.Sequential()\n",
    "# model.add(layers.Conv2D(32, (3, 3), activation='relu', input_shape=(28, 28, 1)))\n",
    "# model.add(layers.BatchNormalization())\n",
    "# model.add(layers.MaxPooling2D((2, 2)))\n",
    "# model.add(layers.Conv2D(64, (3, 3), activation='relu'))\n",
    "# model.add(layers.BatchNormalization())\n",
    "# model.add(layers.MaxPooling2D((2, 2)))\n",
    "# model.add(layers.Flatten())\n",
    "# model.add(layers.Dense(256, activation='relu'))\n",
    "# model.add(layers.BatchNormalization())\n",
    "# model.add(layers.Dense(128, activation='relu'))\n",
    "# model.add(layers.BatchNormalization())\n",
    "# model.add(layers.Dense(10, activation='softmax'))"
   ]
  },
  {
   "cell_type": "code",
   "execution_count": 10,
   "metadata": {},
   "outputs": [
    {
     "data": {
      "image/png": "[encoded data removed]",
      "text/plain": [
       "<IPython.core.display.Image object>"
      ]
     },
     "execution_count": 10,
     "metadata": {},
     "output_type": "execute_result"
    }
   ],
   "source": [
    "keras.utils.plot_model(model, show_shapes=True)"
   ]
  },
  {
   "cell_type": "markdown",
   "metadata": {},
   "source": [
    "## Compiling the model\n",
    "\n",
    "To make our network ready for training, we need to pick three more things, as part of \"compilation\" step:\n",
    "\n",
    "* A loss function: the is how the network will be able to measure how good a job it is doing on its training data, and thus how it will be able to steer itself in the right direction.\n",
    "* An optimizer: this is the mechanism through which the network will update itself based on the data it sees and its loss function.\n",
    "* Metrics to monitor during training and testing. Here we will only care about accuracy (the fraction of the images that were correctly classified)."
   ]
  },
  {
   "cell_type": "code",
   "execution_count": 11,
   "metadata": {},
   "outputs": [],
   "source": [
    "# compile the model\n",
    "model.compile(optimizer='rmsprop',\n",
    "                loss='sparse_categorical_crossentropy',\n",
    "                metrics=['accuracy'])"
   ]
  },
  {
   "cell_type": "markdown",
   "metadata": {},
   "source": [
    "## Creating a callback to get training times"
   ]
  },
  {
   "cell_type": "code",
   "execution_count": 12,
   "metadata": {},
   "outputs": [],
   "source": [
    "# Define callback to get total training time\n",
    "# import datetime\n",
    "\n",
    "class TrainRuntimeCallback(keras.callbacks.Callback):\n",
    "\n",
    "  def on_train_begin(self,logs={}):\n",
    "    self.start = datetime.datetime.now()\n",
    "\n",
    "  def on_train_end(self,logs={}):\n",
    "    self.process_time = (datetime.datetime.now() - self.start).total_seconds()"
   ]
  },
  {
   "cell_type": "markdown",
   "metadata": {},
   "source": [
    "## Training the model\n",
    "\n",
    "We are now ready to train our network, which in Keras is done via a call to the `fit` method of the network: \n",
    "we \"fit\" the model to its training data. We train the model for 20 epochs with batch size 100. Also we pass the method the callback object we create to get the total training time."
   ]
  },
  {
   "cell_type": "code",
   "execution_count": 13,
   "metadata": {},
   "outputs": [
    {
     "name": "stdout",
     "output_type": "stream",
     "text": [
      "Train on 55000 samples, validate on 5000 samples\n",
      "Epoch 1/20\n",
      "55000/55000 [==============================] - 37s 675us/sample - loss: 0.5583 - accuracy: 0.7961 - val_loss: 0.3932 - val_accuracy: 0.8568\n",
      "Epoch 2/20\n",
      "55000/55000 [==============================] - 37s 664us/sample - loss: 0.3574 - accuracy: 0.8692 - val_loss: 0.3372 - val_accuracy: 0.8712\n",
      "Epoch 3/20\n",
      "55000/55000 [==============================] - 37s 667us/sample - loss: 0.3018 - accuracy: 0.8900 - val_loss: 0.2887 - val_accuracy: 0.8914\n",
      "Epoch 4/20\n",
      "55000/55000 [==============================] - 37s 664us/sample - loss: 0.2660 - accuracy: 0.9020 - val_loss: 0.2753 - val_accuracy: 0.9008\n",
      "Epoch 5/20\n",
      "55000/55000 [==============================] - 37s 669us/sample - loss: 0.2387 - accuracy: 0.9119 - val_loss: 0.2549 - val_accuracy: 0.9076\n",
      "Epoch 6/20\n",
      "55000/55000 [==============================] - 37s 665us/sample - loss: 0.2172 - accuracy: 0.9195 - val_loss: 0.2524 - val_accuracy: 0.9066\n",
      "Epoch 7/20\n",
      "55000/55000 [==============================] - 37s 666us/sample - loss: 0.1978 - accuracy: 0.9277 - val_loss: 0.2631 - val_accuracy: 0.9016\n"
     ]
    }
   ],
   "source": [
    "train_rt = TrainRuntimeCallback()\n",
    "cbs=[train_rt, keras.callbacks.EarlyStopping(patience=1, restore_best_weights=True)]\n",
    "history = model.fit(train_images, train_labels, callbacks=cbs, epochs=20,  batch_size = 128,\n",
    "                    validation_data=(val_images, val_labels))"
   ]
  },
  {
   "cell_type": "code",
   "execution_count": 14,
   "metadata": {},
   "outputs": [
    {
     "data": {
      "text/plain": [
       "256.934892"
      ]
     },
     "execution_count": 14,
     "metadata": {},
     "output_type": "execute_result"
    }
   ],
   "source": [
    "# Get the training time\n",
    "train_time = train_rt.process_time\n",
    "train_time # in seconds"
   ]
  },
  {
   "cell_type": "markdown",
   "metadata": {},
   "source": [
    "## Testing the model\n",
    "\n",
    "Evaluate the model on the test dataset using a callback to get the total test time."
   ]
  },
  {
   "cell_type": "code",
   "execution_count": 15,
   "metadata": {},
   "outputs": [],
   "source": [
    "# Define callback to get total test time\n",
    "# import datetime\n",
    "\n",
    "class TestRuntimeCallback(keras.callbacks.Callback):\n",
    "\n",
    "  def on_test_begin(self,logs={}):\n",
    "    self.start = datetime.datetime.now()\n",
    "\n",
    "  def on_test_end(self,logs={}):\n",
    "    self.process_time = (datetime.datetime.now() - self.start).total_seconds()"
   ]
  },
  {
   "cell_type": "code",
   "execution_count": 16,
   "metadata": {},
   "outputs": [
    {
     "name": "stdout",
     "output_type": "stream",
     "text": [
      "10000/10000 [==============================] - 3s 258us/sample - loss: 0.2698 - accuracy: 0.9060\n"
     ]
    }
   ],
   "source": [
    "test_rt = TestRuntimeCallback()\n",
    "test_loss, test_acc = model.evaluate(test_images, test_labels, callbacks=[test_rt])"
   ]
  },
  {
   "cell_type": "code",
   "execution_count": 17,
   "metadata": {},
   "outputs": [
    {
     "data": {
      "text/plain": [
       "2.58312"
      ]
     },
     "execution_count": 17,
     "metadata": {},
     "output_type": "execute_result"
    }
   ],
   "source": [
    "# Get the test time\n",
    "test_time = test_rt.process_time\n",
    "test_time # in seconds"
   ]
  },
  {
   "cell_type": "markdown",
   "metadata": {},
   "source": [
    "\n",
    "## Creating a DataFrame for the training and test statistics\n",
    "\n",
    "We will create a new DataFrame to hold the training/test times and their accuracy and loss values of the current model. We then \"unpickle\" the DataFrame from the previous notebook and append the new DataFrame to it. \n",
    "\n",
    "The resulting DataFrame will hold the statistics for all the models we have worked with so far."
   ]
  },
  {
   "cell_type": "raw",
   "metadata": {},
   "source": [
    "Use the history to get the rest of the statistics we need."
   ]
  },
  {
   "cell_type": "code",
   "execution_count": 18,
   "metadata": {},
   "outputs": [
    {
     "data": {
      "text/plain": [
       "dict_keys(['loss', 'accuracy', 'val_loss', 'val_accuracy'])"
      ]
     },
     "execution_count": 18,
     "metadata": {},
     "output_type": "execute_result"
    }
   ],
   "source": [
    "history_dict = history.history\n",
    "history_dict.keys()"
   ]
  },
  {
   "cell_type": "raw",
   "metadata": {},
   "source": [
    "Note that we have has stats after each epoch..."
   ]
  },
  {
   "cell_type": "code",
   "execution_count": 19,
   "metadata": {},
   "outputs": [
    {
     "data": {
      "text/html": [
       "<div>\n",
       "<style scoped>\n",
       "    .dataframe tbody tr th:only-of-type {\n",
       "        vertical-align: middle;\n",
       "    }\n",
       "\n",
       "    .dataframe tbody tr th {\n",
       "        vertical-align: top;\n",
       "    }\n",
       "\n",
       "    .dataframe thead th {\n",
       "        text-align: right;\n",
       "    }\n",
       "</style>\n",
       "<table border=\"1\" class=\"dataframe\">\n",
       "  <thead>\n",
       "    <tr style=\"text-align: right;\">\n",
       "      <th></th>\n",
       "      <th>loss</th>\n",
       "      <th>accuracy</th>\n",
       "      <th>val_loss</th>\n",
       "      <th>val_accuracy</th>\n",
       "    </tr>\n",
       "  </thead>\n",
       "  <tbody>\n",
       "    <tr>\n",
       "      <th>2</th>\n",
       "      <td>0.301773</td>\n",
       "      <td>0.890000</td>\n",
       "      <td>0.288722</td>\n",
       "      <td>0.8914</td>\n",
       "    </tr>\n",
       "    <tr>\n",
       "      <th>3</th>\n",
       "      <td>0.266033</td>\n",
       "      <td>0.902000</td>\n",
       "      <td>0.275313</td>\n",
       "      <td>0.9008</td>\n",
       "    </tr>\n",
       "    <tr>\n",
       "      <th>4</th>\n",
       "      <td>0.238712</td>\n",
       "      <td>0.911873</td>\n",
       "      <td>0.254919</td>\n",
       "      <td>0.9076</td>\n",
       "    </tr>\n",
       "    <tr>\n",
       "      <th>5</th>\n",
       "      <td>0.217198</td>\n",
       "      <td>0.919491</td>\n",
       "      <td>0.252359</td>\n",
       "      <td>0.9066</td>\n",
       "    </tr>\n",
       "    <tr>\n",
       "      <th>6</th>\n",
       "      <td>0.197789</td>\n",
       "      <td>0.927727</td>\n",
       "      <td>0.263080</td>\n",
       "      <td>0.9016</td>\n",
       "    </tr>\n",
       "  </tbody>\n",
       "</table>\n",
       "</div>"
      ],
      "text/plain": [
       "       loss  accuracy  val_loss  val_accuracy\n",
       "2  0.301773  0.890000  0.288722        0.8914\n",
       "3  0.266033  0.902000  0.275313        0.9008\n",
       "4  0.238712  0.911873  0.254919        0.9076\n",
       "5  0.217198  0.919491  0.252359        0.9066\n",
       "6  0.197789  0.927727  0.263080        0.9016"
      ]
     },
     "execution_count": 19,
     "metadata": {},
     "output_type": "execute_result"
    }
   ],
   "source": [
    "history_df=pd.DataFrame(history_dict)\n",
    "history_df.tail()"
   ]
  },
  {
   "cell_type": "raw",
   "metadata": {},
   "source": [
    "We create the DataFrame with statistics . Note that we only need the last row of history_df."
   ]
  },
  {
   "cell_type": "code",
   "execution_count": 20,
   "metadata": {},
   "outputs": [
    {
     "data": {
      "text/html": [
       "<div>\n",
       "<style scoped>\n",
       "    .dataframe tbody tr th:only-of-type {\n",
       "        vertical-align: middle;\n",
       "    }\n",
       "\n",
       "    .dataframe tbody tr th {\n",
       "        vertical-align: top;\n",
       "    }\n",
       "\n",
       "    .dataframe thead th {\n",
       "        text-align: right;\n",
       "    }\n",
       "</style>\n",
       "<table border=\"1\" class=\"dataframe\">\n",
       "  <thead>\n",
       "    <tr style=\"text-align: right;\">\n",
       "      <th></th>\n",
       "      <th>model</th>\n",
       "      <th>loss</th>\n",
       "      <th>accuracy</th>\n",
       "      <th>val_loss</th>\n",
       "      <th>val_accuracy</th>\n",
       "      <th>training time (sec)</th>\n",
       "      <th>testing time (sec)</th>\n",
       "    </tr>\n",
       "  </thead>\n",
       "  <tbody>\n",
       "    <tr>\n",
       "      <th>6</th>\n",
       "      <td>CNN (2 layers)</td>\n",
       "      <td>0.197789</td>\n",
       "      <td>0.927727</td>\n",
       "      <td>0.26308</td>\n",
       "      <td>0.9016</td>\n",
       "      <td>256.934892</td>\n",
       "      <td>2.58312</td>\n",
       "    </tr>\n",
       "  </tbody>\n",
       "</table>\n",
       "</div>"
      ],
      "text/plain": [
       "            model      loss  accuracy  val_loss  val_accuracy  \\\n",
       "6  CNN (2 layers)  0.197789  0.927727   0.26308        0.9016   \n",
       "\n",
       "   training time (sec)  testing time (sec)  \n",
       "6           256.934892             2.58312  "
      ]
     },
     "execution_count": 20,
     "metadata": {},
     "output_type": "execute_result"
    }
   ],
   "source": [
    "results_df = history_df.iloc[-1:].copy()\n",
    "results_df.insert(0,'model','CNN (2 layers)') # went the model name to appear first\n",
    "# results_df.insert(0,'model','CNN (1 layer)') # went the model name to appear first\n",
    "results_df['training time (sec)'] = train_time      # we are okay with training time appearing last\n",
    "results_df['testing time (sec)'] = test_time      # we are okay with training time appearing last\n",
    "results_df"
   ]
  },
  {
   "cell_type": "code",
   "execution_count": 21,
   "metadata": {},
   "outputs": [
    {
     "data": {
      "text/html": [
       "<div>\n",
       "<style scoped>\n",
       "    .dataframe tbody tr th:only-of-type {\n",
       "        vertical-align: middle;\n",
       "    }\n",
       "\n",
       "    .dataframe tbody tr th {\n",
       "        vertical-align: top;\n",
       "    }\n",
       "\n",
       "    .dataframe thead th {\n",
       "        text-align: right;\n",
       "    }\n",
       "</style>\n",
       "<table border=\"1\" class=\"dataframe\">\n",
       "  <thead>\n",
       "    <tr style=\"text-align: right;\">\n",
       "      <th></th>\n",
       "      <th>model</th>\n",
       "      <th>loss</th>\n",
       "      <th>accuracy</th>\n",
       "      <th>val_loss</th>\n",
       "      <th>val_accuracy</th>\n",
       "      <th>training time (sec)</th>\n",
       "      <th>testing time (sec)</th>\n",
       "    </tr>\n",
       "  </thead>\n",
       "  <tbody>\n",
       "    <tr>\n",
       "      <th>0</th>\n",
       "      <td>DNN (2 layers)</td>\n",
       "      <td>0.465644</td>\n",
       "      <td>0.837618</td>\n",
       "      <td>0.470154</td>\n",
       "      <td>0.8410</td>\n",
       "      <td>28.136362</td>\n",
       "      <td>0.584556</td>\n",
       "    </tr>\n",
       "    <tr>\n",
       "      <th>1</th>\n",
       "      <td>DNN (3 layers)</td>\n",
       "      <td>0.419882</td>\n",
       "      <td>0.856727</td>\n",
       "      <td>0.442666</td>\n",
       "      <td>0.8506</td>\n",
       "      <td>19.928490</td>\n",
       "      <td>0.624443</td>\n",
       "    </tr>\n",
       "    <tr>\n",
       "      <th>2</th>\n",
       "      <td>CNN (2 layers)</td>\n",
       "      <td>0.197789</td>\n",
       "      <td>0.927727</td>\n",
       "      <td>0.263080</td>\n",
       "      <td>0.9016</td>\n",
       "      <td>256.934892</td>\n",
       "      <td>2.583120</td>\n",
       "    </tr>\n",
       "  </tbody>\n",
       "</table>\n",
       "</div>"
      ],
      "text/plain": [
       "            model      loss  accuracy  val_loss  val_accuracy  \\\n",
       "0  DNN (2 layers)  0.465644  0.837618  0.470154        0.8410   \n",
       "1  DNN (3 layers)  0.419882  0.856727  0.442666        0.8506   \n",
       "2  CNN (2 layers)  0.197789  0.927727  0.263080        0.9016   \n",
       "\n",
       "   training time (sec)  testing time (sec)  \n",
       "0            28.136362            0.584556  \n",
       "1            19.928490            0.624443  \n",
       "2           256.934892            2.583120  "
      ]
     },
     "execution_count": 21,
     "metadata": {},
     "output_type": "execute_result"
    }
   ],
   "source": [
    "prev_results_df = pd.read_pickle('results.pkl')\n",
    "results_df = prev_results_df.append(results_df,ignore_index=True)\n",
    "results_df"
   ]
  },
  {
   "cell_type": "markdown",
   "metadata": {},
   "source": [
    "## Plotting the performance \n",
    "\n",
    "We use Matplotlib to create 2 plots--displaying the training and validation loss (resp. accuracy) for each (training) epoch side by side."
   ]
  },
  {
   "cell_type": "code",
   "execution_count": 22,
   "metadata": {},
   "outputs": [
    {
     "data": {
      "image/png": "[encoded data removed]",
      "text/plain": [
       "<Figure size 432x288 with 1 Axes>"
      ]
     },
     "metadata": {
      "needs_background": "light"
     },
     "output_type": "display_data"
    }
   ],
   "source": [
    "# import matplotlib.pyplot as plt\n",
    "\n",
    "acc = history.history['accuracy']\n",
    "val_acc = history.history['val_accuracy']\n",
    "loss = history.history['loss']\n",
    "val_loss = history.history['val_loss']\n",
    "\n",
    "epochs = range(1, len(acc) + 1)\n",
    "\n",
    "# \"bo\" is for \"blue dot\"\n",
    "plt.plot(epochs, loss, 'bo', label='Training loss')\n",
    "# b is for \"solid blue line\"\n",
    "plt.plot(epochs, val_loss, 'b', label='Validation loss')\n",
    "plt.title('Training and validation loss')\n",
    "\n",
    "plt.xlabel('Epochs')\n",
    "plt.ylabel('Loss')\n",
    "plt.legend()\n",
    "\n",
    "plt.show()"
   ]
  },
  {
   "cell_type": "code",
   "execution_count": 23,
   "metadata": {},
   "outputs": [
    {
     "data": {
      "image/png": "[encoded data removed]",
      "text/plain": [
       "<Figure size 432x288 with 1 Axes>"
      ]
     },
     "metadata": {
      "needs_background": "light"
     },
     "output_type": "display_data"
    }
   ],
   "source": [
    "plt.clf()   # clear figure\n",
    "acc_values = history_dict['accuracy']\n",
    "# val_acc_values = history_dict['val_acc']\n",
    "\n",
    "plt.plot(epochs, acc, 'bo', label='Training acc')\n",
    "plt.plot(epochs, val_acc, 'b', label='Validation acc')\n",
    "plt.title('Training and validation accuracy')\n",
    "\n",
    "plt.xlabel('Epochs')\n",
    "plt.ylabel('Accuracy')\n",
    "plt.legend()\n",
    "\n",
    "plt.show()"
   ]
  },
  {
   "cell_type": "raw",
   "metadata": {},
   "source": [
    "Note these results looks similar to the ones in section 5.2.4 of Chollet's book suggesting overfitting. Therein, Chollet suggests using data augmentation with drop output. We will consider augmentation in "
   ]
  },
  {
   "cell_type": "code",
   "execution_count": 24,
   "metadata": {},
   "outputs": [],
   "source": [
    "# save the model. We will visualize its intermediate activations in Result2\n",
    "model.save(\"experiment3.h5\")"
   ]
  },
  {
   "cell_type": "markdown",
   "metadata": {},
   "source": [
    "## EXPERIMENT 3 (adding training/validation/testing generators) \n",
    "\n",
    "We redo `EXPERIMENT 3` but using training/validation/testing generators.\n",
    "\n",
    "**N.B**: This part needs to be checked carefully..."
   ]
  },
  {
   "cell_type": "markdown",
   "metadata": {},
   "source": [
    "## Building our network\n",
    "\n",
    "We build a `CNN` containingg 2 convolutional/max pooling layers. The last layer is a 10-way \"softmax\" layer, which means it will return an array of 10 probability scores (summing to 1). Each  score will be the probability that the current clothing image belongs to one of our 10 classes."
   ]
  },
  {
   "cell_type": "code",
   "execution_count": 25,
   "metadata": {},
   "outputs": [],
   "source": [
    "\n",
    "model = models.Sequential()\n",
    "model.add(layers.Conv2D(32, (3, 3), activation='relu', input_shape=(28, 28, 1)))\n",
    "model.add(layers.MaxPooling2D((2, 2)))\n",
    "model.add(layers.Conv2D(64, (3, 3), activation='relu'))\n",
    "model.add(layers.MaxPooling2D((2, 2)))\n",
    "model.add(layers.Flatten())\n",
    "model.add(layers.Dense(512, activation='relu'))\n",
    "model.add(layers.Dense(10, activation='softmax'))"
   ]
  },
  {
   "cell_type": "code",
   "execution_count": 26,
   "metadata": {},
   "outputs": [],
   "source": [
    "# keras.utils.plot_model(model, show_shapes=True)"
   ]
  },
  {
   "cell_type": "markdown",
   "metadata": {},
   "source": [
    "## Compiling the model\n",
    "\n",
    "To make our network ready for training, we need to pick three more things, as part of \"compilation\" step:\n",
    "\n",
    "* A loss function: the is how the network will be able to measure how good a job it is doing on its training data, and thus how it will be able to steer itself in the right direction.\n",
    "* An optimizer: this is the mechanism through which the network will update itself based on the data it sees and its loss function.\n",
    "* Metrics to monitor during training and testing. Here we will only care about accuracy (the fraction of the images that were correctly classified)."
   ]
  },
  {
   "cell_type": "code",
   "execution_count": 27,
   "metadata": {},
   "outputs": [],
   "source": [
    "# compile the model\n",
    "model.compile(optimizer='rmsprop',\n",
    "                loss='sparse_categorical_crossentropy',\n",
    "                metrics=['accuracy'])"
   ]
  },
  {
   "cell_type": "code",
   "execution_count": 28,
   "metadata": {},
   "outputs": [
    {
     "data": {
      "text/plain": [
       "(55000, 28, 28, 1)"
      ]
     },
     "execution_count": 28,
     "metadata": {},
     "output_type": "execute_result"
    }
   ],
   "source": [
    "train_images.shape"
   ]
  },
  {
   "cell_type": "markdown",
   "metadata": {},
   "source": [
    "# Creating data generators"
   ]
  },
  {
   "cell_type": "code",
   "execution_count": 29,
   "metadata": {},
   "outputs": [],
   "source": [
    "# https://www.tensorflow.org/api_docs/python/tf/keras/preprocessing/image/ImageDataGenerator\n",
    "# from tensorflow.keras.preprocessing.image import ImageDataGenerator\n",
    "\n",
    "# All images will be rescaled by 1./255\n",
    "train_datagen = ImageDataGenerator(rescale=1./255)\n",
    "test_datagen = ImageDataGenerator(rescale=1./255)\n",
    "\n",
    "train_generator = train_datagen.flow(\n",
    "            train_images, \n",
    "            train_labels, \n",
    "            batch_size=100)\n",
    "\n",
    "val_generator = test_datagen.flow(\n",
    "            val_images, \n",
    "            val_labels, \n",
    "            batch_size=100)"
   ]
  },
  {
   "cell_type": "code",
   "execution_count": 30,
   "metadata": {},
   "outputs": [
    {
     "name": "stdout",
     "output_type": "stream",
     "text": [
      "data batch shape: (100, 28, 28, 1)\n",
      "labels batch shape: (100,)\n"
     ]
    }
   ],
   "source": [
    "for data_batch, labels_batch in train_generator:\n",
    "    print('data batch shape:', data_batch.shape)\n",
    "    print('labels batch shape:', labels_batch.shape)\n",
    "    break"
   ]
  },
  {
   "cell_type": "code",
   "execution_count": 31,
   "metadata": {},
   "outputs": [
    {
     "name": "stdout",
     "output_type": "stream",
     "text": [
      "data batch shape: (100, 28, 28, 1)\n",
      "labels batch shape: (100,)\n"
     ]
    }
   ],
   "source": [
    "for data_batch, labels_batch in val_generator:\n",
    "    print('data batch shape:', data_batch.shape)\n",
    "    print('labels batch shape:', labels_batch.shape)\n",
    "    break"
   ]
  },
  {
   "cell_type": "code",
   "execution_count": 32,
   "metadata": {},
   "outputs": [
    {
     "data": {
      "text/plain": [
       "((55000, 28, 28, 1), (5000, 28, 28, 1))"
      ]
     },
     "execution_count": 32,
     "metadata": {},
     "output_type": "execute_result"
    }
   ],
   "source": [
    "train_images.shape, val_images.shape"
   ]
  },
  {
   "cell_type": "markdown",
   "metadata": {},
   "source": [
    "## Training the model\n",
    "\n",
    "We are now ready to train our network, which in Keras is done via a call to the `fit` method of the network: \n",
    "we \"fit\" the model to its training data. We train the model for 20 epochs with batch size 128. Also we pass the method the callback object we create to get the total training time."
   ]
  },
  {
   "cell_type": "code",
   "execution_count": 33,
   "metadata": {},
   "outputs": [
    {
     "data": {
      "text/plain": [
       "(550.0, 50.0)"
      ]
     },
     "execution_count": 33,
     "metadata": {},
     "output_type": "execute_result"
    }
   ],
   "source": [
    "(len(train_images) /100),(len(val_images) /100)"
   ]
  },
  {
   "cell_type": "code",
   "execution_count": 34,
   "metadata": {},
   "outputs": [
    {
     "name": "stdout",
     "output_type": "stream",
     "text": [
      "WARNING:tensorflow:sample_weight modes were coerced from\n",
      "  ...\n",
      "    to  \n",
      "  ['...']\n",
      "WARNING:tensorflow:sample_weight modes were coerced from\n",
      "  ...\n",
      "    to  \n",
      "  ['...']\n",
      "Train for 550.0 steps, validate for 50.0 steps\n",
      "Epoch 1/20\n",
      "550/550 [==============================] - 46s 84ms/step - loss: 1.1423 - accuracy: 0.5947 - val_loss: 0.7461 - val_accuracy: 0.7288\n",
      "Epoch 2/20\n",
      "550/550 [==============================] - 46s 84ms/step - loss: 0.6725 - accuracy: 0.7453 - val_loss: 0.5915 - val_accuracy: 0.7878\n",
      "Epoch 3/20\n",
      "550/550 [==============================] - 46s 83ms/step - loss: 0.5788 - accuracy: 0.7801 - val_loss: 0.5178 - val_accuracy: 0.8066\n",
      "Epoch 4/20\n",
      "550/550 [==============================] - 46s 84ms/step - loss: 0.5136 - accuracy: 0.8077 - val_loss: 0.4761 - val_accuracy: 0.8264\n",
      "Epoch 5/20\n",
      "550/550 [==============================] - 46s 84ms/step - loss: 0.4681 - accuracy: 0.8254 - val_loss: 0.4340 - val_accuracy: 0.8440\n",
      "Epoch 6/20\n",
      "550/550 [==============================] - 46s 84ms/step - loss: 0.4347 - accuracy: 0.8391 - val_loss: 0.4089 - val_accuracy: 0.8516\n",
      "Epoch 7/20\n",
      "550/550 [==============================] - 46s 84ms/step - loss: 0.4099 - accuracy: 0.8490 - val_loss: 0.3896 - val_accuracy: 0.8596\n",
      "Epoch 8/20\n",
      "550/550 [==============================] - 46s 84ms/step - loss: 0.3890 - accuracy: 0.8571 - val_loss: 0.3742 - val_accuracy: 0.8650\n",
      "Epoch 9/20\n",
      "550/550 [==============================] - 46s 84ms/step - loss: 0.3702 - accuracy: 0.8631 - val_loss: 0.3488 - val_accuracy: 0.8748\n",
      "Epoch 10/20\n",
      "550/550 [==============================] - 46s 84ms/step - loss: 0.3538 - accuracy: 0.8708 - val_loss: 0.3529 - val_accuracy: 0.8698\n",
      "Epoch 11/20\n",
      "550/550 [==============================] - 46s 84ms/step - loss: 0.3400 - accuracy: 0.8751 - val_loss: 0.3548 - val_accuracy: 0.8698\n",
      "Epoch 12/20\n",
      "550/550 [==============================] - 46s 84ms/step - loss: 0.3272 - accuracy: 0.8783 - val_loss: 0.3312 - val_accuracy: 0.8816\n",
      "Epoch 13/20\n",
      "550/550 [==============================] - 46s 84ms/step - loss: 0.3168 - accuracy: 0.8827 - val_loss: 0.3292 - val_accuracy: 0.8790\n",
      "Epoch 14/20\n",
      "550/550 [==============================] - 46s 84ms/step - loss: 0.3062 - accuracy: 0.8878 - val_loss: 0.3088 - val_accuracy: 0.8884\n",
      "Epoch 15/20\n",
      "550/550 [==============================] - 46s 84ms/step - loss: 0.2973 - accuracy: 0.8897 - val_loss: 0.3082 - val_accuracy: 0.8850\n",
      "Epoch 16/20\n",
      "550/550 [==============================] - 47s 85ms/step - loss: 0.2897 - accuracy: 0.8942 - val_loss: 0.3141 - val_accuracy: 0.8812\n",
      "Epoch 17/20\n",
      "550/550 [==============================] - 47s 85ms/step - loss: 0.2827 - accuracy: 0.8959 - val_loss: 0.3188 - val_accuracy: 0.8838\n",
      "Epoch 18/20\n",
      "550/550 [==============================] - 47s 85ms/step - loss: 0.2744 - accuracy: 0.8990 - val_loss: 0.2892 - val_accuracy: 0.8964\n",
      "Epoch 19/20\n",
      "550/550 [==============================] - 47s 85ms/step - loss: 0.2682 - accuracy: 0.9013 - val_loss: 0.2919 - val_accuracy: 0.8946\n",
      "Epoch 20/20\n",
      "550/550 [==============================] - 47s 85ms/step - loss: 0.2627 - accuracy: 0.9024 - val_loss: 0.2877 - val_accuracy: 0.8938\n"
     ]
    }
   ],
   "source": [
    "train_rt = TrainRuntimeCallback()\n",
    "cbs=[train_rt, keras.callbacks.EarlyStopping(patience=1, restore_best_weights=True)]\n",
    "history = model.fit(\n",
    "      train_generator,\n",
    "      steps_per_epoch = len(train_images) /100,\n",
    "      epochs= 20,\n",
    "      validation_data= val_generator, \n",
    "      validation_steps = len(val_images) /100)"
   ]
  },
  {
   "cell_type": "markdown",
   "metadata": {},
   "source": [
    "## EXPERIMENT 3 (Generator + data augmentation)\n",
    "\n",
    "CNN with 2 convolution/max pooling layers (no drop out) with data augmatation.\n",
    "\n",
    "**N.B**: This part needs to be checked carefully..."
   ]
  },
  {
   "cell_type": "markdown",
   "metadata": {},
   "source": [
    "## Compiling the model\n",
    "\n",
    "To make our network ready for training, we need to pick three more things, as part of \"compilation\" step:\n",
    "\n",
    "* A loss function: the is how the network will be able to measure how good a job it is doing on its training data, and thus how it will be able to steer itself in the right direction.\n",
    "* An optimizer: this is the mechanism through which the network will update itself based on the data it sees and its loss function.\n",
    "* Metrics to monitor during training and testing. Here we will only care about accuracy (the fraction of the images that were correctly classified)."
   ]
  },
  {
   "cell_type": "code",
   "execution_count": 35,
   "metadata": {},
   "outputs": [],
   "source": [
    "# compile the model\n",
    "model.compile(optimizer='rmsprop',\n",
    "                loss='sparse_categorical_crossentropy',\n",
    "                metrics=['accuracy'])"
   ]
  },
  {
   "cell_type": "code",
   "execution_count": 36,
   "metadata": {},
   "outputs": [],
   "source": [
    "# https://www.tensorflow.org/api_docs/python/tf/keras/preprocessing/image/ImageDataGenerator\n",
    "datagen = ImageDataGenerator(\n",
    "    rescale=1./255,\n",
    "    rotation_range=40,\n",
    "    width_shift_range=0.2,\n",
    "    height_shift_range=0.2,\n",
    "    shear_range=0.2,\n",
    "    zoom_range=0.2,\n",
    "    horizontal_flip=True,)\n",
    "\n",
    "# Note that the validation data should not be augmented!\n",
    "test_datagen = ImageDataGenerator(rescale=1./255)"
   ]
  },
  {
   "cell_type": "code",
   "execution_count": 37,
   "metadata": {},
   "outputs": [
    {
     "data": {
      "text/plain": [
       "(1, 28, 28, 1)"
      ]
     },
     "execution_count": 37,
     "metadata": {},
     "output_type": "execute_result"
    }
   ],
   "source": [
    "x = train_images[0]\n",
    "x = x.reshape((1,) + x.shape)\n",
    "x.shape"
   ]
  },
  {
   "cell_type": "code",
   "execution_count": 38,
   "metadata": {},
   "outputs": [
    {
     "data": {
      "image/png": "[encoded data removed]",
      "text/plain": [
       "<Figure size 432x288 with 1 Axes>"
      ]
     },
     "metadata": {
      "needs_background": "light"
     },
     "output_type": "display_data"
    },
    {
     "data": {
      "image/png": "[encoded data removed]",
      "text/plain": [
       "<Figure size 432x288 with 1 Axes>"
      ]
     },
     "metadata": {
      "needs_background": "light"
     },
     "output_type": "display_data"
    },
    {
     "data": {
      "image/png": "[encoded data removed]",
      "text/plain": [
       "<Figure size 432x288 with 1 Axes>"
      ]
     },
     "metadata": {
      "needs_background": "light"
     },
     "output_type": "display_data"
    },
    {
     "data": {
      "image/png": "[encoded data removed]",
      "text/plain": [
       "<Figure size 432x288 with 1 Axes>"
      ]
     },
     "metadata": {
      "needs_background": "light"
     },
     "output_type": "display_data"
    }
   ],
   "source": [
    "# This is module with image preprocessing utilities\n",
    "# from tensorflow.keras.preprocessing import image\n",
    "\n",
    "# The .flow() command below generates batches of randomly transformed images.\n",
    "# It will loop indefinitely, so we need to `break` the loop at some point!\n",
    "i = 0\n",
    "for batch in datagen.flow(x, batch_size=1):\n",
    "    plt.figure(i)\n",
    "    imgplot = plt.imshow(image.array_to_img(batch[0]),cmap='binary')\n",
    "    i += 1\n",
    "    if i % 4 == 0:\n",
    "        break\n",
    "\n",
    "plt.show()"
   ]
  },
  {
   "cell_type": "code",
   "execution_count": 39,
   "metadata": {},
   "outputs": [],
   "source": [
    "# https://www.tensorflow.org/api_docs/python/tf/keras/preprocessing/image/ImageDataGenerator\n",
    "train_datagen = ImageDataGenerator(\n",
    "    rescale=1./255,\n",
    "    rotation_range=40,\n",
    "    width_shift_range=0.2,\n",
    "    height_shift_range=0.2,\n",
    "    shear_range=0.2,\n",
    "    zoom_range=0.2,\n",
    "    horizontal_flip=True,)\n",
    "\n",
    "# Note that the validation data should not be augmented!\n",
    "test_datagen = ImageDataGenerator(rescale=1./255)"
   ]
  },
  {
   "cell_type": "code",
   "execution_count": 40,
   "metadata": {},
   "outputs": [],
   "source": [
    "train_generator = train_datagen.flow(\n",
    "            train_images, \n",
    "            train_labels, \n",
    "            batch_size=100)\n",
    "\n",
    "val_generator = test_datagen.flow(\n",
    "            val_images, \n",
    "            val_labels, \n",
    "            batch_size=100)"
   ]
  },
  {
   "cell_type": "code",
   "execution_count": 41,
   "metadata": {},
   "outputs": [
    {
     "name": "stdout",
     "output_type": "stream",
     "text": [
      "data batch shape: (100, 28, 28, 1)\n",
      "labels batch shape: (100,)\n"
     ]
    }
   ],
   "source": [
    "for data_batch, labels_batch in train_generator:\n",
    "    print('data batch shape:', data_batch.shape)\n",
    "    print('labels batch shape:', labels_batch.shape)\n",
    "    break"
   ]
  },
  {
   "cell_type": "code",
   "execution_count": 42,
   "metadata": {},
   "outputs": [
    {
     "name": "stdout",
     "output_type": "stream",
     "text": [
      "data batch shape: (100, 28, 28, 1)\n",
      "labels batch shape: (100,)\n"
     ]
    }
   ],
   "source": [
    "for data_batch, labels_batch in val_generator:\n",
    "    print('data batch shape:', data_batch.shape)\n",
    "    print('labels batch shape:', labels_batch.shape)\n",
    "    break"
   ]
  },
  {
   "cell_type": "raw",
   "metadata": {},
   "source": [
    "steps_per_epoch = len(train_images) /100,\n",
    "validation_steps = len(val_images) /100"
   ]
  },
  {
   "cell_type": "code",
   "execution_count": 43,
   "metadata": {},
   "outputs": [
    {
     "name": "stdout",
     "output_type": "stream",
     "text": [
      "WARNING:tensorflow:sample_weight modes were coerced from\n",
      "  ...\n",
      "    to  \n",
      "  ['...']\n",
      "WARNING:tensorflow:sample_weight modes were coerced from\n",
      "  ...\n",
      "    to  \n",
      "  ['...']\n",
      "Train for 550.0 steps, validate for 50.0 steps\n",
      "Epoch 1/20\n",
      "550/550 [==============================] - 53s 97ms/step - loss: 1.2472 - accuracy: 0.5503 - val_loss: 0.5280 - val_accuracy: 0.8158\n",
      "Epoch 2/20\n",
      "550/550 [==============================] - 53s 96ms/step - loss: 0.9744 - accuracy: 0.6428 - val_loss: 0.5202 - val_accuracy: 0.8218\n",
      "Epoch 3/20\n",
      "550/550 [==============================] - 53s 96ms/step - loss: 0.8856 - accuracy: 0.6725 - val_loss: 0.5010 - val_accuracy: 0.8282\n",
      "Epoch 4/20\n",
      "550/550 [==============================] - 53s 96ms/step - loss: 0.8371 - accuracy: 0.6906 - val_loss: 0.5061 - val_accuracy: 0.8230\n",
      "Epoch 5/20\n",
      "550/550 [==============================] - 53s 97ms/step - loss: 0.8034 - accuracy: 0.7017 - val_loss: 0.5186 - val_accuracy: 0.8110\n"
     ]
    }
   ],
   "source": [
    "train_rt = TrainRuntimeCallback()\n",
    "cbs=[train_rt, keras.callbacks.EarlyStopping(patience=2, restore_best_weights=True)]\n",
    "history = model.fit(\n",
    "      train_generator,\n",
    "      steps_per_epoch = len(train_images) /100,\n",
    "      epochs= 20,\n",
    "      callbacks = cbs,\n",
    "      validation_data= val_generator, \n",
    "      validation_steps = len(val_images) /100)"
   ]
  },
  {
   "cell_type": "markdown",
   "metadata": {},
   "source": [
    "## Plotting the performance \n",
    "\n",
    "We use Matplotlib to create 2 plots--displaying the training and validation loss (resp. accuracy) for each (training) epoch side by side."
   ]
  },
  {
   "cell_type": "code",
   "execution_count": 44,
   "metadata": {},
   "outputs": [
    {
     "data": {
      "image/png": "[encoded data removed]",
      "text/plain": [
       "<Figure size 432x288 with 1 Axes>"
      ]
     },
     "metadata": {
      "needs_background": "light"
     },
     "output_type": "display_data"
    }
   ],
   "source": [
    "# import matplotlib.pyplot as plt\n",
    "\n",
    "acc = history.history['accuracy']\n",
    "val_acc = history.history['val_accuracy']\n",
    "loss = history.history['loss']\n",
    "val_loss = history.history['val_loss']\n",
    "\n",
    "epochs = range(1, len(acc) + 1)\n",
    "\n",
    "# \"bo\" is for \"blue dot\"\n",
    "plt.plot(epochs, loss, 'bo', label='Training loss')\n",
    "# b is for \"solid blue line\"\n",
    "plt.plot(epochs, val_loss, 'b', label='Validation loss')\n",
    "plt.title('Training and validation loss')\n",
    "\n",
    "plt.xlabel('Epochs')\n",
    "plt.ylabel('Loss')\n",
    "plt.legend()\n",
    "\n",
    "plt.show()"
   ]
  },
  {
   "cell_type": "code",
   "execution_count": 45,
   "metadata": {},
   "outputs": [
    {
     "data": {
      "image/png": "[encoded data removed]",
      "text/plain": [
       "<Figure size 432x288 with 1 Axes>"
      ]
     },
     "metadata": {
      "needs_background": "light"
     },
     "output_type": "display_data"
    }
   ],
   "source": [
    "plt.clf()   # clear figure\n",
    "acc_values = history_dict['accuracy']\n",
    "# val_acc_values = history_dict['val_acc']\n",
    "\n",
    "plt.plot(epochs, acc, 'bo', label='Training acc')\n",
    "plt.plot(epochs, val_acc, 'b', label='Validation acc')\n",
    "plt.title('Training and validation accuracy')\n",
    "\n",
    "plt.xlabel('Epochs')\n",
    "plt.ylabel('Accuracy')\n",
    "plt.legend()\n",
    "\n",
    "plt.show()"
   ]
  },
  {
   "cell_type": "markdown",
   "metadata": {},
   "source": [
    "## Testing the model\n",
    "\n",
    "Evaluate the model on the test dataset using a callback to get the total test time."
   ]
  },
  {
   "cell_type": "code",
   "execution_count": 46,
   "metadata": {},
   "outputs": [
    {
     "name": "stdout",
     "output_type": "stream",
     "text": [
      "10000/10000 [==============================] - 3s 301us/sample - loss: 555.7991 - accuracy: 0.1847\n"
     ]
    },
    {
     "data": {
      "text/plain": [
       "[555.7990787597656, 0.1847]"
      ]
     },
     "execution_count": 46,
     "metadata": {},
     "output_type": "execute_result"
    }
   ],
   "source": [
    "model.evaluate(test_images, test_labels)"
   ]
  },
  {
   "cell_type": "code",
   "execution_count": 47,
   "metadata": {},
   "outputs": [],
   "source": [
    "# save the model. We will visualize its intermediate activations in Result2\n",
    "model.save(\"experiment3aug.h5\")"
   ]
  },
  {
   "cell_type": "markdown",
   "metadata": {},
   "source": [
    "## EXPERIMENT 4\n",
    "\n",
    "We create a `CNN` with 3 convolution/max pooling layers (**no drop out**) to work with our Fashion MNIST dataset."
   ]
  },
  {
   "cell_type": "code",
   "execution_count": 48,
   "metadata": {},
   "outputs": [],
   "source": [
    "# CNN with 3 convolution/max pooling layers\n",
    "\n",
    "model = models.Sequential()\n",
    "model.add(layers.Conv2D(32, (3, 3), activation='relu', input_shape=(28, 28, 1)))\n",
    "model.add(layers.MaxPooling2D((2, 2)))\n",
    "model.add(layers.Conv2D(64, (3, 3), activation='relu'))\n",
    "model.add(layers.MaxPooling2D((2, 2)))\n",
    "model.add(layers.Conv2D(64, (3, 3), activation='relu'))\n",
    "model.add(layers.Flatten())\n",
    "model.add(layers.Dense(64, activation='relu'))\n",
    "model.add(layers.Dense(10, activation='softmax'))"
   ]
  },
  {
   "cell_type": "code",
   "execution_count": 49,
   "metadata": {},
   "outputs": [
    {
     "data": {
      "image/png": "[encoded data removed]",
      "text/plain": [
       "<IPython.core.display.Image object>"
      ]
     },
     "execution_count": 49,
     "metadata": {},
     "output_type": "execute_result"
    }
   ],
   "source": [
    "keras.utils.plot_model(model, show_shapes=True)"
   ]
  },
  {
   "cell_type": "markdown",
   "metadata": {},
   "source": [
    "## Compiling the model\n",
    "\n",
    "To make our network ready for training, we need to pick three more things, as part of \"compilation\" step:\n",
    "\n",
    "* A loss function: the is how the network will be able to measure how good a job it is doing on its training data, and thus how it will be able to steer itself in the right direction.\n",
    "* An optimizer: this is the mechanism through which the network will update itself based on the data it sees and its loss function.\n",
    "* Metrics to monitor during training and testing. Here we will only care about accuracy (the fraction of the images that were correctly classified)."
   ]
  },
  {
   "cell_type": "code",
   "execution_count": 50,
   "metadata": {},
   "outputs": [],
   "source": [
    "# compile the model\n",
    "model.compile(optimizer='rmsprop',\n",
    "                loss='sparse_categorical_crossentropy',\n",
    "                metrics=['accuracy'])"
   ]
  },
  {
   "cell_type": "markdown",
   "metadata": {},
   "source": [
    "## Training the model\n",
    "\n",
    "We are now ready to train our network, which in Keras is done via a call to the `fit` method of the network: \n",
    "we \"fit\" the model to its training data. We train the model for 20 epochs with batch size 100. Also we pass the method the callback object we create to get the total training time."
   ]
  },
  {
   "cell_type": "code",
   "execution_count": 51,
   "metadata": {},
   "outputs": [
    {
     "name": "stdout",
     "output_type": "stream",
     "text": [
      "Train on 55000 samples, validate on 5000 samples\n",
      "Epoch 1/20\n",
      "55000/55000 [==============================] - 38s 689us/sample - loss: 0.6434 - accuracy: 0.7608 - val_loss: 0.4209 - val_accuracy: 0.8464\n",
      "Epoch 2/20\n",
      "55000/55000 [==============================] - 37s 676us/sample - loss: 0.3839 - accuracy: 0.8597 - val_loss: 0.3773 - val_accuracy: 0.8594\n",
      "Epoch 3/20\n",
      "55000/55000 [==============================] - 37s 679us/sample - loss: 0.3234 - accuracy: 0.8814 - val_loss: 0.3057 - val_accuracy: 0.8920\n",
      "Epoch 4/20\n",
      "55000/55000 [==============================] - 37s 678us/sample - loss: 0.2886 - accuracy: 0.8940 - val_loss: 0.2927 - val_accuracy: 0.8946\n",
      "Epoch 5/20\n",
      "55000/55000 [==============================] - 37s 675us/sample - loss: 0.2617 - accuracy: 0.9050 - val_loss: 0.2742 - val_accuracy: 0.9020\n",
      "Epoch 6/20\n",
      "55000/55000 [==============================] - 37s 681us/sample - loss: 0.2403 - accuracy: 0.9110 - val_loss: 0.2580 - val_accuracy: 0.9072\n",
      "Epoch 7/20\n",
      "55000/55000 [==============================] - 37s 679us/sample - loss: 0.2207 - accuracy: 0.9201 - val_loss: 0.2694 - val_accuracy: 0.9012\n",
      "Epoch 8/20\n",
      "55000/55000 [==============================] - 37s 678us/sample - loss: 0.2067 - accuracy: 0.9235 - val_loss: 0.2431 - val_accuracy: 0.9096\n",
      "Epoch 9/20\n",
      "55000/55000 [==============================] - 37s 678us/sample - loss: 0.1900 - accuracy: 0.9305 - val_loss: 0.2494 - val_accuracy: 0.9124\n",
      "Epoch 10/20\n",
      "55000/55000 [==============================] - 37s 676us/sample - loss: 0.1766 - accuracy: 0.9344 - val_loss: 0.2772 - val_accuracy: 0.8984\n"
     ]
    }
   ],
   "source": [
    "train_rt = TrainRuntimeCallback()\n",
    "cbs=[train_rt, keras.callbacks.EarlyStopping(patience=2, restore_best_weights=True)]\n",
    "history = model.fit(train_images, train_labels, callbacks=cbs, epochs=20,  batch_size = 128,\n",
    "                    validation_data=(val_images, val_labels))"
   ]
  },
  {
   "cell_type": "code",
   "execution_count": 52,
   "metadata": {},
   "outputs": [
    {
     "data": {
      "text/plain": [
       "373.416024"
      ]
     },
     "execution_count": 52,
     "metadata": {},
     "output_type": "execute_result"
    }
   ],
   "source": [
    "# Get the training time\n",
    "train_time = train_rt.process_time\n",
    "train_time # in seconds"
   ]
  },
  {
   "cell_type": "raw",
   "metadata": {},
   "source": [
    "Test the model and get its runtime using callbacks."
   ]
  },
  {
   "cell_type": "code",
   "execution_count": 53,
   "metadata": {},
   "outputs": [
    {
     "name": "stdout",
     "output_type": "stream",
     "text": [
      "10000/10000 [==============================] - 3s 268us/sample - loss: 0.2677 - accuracy: 0.9040\n"
     ]
    }
   ],
   "source": [
    "test_rt = TestRuntimeCallback()\n",
    "test_loss, test_acc = model.evaluate(test_images, test_labels, callbacks=[test_rt])"
   ]
  },
  {
   "cell_type": "code",
   "execution_count": 54,
   "metadata": {},
   "outputs": [
    {
     "data": {
      "text/plain": [
       "2.685031"
      ]
     },
     "execution_count": 54,
     "metadata": {},
     "output_type": "execute_result"
    }
   ],
   "source": [
    "# Get the test time\n",
    "test_time = test_rt.process_time\n",
    "test_time # in seconds"
   ]
  },
  {
   "cell_type": "markdown",
   "metadata": {},
   "source": [
    "# Adding the statistics to our results DataFrame\n",
    "\n",
    "We add the performance statistics for the new model to our DataFrame."
   ]
  },
  {
   "cell_type": "raw",
   "metadata": {},
   "source": [
    "Use the history to get the rest of the statistics we need."
   ]
  },
  {
   "cell_type": "code",
   "execution_count": 55,
   "metadata": {},
   "outputs": [
    {
     "data": {
      "text/plain": [
       "dict_keys(['loss', 'accuracy', 'val_loss', 'val_accuracy'])"
      ]
     },
     "execution_count": 55,
     "metadata": {},
     "output_type": "execute_result"
    }
   ],
   "source": [
    "history_dict = history.history\n",
    "history_dict.keys()"
   ]
  },
  {
   "cell_type": "raw",
   "metadata": {},
   "source": [
    "Note that we have has stats after each epoch..."
   ]
  },
  {
   "cell_type": "code",
   "execution_count": 56,
   "metadata": {},
   "outputs": [
    {
     "data": {
      "text/html": [
       "<div>\n",
       "<style scoped>\n",
       "    .dataframe tbody tr th:only-of-type {\n",
       "        vertical-align: middle;\n",
       "    }\n",
       "\n",
       "    .dataframe tbody tr th {\n",
       "        vertical-align: top;\n",
       "    }\n",
       "\n",
       "    .dataframe thead th {\n",
       "        text-align: right;\n",
       "    }\n",
       "</style>\n",
       "<table border=\"1\" class=\"dataframe\">\n",
       "  <thead>\n",
       "    <tr style=\"text-align: right;\">\n",
       "      <th></th>\n",
       "      <th>loss</th>\n",
       "      <th>accuracy</th>\n",
       "      <th>val_loss</th>\n",
       "      <th>val_accuracy</th>\n",
       "    </tr>\n",
       "  </thead>\n",
       "  <tbody>\n",
       "    <tr>\n",
       "      <th>5</th>\n",
       "      <td>0.240278</td>\n",
       "      <td>0.911000</td>\n",
       "      <td>0.258007</td>\n",
       "      <td>0.9072</td>\n",
       "    </tr>\n",
       "    <tr>\n",
       "      <th>6</th>\n",
       "      <td>0.220709</td>\n",
       "      <td>0.920055</td>\n",
       "      <td>0.269382</td>\n",
       "      <td>0.9012</td>\n",
       "    </tr>\n",
       "    <tr>\n",
       "      <th>7</th>\n",
       "      <td>0.206660</td>\n",
       "      <td>0.923455</td>\n",
       "      <td>0.243128</td>\n",
       "      <td>0.9096</td>\n",
       "    </tr>\n",
       "    <tr>\n",
       "      <th>8</th>\n",
       "      <td>0.190005</td>\n",
       "      <td>0.930545</td>\n",
       "      <td>0.249387</td>\n",
       "      <td>0.9124</td>\n",
       "    </tr>\n",
       "    <tr>\n",
       "      <th>9</th>\n",
       "      <td>0.176578</td>\n",
       "      <td>0.934418</td>\n",
       "      <td>0.277213</td>\n",
       "      <td>0.8984</td>\n",
       "    </tr>\n",
       "  </tbody>\n",
       "</table>\n",
       "</div>"
      ],
      "text/plain": [
       "       loss  accuracy  val_loss  val_accuracy\n",
       "5  0.240278  0.911000  0.258007        0.9072\n",
       "6  0.220709  0.920055  0.269382        0.9012\n",
       "7  0.206660  0.923455  0.243128        0.9096\n",
       "8  0.190005  0.930545  0.249387        0.9124\n",
       "9  0.176578  0.934418  0.277213        0.8984"
      ]
     },
     "execution_count": 56,
     "metadata": {},
     "output_type": "execute_result"
    }
   ],
   "source": [
    "history_df=pd.DataFrame(history_dict)\n",
    "history_df.tail()"
   ]
  },
  {
   "cell_type": "raw",
   "metadata": {},
   "source": [
    "Let us now create the DataFrame with statistics. Note that we only need the last row of history_df."
   ]
  },
  {
   "cell_type": "code",
   "execution_count": 57,
   "metadata": {},
   "outputs": [
    {
     "data": {
      "text/html": [
       "<div>\n",
       "<style scoped>\n",
       "    .dataframe tbody tr th:only-of-type {\n",
       "        vertical-align: middle;\n",
       "    }\n",
       "\n",
       "    .dataframe tbody tr th {\n",
       "        vertical-align: top;\n",
       "    }\n",
       "\n",
       "    .dataframe thead th {\n",
       "        text-align: right;\n",
       "    }\n",
       "</style>\n",
       "<table border=\"1\" class=\"dataframe\">\n",
       "  <thead>\n",
       "    <tr style=\"text-align: right;\">\n",
       "      <th></th>\n",
       "      <th>model</th>\n",
       "      <th>loss</th>\n",
       "      <th>accuracy</th>\n",
       "      <th>val_loss</th>\n",
       "      <th>val_accuracy</th>\n",
       "      <th>training time (sec)</th>\n",
       "      <th>testing time (sec)</th>\n",
       "    </tr>\n",
       "  </thead>\n",
       "  <tbody>\n",
       "    <tr>\n",
       "      <th>9</th>\n",
       "      <td>CNN (3 layers)</td>\n",
       "      <td>0.176578</td>\n",
       "      <td>0.934418</td>\n",
       "      <td>0.277213</td>\n",
       "      <td>0.8984</td>\n",
       "      <td>373.416024</td>\n",
       "      <td>2.685031</td>\n",
       "    </tr>\n",
       "  </tbody>\n",
       "</table>\n",
       "</div>"
      ],
      "text/plain": [
       "            model      loss  accuracy  val_loss  val_accuracy  \\\n",
       "9  CNN (3 layers)  0.176578  0.934418  0.277213        0.8984   \n",
       "\n",
       "   training time (sec)  testing time (sec)  \n",
       "9           373.416024            2.685031  "
      ]
     },
     "execution_count": 57,
     "metadata": {},
     "output_type": "execute_result"
    }
   ],
   "source": [
    "history_dict = history.history\n",
    "history_df=pd.DataFrame(history_dict)\n",
    "results_df2 = history_df.iloc[-1:].copy()\n",
    "results_df2.insert(0,'model','CNN (3 layers)') # went the model name to appear first\n",
    "results_df2['training time (sec)'] = train_time      # we are okay with training time appearing last\n",
    "results_df2['testing time (sec)'] = test_time      # we are okay with training time appearing last\n",
    "results_df2"
   ]
  },
  {
   "cell_type": "code",
   "execution_count": 58,
   "metadata": {},
   "outputs": [
    {
     "data": {
      "text/html": [
       "<div>\n",
       "<style scoped>\n",
       "    .dataframe tbody tr th:only-of-type {\n",
       "        vertical-align: middle;\n",
       "    }\n",
       "\n",
       "    .dataframe tbody tr th {\n",
       "        vertical-align: top;\n",
       "    }\n",
       "\n",
       "    .dataframe thead th {\n",
       "        text-align: right;\n",
       "    }\n",
       "</style>\n",
       "<table border=\"1\" class=\"dataframe\">\n",
       "  <thead>\n",
       "    <tr style=\"text-align: right;\">\n",
       "      <th></th>\n",
       "      <th>model</th>\n",
       "      <th>loss</th>\n",
       "      <th>accuracy</th>\n",
       "      <th>val_loss</th>\n",
       "      <th>val_accuracy</th>\n",
       "      <th>training time (sec)</th>\n",
       "      <th>testing time (sec)</th>\n",
       "    </tr>\n",
       "  </thead>\n",
       "  <tbody>\n",
       "    <tr>\n",
       "      <th>0</th>\n",
       "      <td>DNN (2 layers)</td>\n",
       "      <td>0.465644</td>\n",
       "      <td>0.837618</td>\n",
       "      <td>0.470154</td>\n",
       "      <td>0.8410</td>\n",
       "      <td>28.136362</td>\n",
       "      <td>0.584556</td>\n",
       "    </tr>\n",
       "    <tr>\n",
       "      <th>1</th>\n",
       "      <td>DNN (3 layers)</td>\n",
       "      <td>0.419882</td>\n",
       "      <td>0.856727</td>\n",
       "      <td>0.442666</td>\n",
       "      <td>0.8506</td>\n",
       "      <td>19.928490</td>\n",
       "      <td>0.624443</td>\n",
       "    </tr>\n",
       "    <tr>\n",
       "      <th>2</th>\n",
       "      <td>CNN (2 layers)</td>\n",
       "      <td>0.197789</td>\n",
       "      <td>0.927727</td>\n",
       "      <td>0.263080</td>\n",
       "      <td>0.9016</td>\n",
       "      <td>256.934892</td>\n",
       "      <td>2.583120</td>\n",
       "    </tr>\n",
       "    <tr>\n",
       "      <th>3</th>\n",
       "      <td>CNN (3 layers)</td>\n",
       "      <td>0.176578</td>\n",
       "      <td>0.934418</td>\n",
       "      <td>0.277213</td>\n",
       "      <td>0.8984</td>\n",
       "      <td>373.416024</td>\n",
       "      <td>2.685031</td>\n",
       "    </tr>\n",
       "  </tbody>\n",
       "</table>\n",
       "</div>"
      ],
      "text/plain": [
       "            model      loss  accuracy  val_loss  val_accuracy  \\\n",
       "0  DNN (2 layers)  0.465644  0.837618  0.470154        0.8410   \n",
       "1  DNN (3 layers)  0.419882  0.856727  0.442666        0.8506   \n",
       "2  CNN (2 layers)  0.197789  0.927727  0.263080        0.9016   \n",
       "3  CNN (3 layers)  0.176578  0.934418  0.277213        0.8984   \n",
       "\n",
       "   training time (sec)  testing time (sec)  \n",
       "0            28.136362            0.584556  \n",
       "1            19.928490            0.624443  \n",
       "2           256.934892            2.583120  \n",
       "3           373.416024            2.685031  "
      ]
     },
     "execution_count": 58,
     "metadata": {},
     "output_type": "execute_result"
    }
   ],
   "source": [
    "results_df=results_df.append(results_df2,ignore_index=True)\n",
    "results_df"
   ]
  },
  {
   "cell_type": "markdown",
   "metadata": {},
   "source": [
    "## Saving our DataFrame to disk\n",
    "\n",
    "We pickle the DataFrame so that we keep adding to it Experiment 3."
   ]
  },
  {
   "cell_type": "code",
   "execution_count": 59,
   "metadata": {},
   "outputs": [],
   "source": [
    "results_df.to_pickle(\"results2.pkl\") # save the DataFrame to use in Part 3"
   ]
  },
  {
   "cell_type": "markdown",
   "metadata": {},
   "source": [
    "## Plotting the performance \n",
    "\n",
    "We use Matplotlib to create 2 plots--displaying the training and validation loss (resp. accuracy) for each (training) epoch side by side."
   ]
  },
  {
   "cell_type": "code",
   "execution_count": 60,
   "metadata": {},
   "outputs": [
    {
     "data": {
      "image/png": "[encoded data removed]",
      "text/plain": [
       "<Figure size 432x288 with 1 Axes>"
      ]
     },
     "metadata": {
      "needs_background": "light"
     },
     "output_type": "display_data"
    }
   ],
   "source": [
    "acc = history.history['accuracy']\n",
    "val_acc = history.history['val_accuracy']\n",
    "loss = history.history['loss']\n",
    "val_loss = history.history['val_loss']\n",
    "\n",
    "epochs = range(1, len(acc) + 1)\n",
    "\n",
    "# \"bo\" is for \"blue dot\"\n",
    "plt.plot(epochs, loss, 'bo', label='Training loss')\n",
    "# b is for \"solid blue line\"\n",
    "plt.plot(epochs, val_loss, 'b', label='Validation loss')\n",
    "plt.title('Training and validation loss')\n",
    "\n",
    "plt.xlabel('Epochs')\n",
    "plt.ylabel('Loss')\n",
    "plt.legend()\n",
    "\n",
    "plt.show()"
   ]
  },
  {
   "cell_type": "code",
   "execution_count": 61,
   "metadata": {},
   "outputs": [
    {
     "data": {
      "image/png": "[encoded data removed]",
      "text/plain": [
       "<Figure size 432x288 with 1 Axes>"
      ]
     },
     "metadata": {
      "needs_background": "light"
     },
     "output_type": "display_data"
    }
   ],
   "source": [
    "plt.clf()   # clear figure\n",
    "acc_values = history_dict['accuracy']\n",
    "# val_acc_values = history_dict['val_acc']\n",
    "\n",
    "plt.plot(epochs, acc, 'bo', label='Training acc')\n",
    "plt.plot(epochs, val_acc, 'b', label='Validation acc')\n",
    "plt.title('Training and validation accuracy')\n",
    "\n",
    "plt.xlabel('Epochs')\n",
    "plt.ylabel('Accuracy')\n",
    "plt.legend()\n",
    "\n",
    "plt.show()"
   ]
  },
  {
   "cell_type": "code",
   "execution_count": 62,
   "metadata": {},
   "outputs": [],
   "source": [
    "# save the model. We will visualize its intermediate activations in Result2\n",
    "model.save(\"experiment4.h5\")"
   ]
  },
  {
   "cell_type": "markdown",
   "metadata": {},
   "source": []
  },
  {
   "cell_type": "code",
   "execution_count": null,
   "metadata": {},
   "outputs": [],
   "source": []
  }
 ],
 "metadata": {
  "kernelspec": {
   "display_name": "Python 3",
   "language": "python",
   "name": "python3"
  },
  "language_info": {
   "codemirror_mode": {
    "name": "ipython",
    "version": 3
   },
   "file_extension": ".py",
   "mimetype": "text/x-python",
   "name": "python",
   "nbconvert_exporter": "python",
   "pygments_lexer": "ipython3",
   "version": "3.6.9"
  },
  "toc": {
   "base_numbering": 1,
   "nav_menu": {},
   "number_sections": false,
   "sideBar": true,
   "skip_h1_title": false,
   "title_cell": "Table of Contents",
   "title_sidebar": "Contents",
   "toc_cell": false,
   "toc_position": {},
   "toc_section_display": true,
   "toc_window_display": true
  }
 },
 "nbformat": 4,
 "nbformat_minor": 4
}
