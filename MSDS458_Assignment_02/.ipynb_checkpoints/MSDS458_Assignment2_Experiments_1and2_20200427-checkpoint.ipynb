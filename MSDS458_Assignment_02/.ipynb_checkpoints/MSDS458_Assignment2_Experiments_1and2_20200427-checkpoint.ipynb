{
 "cells": [
  {
   "cell_type": "raw",
   "metadata": {},
   "source": [
    "DATE: April 27, 2020"
   ]
  },
  {
   "cell_type": "markdown",
   "metadata": {},
   "source": [
    "## Assignment 2:\n",
    "\n",
    "The goal is to compare `dense neural networks` and `convolutional neural networks` on `Fashion mnist` data.\n",
    "\n",
    "\n",
    "\n",
    "In all the experiments, we would hold some parameters constants - the batch size to 128, the number of epochs to 20, same optimizer, same loss function of cross entropy, so that we can do fair comparisons. \n",
    "\n",
    "\n",
    "\n",
    "* **EXPERIMENT 1: DNN with 2 layers (no drop out)**\n",
    "\n",
    "* **EXPERIMENT 2: DNN with 3 layers (no drop out)**\n",
    "\n",
    "* EXPERIMENT 3: CNN with 2 convolution/max pooling layers (no drop out)\n",
    "\n",
    "* EXPERIMENT 4: CNN with 3 convolution/max pooling layers (no drop out)\n",
    "\n",
    "* EXPERIMENT 5: Redo all the 4 experiments with 20% drop out\n",
    "\n",
    "`Result1`:  Create a table with the accuracy and loss for train/test/validation & process time for all the 8 models\n",
    "\n",
    "`Result2`: Take `EXPERIMENT 3` – Extract the outputs from 2 selected filters from the 2 max pooling layers and visualize them in a grid as images. See whether the 'lit up' regions correspond to some features in the original images."
   ]
  },
  {
   "cell_type": "markdown",
   "metadata": {},
   "source": [
    "**Note:** This page might be a useful reference: https://www.tensorflow.org/tutorials/keras/overfit_and_underfit?hl=en#setup (as well as the other tutorials on their site).\n",
    "\n",
    "\n",
    "We use `callbacks` below to get the training (+ validation?) runtimes though we could have just timed `model.fit(...)`. See https://keras.io/callbacks/"
   ]
  },
  {
   "cell_type": "markdown",
   "metadata": {},
   "source": [
    "## Import packages needed (and set seed)\n",
    "\n",
    "Since Keras in part of TensorFlow 2.x, we import keras from tensorflow and use tenserflow.keras.xxx to import all other Keras packages. The seed argument produces a deterministic sequence of tensors across multiple calls."
   ]
  },
  {
   "cell_type": "code",
   "execution_count": 1,
   "metadata": {},
   "outputs": [
    {
     "data": {
      "text/plain": [
       "'2.2.4-tf'"
      ]
     },
     "execution_count": 1,
     "metadata": {},
     "output_type": "execute_result"
    }
   ],
   "source": [
    "import numpy as np\n",
    "import pandas as pd\n",
    "import tensorflow as tf\n",
    "from tensorflow import keras\n",
    "import datetime # for getting calculating training times with a callback\n",
    "import matplotlib.pyplot as plt # for plotting training performance curves\n",
    "from collections import Counter   # for finding most popular training/testing categories in the data\n",
    "from tensorflow.keras.datasets import fashion_mnist #  source of the data we will use\n",
    "from tensorflow.keras import models   # used used to build, training and test the model. \n",
    "from tensorflow.keras import layers   # used to create the layers when building the model\n",
    "\n",
    "keras.__version__"
   ]
  },
  {
   "cell_type": "code",
   "execution_count": 2,
   "metadata": {},
   "outputs": [
    {
     "data": {
      "text/plain": [
       "'2.1.0'"
      ]
     },
     "execution_count": 2,
     "metadata": {},
     "output_type": "execute_result"
    }
   ],
   "source": [
    "tf.__version__"
   ]
  },
  {
   "cell_type": "code",
   "execution_count": 3,
   "metadata": {},
   "outputs": [],
   "source": [
    "# To get consistint results each time we rerun the code.\n",
    "keras.backend.clear_session()\n",
    "np.random.seed(42)\n",
    "tf.random.set_seed(42)"
   ]
  },
  {
   "cell_type": "markdown",
   "metadata": {},
   "source": [
    "## The Fashion MNIST dataset\n",
    "\n",
    "Zalando is Europe's leading online fashion platform for women, men and children. `Fashion-MNIST` is a dataset of their product images. Just like `MNIST` dataset, the `Fashion-MNIST` also consists of 70,000 grayscale images of 28x28 pixels divided into 60,000 training images and 10,000 test images. Each image is labeled with with an integer from 0 to 9 representing 10 classes: 'T-shirt/top', 'Trouser', 'Pullover', 'Dress', 'Coat', 'Sandal', 'Shirt', 'Sneaker', 'Bag', 'Ankle boot', respectively. `Fashion-MNIST` is intended to serve as a direct drop-in replacement for the original `MNIST` dataset for benchmarking machine learning algorithms since the the original `MNIST` was found to be too easy for the current machine learning models. In particular, Fashion-Mist shares the same image size and structure of training and testing splits as `MNIST`. Also like `MNIST` it comes prepackaged in `tf.Keras`. Use\n",
    "\n",
    "```python\n",
    "fashion_mnist.load_data()\n",
    "```\n",
    "\n",
    "to the get these datasets (and the corresponding labels) as Numpy arrays. See the `Fashion-MNIST` GitHub page for a lot more information about the data sets and benchmarks for 129 classifiers trained on the data:\n",
    "\n",
    "https://github.com/zalandoresearch/fashion-mnist"
   ]
  },
  {
   "cell_type": "code",
   "execution_count": 4,
   "metadata": {},
   "outputs": [
    {
     "data": {
      "text/plain": [
       "((60000, 28, 28), (10000, 28, 28), (10000,), (10000,))"
      ]
     },
     "execution_count": 4,
     "metadata": {},
     "output_type": "execute_result"
    }
   ],
   "source": [
    "# https://www.tensorflow.org/api_docs/python/tf/keras/datasets/fashion_mnist/load_data\n",
    "\n",
    "\n",
    "(train_images, train_labels), (test_images, test_labels) = fashion_mnist.load_data()\n",
    "\n",
    "train_images.shape, test_images.shape, train_labels.shape, test_labels.shape"
   ]
  },
  {
   "cell_type": "raw",
   "metadata": {},
   "source": [
    "The training labels consist of integers from 0 to 9. Note that are the same number of samples for each label."
   ]
  },
  {
   "cell_type": "code",
   "execution_count": 5,
   "metadata": {},
   "outputs": [
    {
     "data": {
      "text/plain": [
       "[(9, 6000),\n",
       " (0, 6000),\n",
       " (3, 6000),\n",
       " (2, 6000),\n",
       " (7, 6000),\n",
       " (5, 6000),\n",
       " (1, 6000),\n",
       " (6, 6000),\n",
       " (4, 6000),\n",
       " (8, 6000)]"
      ]
     },
     "execution_count": 5,
     "metadata": {},
     "output_type": "execute_result"
    }
   ],
   "source": [
    "Counter(train_labels).most_common()"
   ]
  },
  {
   "cell_type": "raw",
   "metadata": {},
   "source": [
    "The labels correspond classes (of clothing):"
   ]
  },
  {
   "cell_type": "code",
   "execution_count": 6,
   "metadata": {},
   "outputs": [],
   "source": [
    "# https://github.com/zalandoresearch/fashion-mnist\n",
    "# https://www.tensorflow.org/tutorials/keras/classification\n",
    "\n",
    "class_names = ['T-shirt/top', 'Trouser', 'Pullover', 'Dress', 'Coat',\n",
    "               'Sandal', 'Shirt', 'Sneaker', 'Bag', 'Ankle boot']"
   ]
  },
  {
   "cell_type": "raw",
   "metadata": {},
   "source": [
    "For example, the first training image is an Ankle boot."
   ]
  },
  {
   "cell_type": "code",
   "execution_count": 7,
   "metadata": {},
   "outputs": [
    {
     "data": {
      "image/png": "[encoded data removed]",
      "text/plain": [
       "<Figure size 432x288 with 1 Axes>"
      ]
     },
     "metadata": {
      "needs_background": "light"
     },
     "output_type": "display_data"
    }
   ],
   "source": [
    "#https://matplotlib.org/tutorials/colors/colormaps.html?highlight=colormap\n",
    "plt.imshow(train_images[0], cmap=\"binary\") \n",
    "plt.axis('off')\n",
    "plt.title(class_names[test_labels[0]], fontsize=12)\n",
    "plt.show()"
   ]
  },
  {
   "cell_type": "raw",
   "metadata": {},
   "source": [
    "While the second is a Pullover."
   ]
  },
  {
   "cell_type": "code",
   "execution_count": 8,
   "metadata": {},
   "outputs": [
    {
     "data": {
      "image/png": "[encoded data removed]",
      "text/plain": [
       "<Figure size 432x288 with 1 Axes>"
      ]
     },
     "metadata": {
      "needs_background": "light"
     },
     "output_type": "display_data"
    }
   ],
   "source": [
    "\n",
    "plt.imshow(train_images[1], cmap=\"binary\") \n",
    "plt.axis('off')\n",
    "plt.title(class_names[test_labels[1]], fontsize=12)\n",
    "plt.show()"
   ]
  },
  {
   "cell_type": "markdown",
   "metadata": {},
   "source": [
    "# EXPERIMENT  1:\n",
    "\n",
    "We will use the 'best' `DNN` model from assignment 1. The model will consist of 784 input nodes, a hidden layer with `5 nodes` and 10 output nodes (corresponding to the 10 fashion categories).\n",
    "\n",
    "We use `fashion_mnist.load_data()` to get the 70,000 images divided into a set of 60,000 training images and 10,000 test images. We hold back 5,000 of the 60,000 training images for validation. After training the model, we use Matplotlib to create 2 plots--displaying the training and validation loss (resp. accuracy) for each (training) epoch side by side."
   ]
  },
  {
   "cell_type": "markdown",
   "metadata": {},
   "source": [
    "## Preparing the data\n",
    "\n",
    "Before training, we will preprocess our data by reshaping it into the shape that the network expects, and scaling it so that all values are in the \\[0, 1] interval.\n",
    "\n",
    "Our training images are stored in an array of shape (60000, 28, 28) of type uint8 with values in the [0, 255] interval. \n",
    "\n",
    "We transform it into a float32 array of shape (60000, 28 * 28) with values between 0 and 1.\n",
    "\n",
    "**N.B**: Changed my mind and used a Flatten layer in the model showing two ways of doing this."
   ]
  },
  {
   "cell_type": "code",
   "execution_count": 9,
   "metadata": {},
   "outputs": [],
   "source": [
    "# We transform it into a float32 array of shape (60000, 28 * 28) with values between 0 and 1. \n",
    "\n",
    "#train_images = train_images.reshape((60000, 28 * 28))  # Decided instead to use a Flatten layer in the model\n",
    "train_images = train_images.astype('float32') / 255\n",
    "\n",
    "#test_images = test_images.reshape((10000, 28 * 28))  # Decided instead to use a Flatten layer in the model\n",
    "test_images = test_images.astype('float32') / 255"
   ]
  },
  {
   "cell_type": "markdown",
   "metadata": {},
   "source": [
    "## Validating our approach\n",
    "\n",
    "We set apart 5,000 samples of our training data to use as a validation set. Since we will be using `sparse_categorical_crossentropy` as the loss function we **do not** need to use `to_categorical` to convert the class vector of labels to binary matrix representation."
   ]
  },
  {
   "cell_type": "code",
   "execution_count": 10,
   "metadata": {},
   "outputs": [],
   "source": [
    "# Create validation data\n",
    "val_images, train_images = train_images[:5000], train_images[5000:] \n",
    "val_labels, train_labels = train_labels[:5000], train_labels[5000:]"
   ]
  },
  {
   "cell_type": "markdown",
   "metadata": {},
   "source": [
    "## Building our network\n",
    "\n",
    "Here our network consists of a sequence of two `Dense` layers, which are densely-connected (also called \"fully-connected\") neural layers. \n",
    "\n",
    "The first `Dense` layer, the hidden layer, consists of `five nodes`.\n",
    "\n",
    "The second (and last) layer is a 10-way \"softmax\" layer, which means it will return an array of 10 probability scores (summing to 1). Each  score will be the probability that the current clothing image belongs to one of our 10 classes."
   ]
  },
  {
   "cell_type": "code",
   "execution_count": 11,
   "metadata": {},
   "outputs": [],
   "source": [
    "# from tensorflow.keras import models\n",
    "# from tensorflow.keras import layers\n",
    "\n",
    "# model = models.Sequential()\n",
    "# model.add(layers.Dense(5, activation='relu', input_shape=(28 * 28,)))\n",
    "# model.add(layers.Dense(10, activation='softmax'))   "
   ]
  },
  {
   "cell_type": "code",
   "execution_count": 12,
   "metadata": {},
   "outputs": [
    {
     "name": "stdout",
     "output_type": "stream",
     "text": [
      "Model: \"sequential\"\n",
      "_________________________________________________________________\n",
      "Layer (type)                 Output Shape              Param #   \n",
      "=================================================================\n",
      "flatten (Flatten)            (None, 784)               0         \n",
      "_________________________________________________________________\n",
      "dense (Dense)                (None, 5)                 3925      \n",
      "_________________________________________________________________\n",
      "dense_1 (Dense)              (None, 10)                60        \n",
      "=================================================================\n",
      "Total params: 3,985\n",
      "Trainable params: 3,985\n",
      "Non-trainable params: 0\n",
      "_________________________________________________________________\n"
     ]
    }
   ],
   "source": [
    "\n",
    "\n",
    "model = models.Sequential()\n",
    "model.add(layers.Flatten(input_shape=[28, 28]))\n",
    "model.add(layers.Dense(5, activation='relu'))\n",
    "model.add(layers.Dense(10, activation='softmax')) \n",
    "\n",
    "model.summary()"
   ]
  },
  {
   "cell_type": "code",
   "execution_count": 13,
   "metadata": {},
   "outputs": [
    {
     "name": "stdout",
     "output_type": "stream",
     "text": [
      "Model: \"sequential_1\"\n",
      "_________________________________________________________________\n",
      "Layer (type)                 Output Shape              Param #   \n",
      "=================================================================\n",
      "flatten_1 (Flatten)          (None, 784)               0         \n",
      "_________________________________________________________________\n",
      "dense_2 (Dense)              (None, 5)                 3925      \n",
      "_________________________________________________________________\n",
      "dense_3 (Dense)              (None, 10)                60        \n",
      "=================================================================\n",
      "Total params: 3,985\n",
      "Trainable params: 3,985\n",
      "Non-trainable params: 0\n",
      "_________________________________________________________________\n"
     ]
    }
   ],
   "source": [
    "# from tensorflow.keras import models\n",
    "# from tensorflow.keras import layers\n",
    "\n",
    "model = models.Sequential()\n",
    "model.add(layers.InputLayer(input_shape=[28, 28]))\n",
    "model.add(layers.Flatten())\n",
    "model.add(layers.Dense(5, activation='relu'))\n",
    "model.add(layers.Dense(10, activation='softmax')) \n",
    "\n",
    "model.summary()"
   ]
  },
  {
   "cell_type": "markdown",
   "metadata": {},
   "source": [
    "## Compiling the model\n",
    "\n",
    "To make our network ready for training, we need to pick three more things, as part of \"compilation\" step:\n",
    "\n",
    "* A loss function: the is how the network will be able to measure how good a job it is doing on its training data, and thus how it will be able to steer itself in the right direction.\n",
    "* An optimizer: this is the mechanism through which the network will update itself based on the data it sees and its loss function.\n",
    "* Metrics to monitor during training and testing. Here we will only care about accuracy (the fraction of the images that were correctly classified)."
   ]
  },
  {
   "cell_type": "code",
   "execution_count": 14,
   "metadata": {},
   "outputs": [],
   "source": [
    "model.compile(optimizer='rmsprop',\n",
    "                loss='sparse_categorical_crossentropy',\n",
    "                metrics=['accuracy'])"
   ]
  },
  {
   "cell_type": "raw",
   "metadata": {},
   "source": [
    "To get the total training time I used the callback. "
   ]
  },
  {
   "cell_type": "markdown",
   "metadata": {},
   "source": [
    "## Creating a callback to get training times"
   ]
  },
  {
   "cell_type": "code",
   "execution_count": 15,
   "metadata": {},
   "outputs": [],
   "source": [
    "# Define callback to get total training time\n",
    "# import datetime\n",
    "\n",
    "class TrainRuntimeCallback(keras.callbacks.Callback):\n",
    "\n",
    "  def on_train_begin(self,logs={}):\n",
    "    self.start = datetime.datetime.now()\n",
    "\n",
    "  def on_train_end(self,logs={}):\n",
    "    self.process_time = (datetime.datetime.now() - self.start).total_seconds()"
   ]
  },
  {
   "cell_type": "markdown",
   "metadata": {},
   "source": [
    "## Training the model\n",
    "\n",
    "We are now ready to train our network, which in Keras is done via a call to the `fit` method of the network: \n",
    "we \"fit\" the model to its training data. We train the model for 20 epochs with batch size 100. Also we pass the method the callback object we create to get the total training time."
   ]
  },
  {
   "cell_type": "code",
   "execution_count": 16,
   "metadata": {},
   "outputs": [
    {
     "name": "stdout",
     "output_type": "stream",
     "text": [
      "Train on 55000 samples, validate on 5000 samples\n",
      "Epoch 1/20\n",
      "55000/55000 [==============================] - 2s 32us/sample - loss: 1.3950 - accuracy: 0.5636 - val_loss: 0.9834 - val_accuracy: 0.7188\n",
      "Epoch 2/20\n",
      "55000/55000 [==============================] - 1s 26us/sample - loss: 0.8324 - accuracy: 0.7574 - val_loss: 0.7497 - val_accuracy: 0.7822\n",
      "Epoch 3/20\n",
      "55000/55000 [==============================] - 1s 25us/sample - loss: 0.6997 - accuracy: 0.7956 - val_loss: 0.6585 - val_accuracy: 0.8060\n",
      "Epoch 4/20\n",
      "55000/55000 [==============================] - 1s 25us/sample - loss: 0.6328 - accuracy: 0.8093 - val_loss: 0.6199 - val_accuracy: 0.8050\n",
      "Epoch 5/20\n",
      "55000/55000 [==============================] - 1s 25us/sample - loss: 0.5886 - accuracy: 0.8153 - val_loss: 0.5619 - val_accuracy: 0.8230\n",
      "Epoch 6/20\n",
      "55000/55000 [==============================] - 1s 25us/sample - loss: 0.5574 - accuracy: 0.8209 - val_loss: 0.5433 - val_accuracy: 0.8252\n",
      "Epoch 7/20\n",
      "55000/55000 [==============================] - 1s 25us/sample - loss: 0.5355 - accuracy: 0.8230 - val_loss: 0.5329 - val_accuracy: 0.8224\n",
      "Epoch 8/20\n",
      "55000/55000 [==============================] - 1s 25us/sample - loss: 0.5202 - accuracy: 0.8249 - val_loss: 0.5333 - val_accuracy: 0.8226\n",
      "Epoch 9/20\n",
      "55000/55000 [==============================] - 1s 25us/sample - loss: 0.5093 - accuracy: 0.8277 - val_loss: 0.4982 - val_accuracy: 0.8346\n",
      "Epoch 10/20\n",
      "55000/55000 [==============================] - 1s 25us/sample - loss: 0.5010 - accuracy: 0.8283 - val_loss: 0.4965 - val_accuracy: 0.8286\n",
      "Epoch 11/20\n",
      "55000/55000 [==============================] - 1s 25us/sample - loss: 0.4944 - accuracy: 0.8303 - val_loss: 0.4848 - val_accuracy: 0.8342\n",
      "Epoch 12/20\n",
      "55000/55000 [==============================] - 1s 25us/sample - loss: 0.4893 - accuracy: 0.8321 - val_loss: 0.4891 - val_accuracy: 0.8320\n",
      "Epoch 13/20\n",
      "55000/55000 [==============================] - 1s 25us/sample - loss: 0.4845 - accuracy: 0.8323 - val_loss: 0.4842 - val_accuracy: 0.8356\n",
      "Epoch 14/20\n",
      "55000/55000 [==============================] - 1s 25us/sample - loss: 0.4810 - accuracy: 0.8335 - val_loss: 0.4797 - val_accuracy: 0.8340\n",
      "Epoch 15/20\n",
      "55000/55000 [==============================] - 1s 25us/sample - loss: 0.4782 - accuracy: 0.8340 - val_loss: 0.4767 - val_accuracy: 0.8382\n",
      "Epoch 16/20\n",
      "55000/55000 [==============================] - 1s 25us/sample - loss: 0.4752 - accuracy: 0.8350 - val_loss: 0.4730 - val_accuracy: 0.8408\n",
      "Epoch 17/20\n",
      "55000/55000 [==============================] - 1s 25us/sample - loss: 0.4718 - accuracy: 0.8369 - val_loss: 0.4801 - val_accuracy: 0.8404\n",
      "Epoch 18/20\n",
      "55000/55000 [==============================] - 1s 25us/sample - loss: 0.4698 - accuracy: 0.8359 - val_loss: 0.4682 - val_accuracy: 0.8390\n",
      "Epoch 19/20\n",
      "55000/55000 [==============================] - 1s 25us/sample - loss: 0.4675 - accuracy: 0.8375 - val_loss: 0.4746 - val_accuracy: 0.8380\n",
      "Epoch 20/20\n",
      "55000/55000 [==============================] - 1s 25us/sample - loss: 0.4656 - accuracy: 0.8376 - val_loss: 0.4702 - val_accuracy: 0.8410\n"
     ]
    }
   ],
   "source": [
    "train_rt = TrainRuntimeCallback()\n",
    "cbs=[train_rt, keras.callbacks.EarlyStopping(patience=2, restore_best_weights=True)]\n",
    "history = model.fit(train_images, train_labels, callbacks=cbs, epochs=20, batch_size = 128,\n",
    "                    validation_data=(val_images, val_labels))"
   ]
  },
  {
   "cell_type": "code",
   "execution_count": 17,
   "metadata": {},
   "outputs": [
    {
     "data": {
      "text/plain": [
       "28.136362"
      ]
     },
     "execution_count": 17,
     "metadata": {},
     "output_type": "execute_result"
    }
   ],
   "source": [
    "# Get the training time\n",
    "train_time = train_rt.process_time\n",
    "train_time # in seconds"
   ]
  },
  {
   "cell_type": "markdown",
   "metadata": {},
   "source": [
    "## Testing the model\n",
    "\n",
    "Evaluate the model on the test dataset using a callback to get the total test time."
   ]
  },
  {
   "cell_type": "code",
   "execution_count": 18,
   "metadata": {},
   "outputs": [],
   "source": [
    "# Define callback to get total test time\n",
    "# import datetime\n",
    "\n",
    "class TestRuntimeCallback(keras.callbacks.Callback):\n",
    "\n",
    "  def on_test_begin(self,logs={}):\n",
    "    self.start = datetime.datetime.now()\n",
    "\n",
    "  def on_test_end(self,logs={}):\n",
    "    self.process_time = (datetime.datetime.now() - self.start).total_seconds()"
   ]
  },
  {
   "cell_type": "code",
   "execution_count": 19,
   "metadata": {},
   "outputs": [
    {
     "name": "stdout",
     "output_type": "stream",
     "text": [
      "10000/10000 [==============================] - 1s 58us/sample - loss: 0.5040 - accuracy: 0.8231\n"
     ]
    }
   ],
   "source": [
    "test_rt = TestRuntimeCallback()\n",
    "test_loss, test_acc = model.evaluate(test_images, test_labels, callbacks=[test_rt])"
   ]
  },
  {
   "cell_type": "code",
   "execution_count": 20,
   "metadata": {},
   "outputs": [
    {
     "data": {
      "text/plain": [
       "0.584556"
      ]
     },
     "execution_count": 20,
     "metadata": {},
     "output_type": "execute_result"
    }
   ],
   "source": [
    "# Get the test time\n",
    "test_time = test_rt.process_time\n",
    "test_time # in seconds"
   ]
  },
  {
   "cell_type": "markdown",
   "metadata": {},
   "source": [
    "## Creating a DataFrame for the training and test statistics\n",
    "\n",
    "We will create a pandas DataFrame to hold the training/test times and their accuracy and loss values of each of the four models (and their variations) that we will consider in these experiment. We add the statistics for our first model to that DataFrame."
   ]
  },
  {
   "cell_type": "code",
   "execution_count": 21,
   "metadata": {},
   "outputs": [
    {
     "data": {
      "text/plain": [
       "dict_keys(['loss', 'accuracy', 'val_loss', 'val_accuracy'])"
      ]
     },
     "execution_count": 21,
     "metadata": {},
     "output_type": "execute_result"
    }
   ],
   "source": [
    "history_dict = history.history\n",
    "history_dict.keys()"
   ]
  },
  {
   "cell_type": "raw",
   "metadata": {},
   "source": [
    "Note that we have has stats after each epoch..."
   ]
  },
  {
   "cell_type": "code",
   "execution_count": 22,
   "metadata": {},
   "outputs": [
    {
     "data": {
      "text/html": [
       "<div>\n",
       "<style scoped>\n",
       "    .dataframe tbody tr th:only-of-type {\n",
       "        vertical-align: middle;\n",
       "    }\n",
       "\n",
       "    .dataframe tbody tr th {\n",
       "        vertical-align: top;\n",
       "    }\n",
       "\n",
       "    .dataframe thead th {\n",
       "        text-align: right;\n",
       "    }\n",
       "</style>\n",
       "<table border=\"1\" class=\"dataframe\">\n",
       "  <thead>\n",
       "    <tr style=\"text-align: right;\">\n",
       "      <th></th>\n",
       "      <th>loss</th>\n",
       "      <th>accuracy</th>\n",
       "      <th>val_loss</th>\n",
       "      <th>val_accuracy</th>\n",
       "    </tr>\n",
       "  </thead>\n",
       "  <tbody>\n",
       "    <tr>\n",
       "      <th>15</th>\n",
       "      <td>0.475235</td>\n",
       "      <td>0.835000</td>\n",
       "      <td>0.472984</td>\n",
       "      <td>0.8408</td>\n",
       "    </tr>\n",
       "    <tr>\n",
       "      <th>16</th>\n",
       "      <td>0.471783</td>\n",
       "      <td>0.836927</td>\n",
       "      <td>0.480088</td>\n",
       "      <td>0.8404</td>\n",
       "    </tr>\n",
       "    <tr>\n",
       "      <th>17</th>\n",
       "      <td>0.469764</td>\n",
       "      <td>0.835891</td>\n",
       "      <td>0.468203</td>\n",
       "      <td>0.8390</td>\n",
       "    </tr>\n",
       "    <tr>\n",
       "      <th>18</th>\n",
       "      <td>0.467501</td>\n",
       "      <td>0.837491</td>\n",
       "      <td>0.474647</td>\n",
       "      <td>0.8380</td>\n",
       "    </tr>\n",
       "    <tr>\n",
       "      <th>19</th>\n",
       "      <td>0.465644</td>\n",
       "      <td>0.837618</td>\n",
       "      <td>0.470154</td>\n",
       "      <td>0.8410</td>\n",
       "    </tr>\n",
       "  </tbody>\n",
       "</table>\n",
       "</div>"
      ],
      "text/plain": [
       "        loss  accuracy  val_loss  val_accuracy\n",
       "15  0.475235  0.835000  0.472984        0.8408\n",
       "16  0.471783  0.836927  0.480088        0.8404\n",
       "17  0.469764  0.835891  0.468203        0.8390\n",
       "18  0.467501  0.837491  0.474647        0.8380\n",
       "19  0.465644  0.837618  0.470154        0.8410"
      ]
     },
     "execution_count": 22,
     "metadata": {},
     "output_type": "execute_result"
    }
   ],
   "source": [
    "history_df=pd.DataFrame(history_dict)\n",
    "history_df.tail()"
   ]
  },
  {
   "cell_type": "raw",
   "metadata": {},
   "source": [
    "Let us now create the DataFrame with the statistics. Note that we only need the last row of history_df."
   ]
  },
  {
   "cell_type": "code",
   "execution_count": 23,
   "metadata": {},
   "outputs": [
    {
     "data": {
      "text/html": [
       "<div>\n",
       "<style scoped>\n",
       "    .dataframe tbody tr th:only-of-type {\n",
       "        vertical-align: middle;\n",
       "    }\n",
       "\n",
       "    .dataframe tbody tr th {\n",
       "        vertical-align: top;\n",
       "    }\n",
       "\n",
       "    .dataframe thead th {\n",
       "        text-align: right;\n",
       "    }\n",
       "</style>\n",
       "<table border=\"1\" class=\"dataframe\">\n",
       "  <thead>\n",
       "    <tr style=\"text-align: right;\">\n",
       "      <th></th>\n",
       "      <th>model</th>\n",
       "      <th>loss</th>\n",
       "      <th>accuracy</th>\n",
       "      <th>val_loss</th>\n",
       "      <th>val_accuracy</th>\n",
       "      <th>training time (sec)</th>\n",
       "      <th>testing time (sec)</th>\n",
       "    </tr>\n",
       "  </thead>\n",
       "  <tbody>\n",
       "    <tr>\n",
       "      <th>19</th>\n",
       "      <td>DNN (2 layers)</td>\n",
       "      <td>0.465644</td>\n",
       "      <td>0.837618</td>\n",
       "      <td>0.470154</td>\n",
       "      <td>0.841</td>\n",
       "      <td>28.136362</td>\n",
       "      <td>0.584556</td>\n",
       "    </tr>\n",
       "  </tbody>\n",
       "</table>\n",
       "</div>"
      ],
      "text/plain": [
       "             model      loss  accuracy  val_loss  val_accuracy  \\\n",
       "19  DNN (2 layers)  0.465644  0.837618  0.470154         0.841   \n",
       "\n",
       "    training time (sec)  testing time (sec)  \n",
       "19            28.136362            0.584556  "
      ]
     },
     "execution_count": 23,
     "metadata": {},
     "output_type": "execute_result"
    }
   ],
   "source": [
    "results_df = history_df.iloc[-1:].copy()\n",
    "results_df.insert(0,'model','DNN (2 layers)') # went the model name to appear first\n",
    "results_df['training time (sec)'] = train_time      # we are okay with training time appearing last\n",
    "results_df['testing time (sec)'] = test_time      # we are okay with training time appearing last\n",
    "results_df"
   ]
  },
  {
   "cell_type": "markdown",
   "metadata": {},
   "source": [
    "## Plotting the performance \n",
    "\n",
    "We use Matplotlib to create 2 plots--displaying the training and validation loss (resp. accuracy) for each (training) epoch side by side."
   ]
  },
  {
   "cell_type": "code",
   "execution_count": 24,
   "metadata": {},
   "outputs": [
    {
     "data": {
      "image/png": "[encoded data removed]",
      "text/plain": [
       "<Figure size 432x288 with 1 Axes>"
      ]
     },
     "metadata": {
      "needs_background": "light"
     },
     "output_type": "display_data"
    }
   ],
   "source": [
    "# import matplotlib.pyplot as plt\n",
    "\n",
    "acc = history.history['accuracy']\n",
    "val_acc = history.history['val_accuracy']\n",
    "loss = history.history['loss']\n",
    "val_loss = history.history['val_loss']\n",
    "\n",
    "epochs = range(1, len(acc) + 1)\n",
    "\n",
    "# \"bo\" is for \"blue dot\"\n",
    "plt.plot(epochs, loss, 'bo', label='Training loss')\n",
    "# b is for \"solid blue line\"\n",
    "plt.plot(epochs, val_loss, 'b', label='Validation loss')\n",
    "plt.title('Training and validation loss')\n",
    "\n",
    "plt.xlabel('Epochs')\n",
    "plt.ylabel('Loss')\n",
    "plt.legend()\n",
    "\n",
    "plt.show()"
   ]
  },
  {
   "cell_type": "code",
   "execution_count": 25,
   "metadata": {},
   "outputs": [
    {
     "data": {
      "image/png": "[encoded data removed]",
      "text/plain": [
       "<Figure size 432x288 with 1 Axes>"
      ]
     },
     "metadata": {
      "needs_background": "light"
     },
     "output_type": "display_data"
    }
   ],
   "source": [
    "plt.clf()   # clear figure\n",
    "acc_values = history_dict['accuracy']\n",
    "# val_acc_values = history_dict['val_acc']\n",
    "\n",
    "plt.plot(epochs, acc, 'bo', label='Training acc')\n",
    "plt.plot(epochs, val_acc, 'b', label='Validation acc')\n",
    "plt.title('Training and validation accuracy')\n",
    "\n",
    "plt.xlabel('Epochs')\n",
    "plt.ylabel('Loss')\n",
    "plt.legend()\n",
    "\n",
    "plt.show()"
   ]
  },
  {
   "cell_type": "markdown",
   "metadata": {},
   "source": [
    "# EXPERIMENT  2:\n",
    "\n",
    "This time our `DNN` model will consist of 784 input nodes, a hidden layer with `10 nodes`, another hidden layer with a hidden layer with `5 nodes` and 10 output nodes (corresponding to the 10 fashion categories).\n",
    "\n",
    "We use `fashion_mnist.load_data()` to get the 70,000 images divided into a set of 60,000 training images and 10,000 test images. We hold back 5,000 of the 60,000 training images for validation. After training the model, we use Matplotlib to create 2 plots--displaying the training and validation loss (resp. accuracy) for each (training) epoch side by side."
   ]
  },
  {
   "cell_type": "code",
   "execution_count": 26,
   "metadata": {},
   "outputs": [],
   "source": [
    "# model = models.Sequential()\n",
    "\n",
    "\n",
    "# model.add(layers.Flatten(input_shape=[28, 28]))\n",
    "# model.add(layers.Dense(10, activation='relu'))\n",
    "# model.add(keras.layers.Dense(5, activation=\"relu\"))\n",
    "# model.add(layers.Dense(10, activation='softmax'))  "
   ]
  },
  {
   "cell_type": "code",
   "execution_count": 27,
   "metadata": {},
   "outputs": [],
   "source": [
    "# nstead of adding the layers one by one, we can pass a list of layers when creating the Sequential mode.\n",
    "model = models.Sequential([\n",
    "    keras.layers.Flatten(input_shape=[28, 28]),\n",
    "    keras.layers.Dense(10, activation=\"relu\"),\n",
    "    keras.layers.Dense(5, activation=\"relu\"),\n",
    "    keras.layers.Dense(10, activation=\"softmax\")\n",
    "])"
   ]
  },
  {
   "cell_type": "code",
   "execution_count": 28,
   "metadata": {},
   "outputs": [
    {
     "name": "stdout",
     "output_type": "stream",
     "text": [
      "Model: \"sequential_2\"\n",
      "_________________________________________________________________\n",
      "Layer (type)                 Output Shape              Param #   \n",
      "=================================================================\n",
      "flatten_2 (Flatten)          (None, 784)               0         \n",
      "_________________________________________________________________\n",
      "dense_4 (Dense)              (None, 10)                7850      \n",
      "_________________________________________________________________\n",
      "dense_5 (Dense)              (None, 5)                 55        \n",
      "_________________________________________________________________\n",
      "dense_6 (Dense)              (None, 10)                60        \n",
      "=================================================================\n",
      "Total params: 7,965\n",
      "Trainable params: 7,965\n",
      "Non-trainable params: 0\n",
      "_________________________________________________________________\n"
     ]
    }
   ],
   "source": [
    "model.summary()"
   ]
  },
  {
   "cell_type": "markdown",
   "metadata": {},
   "source": [
    "## Compiling the model\n",
    "\n",
    "To make our network ready for training, we need to pick three more things, as part of \"compilation\" step:\n",
    "\n",
    "* A loss function: the is how the network will be able to measure how good a job it is doing on its training data, and thus how it will be able to steer itself in the right direction.\n",
    "* An optimizer: this is the mechanism through which the network will update itself based on the data it sees and its loss function.\n",
    "* Metrics to monitor during training and testing. Here we will only care about accuracy (the fraction of the images that were correctly classified)."
   ]
  },
  {
   "cell_type": "code",
   "execution_count": 29,
   "metadata": {
    "scrolled": true
   },
   "outputs": [],
   "source": [
    "model.compile(optimizer='rmsprop',\n",
    "                loss='sparse_categorical_crossentropy',\n",
    "                metrics=['accuracy'])"
   ]
  },
  {
   "cell_type": "markdown",
   "metadata": {},
   "source": [
    "## Training the model\n",
    "\n",
    "We are now ready to train our network, which in Keras is done via a call to the `fit` method of the network: \n",
    "we \"fit\" the model to its training data. We train the model for 20 epochs with batch size 100. Also we pass the method the callback object we create to get the total training time."
   ]
  },
  {
   "cell_type": "code",
   "execution_count": 30,
   "metadata": {},
   "outputs": [
    {
     "name": "stdout",
     "output_type": "stream",
     "text": [
      "Train on 55000 samples, validate on 5000 samples\n",
      "Epoch 1/20\n",
      "55000/55000 [==============================] - 2s 35us/sample - loss: 1.2095 - accuracy: 0.6343 - val_loss: 0.7027 - val_accuracy: 0.7920\n",
      "Epoch 2/20\n",
      "55000/55000 [==============================] - 2s 28us/sample - loss: 0.6228 - accuracy: 0.8008 - val_loss: 0.5852 - val_accuracy: 0.8132\n",
      "Epoch 3/20\n",
      "55000/55000 [==============================] - 2s 28us/sample - loss: 0.5402 - accuracy: 0.8195 - val_loss: 0.5240 - val_accuracy: 0.8286\n",
      "Epoch 4/20\n",
      "55000/55000 [==============================] - 2s 28us/sample - loss: 0.5041 - accuracy: 0.8287 - val_loss: 0.5128 - val_accuracy: 0.8290\n",
      "Epoch 5/20\n",
      "55000/55000 [==============================] - 2s 27us/sample - loss: 0.4824 - accuracy: 0.8352 - val_loss: 0.4693 - val_accuracy: 0.8438\n",
      "Epoch 6/20\n",
      "55000/55000 [==============================] - 1s 27us/sample - loss: 0.4667 - accuracy: 0.8411 - val_loss: 0.4647 - val_accuracy: 0.8452\n",
      "Epoch 7/20\n",
      "55000/55000 [==============================] - 2s 27us/sample - loss: 0.4561 - accuracy: 0.8444 - val_loss: 0.4934 - val_accuracy: 0.8338\n",
      "Epoch 8/20\n",
      "55000/55000 [==============================] - 1s 27us/sample - loss: 0.4478 - accuracy: 0.8459 - val_loss: 0.4645 - val_accuracy: 0.8468\n",
      "Epoch 9/20\n",
      "55000/55000 [==============================] - 1s 27us/sample - loss: 0.4405 - accuracy: 0.8479 - val_loss: 0.4523 - val_accuracy: 0.8512\n",
      "Epoch 10/20\n",
      "55000/55000 [==============================] - 1s 27us/sample - loss: 0.4345 - accuracy: 0.8515 - val_loss: 0.4534 - val_accuracy: 0.8464\n",
      "Epoch 11/20\n",
      "55000/55000 [==============================] - 1s 27us/sample - loss: 0.4292 - accuracy: 0.8522 - val_loss: 0.4391 - val_accuracy: 0.8518\n",
      "Epoch 12/20\n",
      "55000/55000 [==============================] - 1s 27us/sample - loss: 0.4241 - accuracy: 0.8541 - val_loss: 0.4432 - val_accuracy: 0.8504\n",
      "Epoch 13/20\n",
      "55000/55000 [==============================] - 1s 27us/sample - loss: 0.4199 - accuracy: 0.8567 - val_loss: 0.4427 - val_accuracy: 0.8506\n"
     ]
    }
   ],
   "source": [
    "train_rt = TrainRuntimeCallback()\n",
    "cbs=[train_rt, keras.callbacks.EarlyStopping(patience=2, restore_best_weights=True)]\n",
    "history = model.fit(train_images, train_labels, callbacks=cbs, epochs=20,  batch_size = 128,\n",
    "                    validation_data=(val_images, val_labels))"
   ]
  },
  {
   "cell_type": "code",
   "execution_count": 31,
   "metadata": {},
   "outputs": [
    {
     "data": {
      "text/plain": [
       "19.92849"
      ]
     },
     "execution_count": 31,
     "metadata": {},
     "output_type": "execute_result"
    }
   ],
   "source": [
    "# Get the training time\n",
    "train_time = train_rt.process_time\n",
    "train_time # in seconds"
   ]
  },
  {
   "cell_type": "code",
   "execution_count": 32,
   "metadata": {},
   "outputs": [
    {
     "data": {
      "text/plain": [
       "[<tf.Variable 'dense_4/kernel:0' shape=(784, 10) dtype=float32, numpy=\n",
       " array([[ 0.05565518,  0.07286122,  0.02942113, ..., -0.0328737 ,\n",
       "         -0.09223387,  0.11778793],\n",
       "        [ 0.03707746, -0.14348288, -0.20096558, ...,  0.0981332 ,\n",
       "          0.04364045, -0.15248604],\n",
       "        [-0.13078152, -0.05554034,  0.25719738, ...,  0.1318852 ,\n",
       "          0.29695427,  0.28138632],\n",
       "        ...,\n",
       "        [ 0.13041212,  0.15836221, -0.29014036, ...,  0.08735931,\n",
       "          0.18251981, -0.04192863],\n",
       "        [ 0.06052782,  0.11870208, -0.16382757, ...,  0.14433244,\n",
       "          0.06172526,  0.01090691],\n",
       "        [-0.03795203, -0.00858802, -0.07040966, ...,  0.14210677,\n",
       "          0.22990885, -0.06576621]], dtype=float32)>,\n",
       " <tf.Variable 'dense_4/bias:0' shape=(10,) dtype=float32, numpy=\n",
       " array([ 0.5983737 ,  0.18111207,  0.04897305,  0.33454025,  0.19569074,\n",
       "         0.36115775,  0.16975242, -0.06747923,  0.22632161,  0.42837536],\n",
       "       dtype=float32)>]"
      ]
     },
     "execution_count": 32,
     "metadata": {},
     "output_type": "execute_result"
    }
   ],
   "source": [
    "model.layers[1].weights"
   ]
  },
  {
   "cell_type": "markdown",
   "metadata": {},
   "source": [
    "## Testing the model\n",
    "\n",
    "We are now ready to train our network, which in Keras is done via a call to the `evaluate` method of the network. Also we pass the method the callback object we create to get the total testing time."
   ]
  },
  {
   "cell_type": "code",
   "execution_count": 33,
   "metadata": {},
   "outputs": [
    {
     "name": "stdout",
     "output_type": "stream",
     "text": [
      "10000/10000 [==============================] - 1s 62us/sample - loss: 0.4704 - accuracy: 0.8388\n"
     ]
    }
   ],
   "source": [
    "test_rt = TestRuntimeCallback()\n",
    "test_loss, test_acc = model.evaluate(test_images, test_labels, callbacks=[test_rt])"
   ]
  },
  {
   "cell_type": "code",
   "execution_count": 34,
   "metadata": {},
   "outputs": [
    {
     "data": {
      "text/plain": [
       "[<tf.Variable 'dense_4/kernel:0' shape=(784, 10) dtype=float32, numpy=\n",
       " array([[ 0.05565518,  0.07286122,  0.02942113, ..., -0.0328737 ,\n",
       "         -0.09223387,  0.11778793],\n",
       "        [ 0.03707746, -0.14348288, -0.20096558, ...,  0.0981332 ,\n",
       "          0.04364045, -0.15248604],\n",
       "        [-0.13078152, -0.05554034,  0.25719738, ...,  0.1318852 ,\n",
       "          0.29695427,  0.28138632],\n",
       "        ...,\n",
       "        [ 0.13041212,  0.15836221, -0.29014036, ...,  0.08735931,\n",
       "          0.18251981, -0.04192863],\n",
       "        [ 0.06052782,  0.11870208, -0.16382757, ...,  0.14433244,\n",
       "          0.06172526,  0.01090691],\n",
       "        [-0.03795203, -0.00858802, -0.07040966, ...,  0.14210677,\n",
       "          0.22990885, -0.06576621]], dtype=float32)>,\n",
       " <tf.Variable 'dense_4/bias:0' shape=(10,) dtype=float32, numpy=\n",
       " array([ 0.5983737 ,  0.18111207,  0.04897305,  0.33454025,  0.19569074,\n",
       "         0.36115775,  0.16975242, -0.06747923,  0.22632161,  0.42837536],\n",
       "       dtype=float32)>]"
      ]
     },
     "execution_count": 34,
     "metadata": {},
     "output_type": "execute_result"
    }
   ],
   "source": [
    "model.layers[1].weights"
   ]
  },
  {
   "cell_type": "code",
   "execution_count": 35,
   "metadata": {},
   "outputs": [
    {
     "data": {
      "text/plain": [
       "0.624443"
      ]
     },
     "execution_count": 35,
     "metadata": {},
     "output_type": "execute_result"
    }
   ],
   "source": [
    "# Get the test time\n",
    "test_time = test_rt.process_time\n",
    "test_time # in seconds"
   ]
  },
  {
   "cell_type": "markdown",
   "metadata": {},
   "source": [
    "# Adding the statistics to our results DataFrame\n",
    "\n",
    "We add the performance statistics for the new model to our DataFrame."
   ]
  },
  {
   "cell_type": "raw",
   "metadata": {},
   "source": [
    "Use the history to get the rest of the statistics we need. Then add the training and test times like before"
   ]
  },
  {
   "cell_type": "code",
   "execution_count": 36,
   "metadata": {},
   "outputs": [
    {
     "data": {
      "text/html": [
       "<div>\n",
       "<style scoped>\n",
       "    .dataframe tbody tr th:only-of-type {\n",
       "        vertical-align: middle;\n",
       "    }\n",
       "\n",
       "    .dataframe tbody tr th {\n",
       "        vertical-align: top;\n",
       "    }\n",
       "\n",
       "    .dataframe thead th {\n",
       "        text-align: right;\n",
       "    }\n",
       "</style>\n",
       "<table border=\"1\" class=\"dataframe\">\n",
       "  <thead>\n",
       "    <tr style=\"text-align: right;\">\n",
       "      <th></th>\n",
       "      <th>model</th>\n",
       "      <th>loss</th>\n",
       "      <th>accuracy</th>\n",
       "      <th>val_loss</th>\n",
       "      <th>val_accuracy</th>\n",
       "      <th>training time (sec)</th>\n",
       "      <th>testing time (sec)</th>\n",
       "    </tr>\n",
       "  </thead>\n",
       "  <tbody>\n",
       "    <tr>\n",
       "      <th>12</th>\n",
       "      <td>DNN (3 layers)</td>\n",
       "      <td>0.419882</td>\n",
       "      <td>0.856727</td>\n",
       "      <td>0.442666</td>\n",
       "      <td>0.8506</td>\n",
       "      <td>19.92849</td>\n",
       "      <td>0.624443</td>\n",
       "    </tr>\n",
       "  </tbody>\n",
       "</table>\n",
       "</div>"
      ],
      "text/plain": [
       "             model      loss  accuracy  val_loss  val_accuracy  \\\n",
       "12  DNN (3 layers)  0.419882  0.856727  0.442666        0.8506   \n",
       "\n",
       "    training time (sec)  testing time (sec)  \n",
       "12             19.92849            0.624443  "
      ]
     },
     "execution_count": 36,
     "metadata": {},
     "output_type": "execute_result"
    }
   ],
   "source": [
    "history_dict = history.history\n",
    "history_df=pd.DataFrame(history_dict)\n",
    "results_df2 = history_df.iloc[-1:].copy()\n",
    "results_df2.insert(0,'model','DNN (3 layers)') # went the model name to appear first\n",
    "results_df2['training time (sec)'] = train_time      # we are okay with training time appearing last\n",
    "results_df2['testing time (sec)'] = test_time      # we are okay with training time appearing last\n",
    "results_df2"
   ]
  },
  {
   "cell_type": "raw",
   "metadata": {},
   "source": [
    "Add the new data to results_df"
   ]
  },
  {
   "cell_type": "code",
   "execution_count": 37,
   "metadata": {},
   "outputs": [
    {
     "data": {
      "text/html": [
       "<div>\n",
       "<style scoped>\n",
       "    .dataframe tbody tr th:only-of-type {\n",
       "        vertical-align: middle;\n",
       "    }\n",
       "\n",
       "    .dataframe tbody tr th {\n",
       "        vertical-align: top;\n",
       "    }\n",
       "\n",
       "    .dataframe thead th {\n",
       "        text-align: right;\n",
       "    }\n",
       "</style>\n",
       "<table border=\"1\" class=\"dataframe\">\n",
       "  <thead>\n",
       "    <tr style=\"text-align: right;\">\n",
       "      <th></th>\n",
       "      <th>model</th>\n",
       "      <th>loss</th>\n",
       "      <th>accuracy</th>\n",
       "      <th>val_loss</th>\n",
       "      <th>val_accuracy</th>\n",
       "      <th>training time (sec)</th>\n",
       "      <th>testing time (sec)</th>\n",
       "    </tr>\n",
       "  </thead>\n",
       "  <tbody>\n",
       "    <tr>\n",
       "      <th>0</th>\n",
       "      <td>DNN (2 layers)</td>\n",
       "      <td>0.465644</td>\n",
       "      <td>0.837618</td>\n",
       "      <td>0.470154</td>\n",
       "      <td>0.8410</td>\n",
       "      <td>28.136362</td>\n",
       "      <td>0.584556</td>\n",
       "    </tr>\n",
       "    <tr>\n",
       "      <th>1</th>\n",
       "      <td>DNN (3 layers)</td>\n",
       "      <td>0.419882</td>\n",
       "      <td>0.856727</td>\n",
       "      <td>0.442666</td>\n",
       "      <td>0.8506</td>\n",
       "      <td>19.928490</td>\n",
       "      <td>0.624443</td>\n",
       "    </tr>\n",
       "  </tbody>\n",
       "</table>\n",
       "</div>"
      ],
      "text/plain": [
       "            model      loss  accuracy  val_loss  val_accuracy  \\\n",
       "0  DNN (2 layers)  0.465644  0.837618  0.470154        0.8410   \n",
       "1  DNN (3 layers)  0.419882  0.856727  0.442666        0.8506   \n",
       "\n",
       "   training time (sec)  testing time (sec)  \n",
       "0            28.136362            0.584556  \n",
       "1            19.928490            0.624443  "
      ]
     },
     "execution_count": 37,
     "metadata": {},
     "output_type": "execute_result"
    }
   ],
   "source": [
    "results_df=results_df.append(results_df2,ignore_index=True)\n",
    "results_df"
   ]
  },
  {
   "cell_type": "markdown",
   "metadata": {},
   "source": [
    "## Saving our DataFrame to disk\n",
    "\n",
    "We pickle the DataFrame so that we keep adding to it Experiment 3."
   ]
  },
  {
   "cell_type": "code",
   "execution_count": 38,
   "metadata": {},
   "outputs": [],
   "source": [
    "results_df.to_pickle(\"results.pkl\") # save the DataFrame to use in Part 2"
   ]
  },
  {
   "cell_type": "markdown",
   "metadata": {},
   "source": [
    "## Plotting the performance \n",
    "\n",
    "We use Matplotlib to create 2 plots--displaying the training and validation loss (resp. accuracy) for each (training) epoch side by side."
   ]
  },
  {
   "cell_type": "code",
   "execution_count": 39,
   "metadata": {},
   "outputs": [
    {
     "data": {
      "image/png": "[encoded data removed]",
      "text/plain": [
       "<Figure size 432x288 with 1 Axes>"
      ]
     },
     "metadata": {
      "needs_background": "light"
     },
     "output_type": "display_data"
    }
   ],
   "source": [
    "acc = history.history['accuracy']\n",
    "val_acc = history.history['val_accuracy']\n",
    "loss = history.history['loss']\n",
    "val_loss = history.history['val_loss']\n",
    "\n",
    "epochs = range(1, len(acc) + 1)\n",
    "\n",
    "# \"bo\" is for \"blue dot\"\n",
    "plt.plot(epochs, loss, 'bo', label='Training loss')\n",
    "# b is for \"solid blue line\"\n",
    "plt.plot(epochs, val_loss, 'b', label='Validation loss')\n",
    "plt.title('Training and validation loss')\n",
    "\n",
    "plt.xlabel('Epochs')\n",
    "plt.ylabel('Loss')\n",
    "plt.legend()\n",
    "\n",
    "plt.show()"
   ]
  },
  {
   "cell_type": "code",
   "execution_count": 40,
   "metadata": {},
   "outputs": [
    {
     "data": {
      "image/png": "[encoded data removed]",
      "text/plain": [
       "<Figure size 432x288 with 1 Axes>"
      ]
     },
     "metadata": {
      "needs_background": "light"
     },
     "output_type": "display_data"
    }
   ],
   "source": [
    "plt.clf()   # clear figure\n",
    "acc_values = history_dict['accuracy']\n",
    "# val_acc_values = history_dict['val_acc']\n",
    "\n",
    "plt.plot(epochs, acc, 'bo', label='Training acc')\n",
    "plt.plot(epochs, val_acc, 'b', label='Validation acc')\n",
    "plt.title('Training and validation accuracy')\n",
    "\n",
    "plt.xlabel('Epochs')\n",
    "plt.ylabel('Accuracy')\n",
    "plt.legend()\n",
    "\n",
    "plt.show()"
   ]
  }
 ],
 "metadata": {
  "kernelspec": {
   "display_name": "Python 3",
   "language": "python",
   "name": "python3"
  },
  "language_info": {
   "codemirror_mode": {
    "name": "ipython",
    "version": 3
   },
   "file_extension": ".py",
   "mimetype": "text/x-python",
   "name": "python",
   "nbconvert_exporter": "python",
   "pygments_lexer": "ipython3",
   "version": "3.6.9"
  },
  "toc": {
   "base_numbering": 1,
   "nav_menu": {},
   "number_sections": false,
   "sideBar": true,
   "skip_h1_title": false,
   "title_cell": "Table of Contents",
   "title_sidebar": "Contents",
   "toc_cell": false,
   "toc_position": {},
   "toc_section_display": true,
   "toc_window_display": true
  }
 },
 "nbformat": 4,
 "nbformat_minor": 4
}
